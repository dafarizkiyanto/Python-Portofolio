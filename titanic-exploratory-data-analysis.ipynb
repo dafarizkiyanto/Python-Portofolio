{
 "cells": [
  {
   "cell_type": "code",
   "execution_count": 1,
   "id": "6f883527",
   "metadata": {
    "execution": {
     "iopub.execute_input": "2024-11-01T04:50:48.427449Z",
     "iopub.status.busy": "2024-11-01T04:50:48.426993Z",
     "iopub.status.idle": "2024-11-01T04:50:49.280595Z",
     "shell.execute_reply": "2024-11-01T04:50:49.279413Z"
    },
    "executionInfo": {
     "elapsed": 531,
     "status": "ok",
     "timestamp": 1719433745626,
     "user": {
      "displayName": "Muhamad Dafa Rizkiyanto",
      "userId": "16029394966179110856"
     },
     "user_tz": -420
    },
    "id": "G_V-Xod1IlQl",
    "papermill": {
     "duration": 0.886482,
     "end_time": "2024-11-01T04:50:49.283129",
     "exception": false,
     "start_time": "2024-11-01T04:50:48.396647",
     "status": "completed"
    },
    "tags": []
   },
   "outputs": [],
   "source": [
    "import pandas as pd\n",
    "import numpy as np"
   ]
  },
  {
   "cell_type": "code",
   "execution_count": 2,
   "id": "8728ff01",
   "metadata": {
    "execution": {
     "iopub.execute_input": "2024-11-01T04:50:49.340584Z",
     "iopub.status.busy": "2024-11-01T04:50:49.339443Z",
     "iopub.status.idle": "2024-11-01T04:50:49.347124Z",
     "shell.execute_reply": "2024-11-01T04:50:49.345606Z"
    },
    "papermill": {
     "duration": 0.038824,
     "end_time": "2024-11-01T04:50:49.349472",
     "exception": false,
     "start_time": "2024-11-01T04:50:49.310648",
     "status": "completed"
    },
    "tags": []
   },
   "outputs": [
    {
     "name": "stdout",
     "output_type": "stream",
     "text": [
      "/kaggle/input/titanic/train.csv\n",
      "/kaggle/input/titanic/test.csv\n",
      "/kaggle/input/titanic/gender_submission.csv\n"
     ]
    }
   ],
   "source": [
    "import os\n",
    "for dirname, _, filenames in os.walk('/kaggle/input'):\n",
    "    for filename in filenames:\n",
    "        print(os.path.join(dirname, filename))"
   ]
  },
  {
   "cell_type": "code",
   "execution_count": 3,
   "id": "af1bf754",
   "metadata": {
    "execution": {
     "iopub.execute_input": "2024-11-01T04:50:49.406478Z",
     "iopub.status.busy": "2024-11-01T04:50:49.406012Z",
     "iopub.status.idle": "2024-11-01T04:50:49.433657Z",
     "shell.execute_reply": "2024-11-01T04:50:49.432685Z"
    },
    "executionInfo": {
     "elapsed": 9,
     "status": "ok",
     "timestamp": 1719433746035,
     "user": {
      "displayName": "Muhamad Dafa Rizkiyanto",
      "userId": "16029394966179110856"
     },
     "user_tz": -420
    },
    "id": "Y8v-tw7JIuLa",
    "papermill": {
     "duration": 0.058904,
     "end_time": "2024-11-01T04:50:49.436140",
     "exception": false,
     "start_time": "2024-11-01T04:50:49.377236",
     "status": "completed"
    },
    "tags": []
   },
   "outputs": [],
   "source": [
    "train = pd.read_csv('/kaggle/input/titanic/train.csv', encoding='latin-1')\n",
    "test = pd.read_csv('/kaggle/input/titanic/test.csv', encoding='latin-1')"
   ]
  },
  {
   "cell_type": "code",
   "execution_count": 4,
   "id": "92e8a7e1",
   "metadata": {
    "execution": {
     "iopub.execute_input": "2024-11-01T04:50:49.493305Z",
     "iopub.status.busy": "2024-11-01T04:50:49.492853Z",
     "iopub.status.idle": "2024-11-01T04:50:49.518241Z",
     "shell.execute_reply": "2024-11-01T04:50:49.517254Z"
    },
    "executionInfo": {
     "elapsed": 9,
     "status": "ok",
     "timestamp": 1719433746035,
     "user": {
      "displayName": "Muhamad Dafa Rizkiyanto",
      "userId": "16029394966179110856"
     },
     "user_tz": -420
    },
    "id": "cpNsC205I1Hs",
    "outputId": "607f7ced-3b16-43b2-c1ae-28cb15aedbb3",
    "papermill": {
     "duration": 0.056553,
     "end_time": "2024-11-01T04:50:49.520453",
     "exception": false,
     "start_time": "2024-11-01T04:50:49.463900",
     "status": "completed"
    },
    "tags": []
   },
   "outputs": [
    {
     "data": {
      "text/html": [
       "<div>\n",
       "<style scoped>\n",
       "    .dataframe tbody tr th:only-of-type {\n",
       "        vertical-align: middle;\n",
       "    }\n",
       "\n",
       "    .dataframe tbody tr th {\n",
       "        vertical-align: top;\n",
       "    }\n",
       "\n",
       "    .dataframe thead th {\n",
       "        text-align: right;\n",
       "    }\n",
       "</style>\n",
       "<table border=\"1\" class=\"dataframe\">\n",
       "  <thead>\n",
       "    <tr style=\"text-align: right;\">\n",
       "      <th></th>\n",
       "      <th>PassengerId</th>\n",
       "      <th>Survived</th>\n",
       "      <th>Pclass</th>\n",
       "      <th>Name</th>\n",
       "      <th>Sex</th>\n",
       "      <th>Age</th>\n",
       "      <th>SibSp</th>\n",
       "      <th>Parch</th>\n",
       "      <th>Ticket</th>\n",
       "      <th>Fare</th>\n",
       "      <th>Cabin</th>\n",
       "      <th>Embarked</th>\n",
       "    </tr>\n",
       "  </thead>\n",
       "  <tbody>\n",
       "    <tr>\n",
       "      <th>0</th>\n",
       "      <td>1</td>\n",
       "      <td>0</td>\n",
       "      <td>3</td>\n",
       "      <td>Braund, Mr. Owen Harris</td>\n",
       "      <td>male</td>\n",
       "      <td>22.0</td>\n",
       "      <td>1</td>\n",
       "      <td>0</td>\n",
       "      <td>A/5 21171</td>\n",
       "      <td>7.2500</td>\n",
       "      <td>NaN</td>\n",
       "      <td>S</td>\n",
       "    </tr>\n",
       "    <tr>\n",
       "      <th>1</th>\n",
       "      <td>2</td>\n",
       "      <td>1</td>\n",
       "      <td>1</td>\n",
       "      <td>Cumings, Mrs. John Bradley (Florence Briggs Th...</td>\n",
       "      <td>female</td>\n",
       "      <td>38.0</td>\n",
       "      <td>1</td>\n",
       "      <td>0</td>\n",
       "      <td>PC 17599</td>\n",
       "      <td>71.2833</td>\n",
       "      <td>C85</td>\n",
       "      <td>C</td>\n",
       "    </tr>\n",
       "    <tr>\n",
       "      <th>2</th>\n",
       "      <td>3</td>\n",
       "      <td>1</td>\n",
       "      <td>3</td>\n",
       "      <td>Heikkinen, Miss. Laina</td>\n",
       "      <td>female</td>\n",
       "      <td>26.0</td>\n",
       "      <td>0</td>\n",
       "      <td>0</td>\n",
       "      <td>STON/O2. 3101282</td>\n",
       "      <td>7.9250</td>\n",
       "      <td>NaN</td>\n",
       "      <td>S</td>\n",
       "    </tr>\n",
       "    <tr>\n",
       "      <th>3</th>\n",
       "      <td>4</td>\n",
       "      <td>1</td>\n",
       "      <td>1</td>\n",
       "      <td>Futrelle, Mrs. Jacques Heath (Lily May Peel)</td>\n",
       "      <td>female</td>\n",
       "      <td>35.0</td>\n",
       "      <td>1</td>\n",
       "      <td>0</td>\n",
       "      <td>113803</td>\n",
       "      <td>53.1000</td>\n",
       "      <td>C123</td>\n",
       "      <td>S</td>\n",
       "    </tr>\n",
       "    <tr>\n",
       "      <th>4</th>\n",
       "      <td>5</td>\n",
       "      <td>0</td>\n",
       "      <td>3</td>\n",
       "      <td>Allen, Mr. William Henry</td>\n",
       "      <td>male</td>\n",
       "      <td>35.0</td>\n",
       "      <td>0</td>\n",
       "      <td>0</td>\n",
       "      <td>373450</td>\n",
       "      <td>8.0500</td>\n",
       "      <td>NaN</td>\n",
       "      <td>S</td>\n",
       "    </tr>\n",
       "  </tbody>\n",
       "</table>\n",
       "</div>"
      ],
      "text/plain": [
       "   PassengerId  Survived  Pclass  \\\n",
       "0            1         0       3   \n",
       "1            2         1       1   \n",
       "2            3         1       3   \n",
       "3            4         1       1   \n",
       "4            5         0       3   \n",
       "\n",
       "                                                Name     Sex   Age  SibSp  \\\n",
       "0                            Braund, Mr. Owen Harris    male  22.0      1   \n",
       "1  Cumings, Mrs. John Bradley (Florence Briggs Th...  female  38.0      1   \n",
       "2                             Heikkinen, Miss. Laina  female  26.0      0   \n",
       "3       Futrelle, Mrs. Jacques Heath (Lily May Peel)  female  35.0      1   \n",
       "4                           Allen, Mr. William Henry    male  35.0      0   \n",
       "\n",
       "   Parch            Ticket     Fare Cabin Embarked  \n",
       "0      0         A/5 21171   7.2500   NaN        S  \n",
       "1      0          PC 17599  71.2833   C85        C  \n",
       "2      0  STON/O2. 3101282   7.9250   NaN        S  \n",
       "3      0            113803  53.1000  C123        S  \n",
       "4      0            373450   8.0500   NaN        S  "
      ]
     },
     "execution_count": 4,
     "metadata": {},
     "output_type": "execute_result"
    }
   ],
   "source": [
    "train.head(5)"
   ]
  },
  {
   "cell_type": "code",
   "execution_count": 5,
   "id": "91c42436",
   "metadata": {
    "execution": {
     "iopub.execute_input": "2024-11-01T04:50:49.578344Z",
     "iopub.status.busy": "2024-11-01T04:50:49.577876Z",
     "iopub.status.idle": "2024-11-01T04:50:49.594241Z",
     "shell.execute_reply": "2024-11-01T04:50:49.593157Z"
    },
    "executionInfo": {
     "elapsed": 8,
     "status": "ok",
     "timestamp": 1719433746035,
     "user": {
      "displayName": "Muhamad Dafa Rizkiyanto",
      "userId": "16029394966179110856"
     },
     "user_tz": -420
    },
    "id": "J5J_mBMkI4Za",
    "outputId": "8459f112-6acf-4e60-9fba-33cc215fd0bb",
    "papermill": {
     "duration": 0.048006,
     "end_time": "2024-11-01T04:50:49.596651",
     "exception": false,
     "start_time": "2024-11-01T04:50:49.548645",
     "status": "completed"
    },
    "tags": []
   },
   "outputs": [
    {
     "data": {
      "text/html": [
       "<div>\n",
       "<style scoped>\n",
       "    .dataframe tbody tr th:only-of-type {\n",
       "        vertical-align: middle;\n",
       "    }\n",
       "\n",
       "    .dataframe tbody tr th {\n",
       "        vertical-align: top;\n",
       "    }\n",
       "\n",
       "    .dataframe thead th {\n",
       "        text-align: right;\n",
       "    }\n",
       "</style>\n",
       "<table border=\"1\" class=\"dataframe\">\n",
       "  <thead>\n",
       "    <tr style=\"text-align: right;\">\n",
       "      <th></th>\n",
       "      <th>PassengerId</th>\n",
       "      <th>Survived</th>\n",
       "      <th>Pclass</th>\n",
       "      <th>Name</th>\n",
       "      <th>Sex</th>\n",
       "      <th>Age</th>\n",
       "      <th>SibSp</th>\n",
       "      <th>Parch</th>\n",
       "      <th>Ticket</th>\n",
       "      <th>Fare</th>\n",
       "      <th>Cabin</th>\n",
       "      <th>Embarked</th>\n",
       "    </tr>\n",
       "  </thead>\n",
       "  <tbody>\n",
       "    <tr>\n",
       "      <th>886</th>\n",
       "      <td>887</td>\n",
       "      <td>0</td>\n",
       "      <td>2</td>\n",
       "      <td>Montvila, Rev. Juozas</td>\n",
       "      <td>male</td>\n",
       "      <td>27.0</td>\n",
       "      <td>0</td>\n",
       "      <td>0</td>\n",
       "      <td>211536</td>\n",
       "      <td>13.00</td>\n",
       "      <td>NaN</td>\n",
       "      <td>S</td>\n",
       "    </tr>\n",
       "    <tr>\n",
       "      <th>887</th>\n",
       "      <td>888</td>\n",
       "      <td>1</td>\n",
       "      <td>1</td>\n",
       "      <td>Graham, Miss. Margaret Edith</td>\n",
       "      <td>female</td>\n",
       "      <td>19.0</td>\n",
       "      <td>0</td>\n",
       "      <td>0</td>\n",
       "      <td>112053</td>\n",
       "      <td>30.00</td>\n",
       "      <td>B42</td>\n",
       "      <td>S</td>\n",
       "    </tr>\n",
       "    <tr>\n",
       "      <th>888</th>\n",
       "      <td>889</td>\n",
       "      <td>0</td>\n",
       "      <td>3</td>\n",
       "      <td>Johnston, Miss. Catherine Helen \"Carrie\"</td>\n",
       "      <td>female</td>\n",
       "      <td>NaN</td>\n",
       "      <td>1</td>\n",
       "      <td>2</td>\n",
       "      <td>W./C. 6607</td>\n",
       "      <td>23.45</td>\n",
       "      <td>NaN</td>\n",
       "      <td>S</td>\n",
       "    </tr>\n",
       "    <tr>\n",
       "      <th>889</th>\n",
       "      <td>890</td>\n",
       "      <td>1</td>\n",
       "      <td>1</td>\n",
       "      <td>Behr, Mr. Karl Howell</td>\n",
       "      <td>male</td>\n",
       "      <td>26.0</td>\n",
       "      <td>0</td>\n",
       "      <td>0</td>\n",
       "      <td>111369</td>\n",
       "      <td>30.00</td>\n",
       "      <td>C148</td>\n",
       "      <td>C</td>\n",
       "    </tr>\n",
       "    <tr>\n",
       "      <th>890</th>\n",
       "      <td>891</td>\n",
       "      <td>0</td>\n",
       "      <td>3</td>\n",
       "      <td>Dooley, Mr. Patrick</td>\n",
       "      <td>male</td>\n",
       "      <td>32.0</td>\n",
       "      <td>0</td>\n",
       "      <td>0</td>\n",
       "      <td>370376</td>\n",
       "      <td>7.75</td>\n",
       "      <td>NaN</td>\n",
       "      <td>Q</td>\n",
       "    </tr>\n",
       "  </tbody>\n",
       "</table>\n",
       "</div>"
      ],
      "text/plain": [
       "     PassengerId  Survived  Pclass                                      Name  \\\n",
       "886          887         0       2                     Montvila, Rev. Juozas   \n",
       "887          888         1       1              Graham, Miss. Margaret Edith   \n",
       "888          889         0       3  Johnston, Miss. Catherine Helen \"Carrie\"   \n",
       "889          890         1       1                     Behr, Mr. Karl Howell   \n",
       "890          891         0       3                       Dooley, Mr. Patrick   \n",
       "\n",
       "        Sex   Age  SibSp  Parch      Ticket   Fare Cabin Embarked  \n",
       "886    male  27.0      0      0      211536  13.00   NaN        S  \n",
       "887  female  19.0      0      0      112053  30.00   B42        S  \n",
       "888  female   NaN      1      2  W./C. 6607  23.45   NaN        S  \n",
       "889    male  26.0      0      0      111369  30.00  C148        C  \n",
       "890    male  32.0      0      0      370376   7.75   NaN        Q  "
      ]
     },
     "execution_count": 5,
     "metadata": {},
     "output_type": "execute_result"
    }
   ],
   "source": [
    "train.tail()"
   ]
  },
  {
   "cell_type": "code",
   "execution_count": 6,
   "id": "72a8cd30",
   "metadata": {
    "execution": {
     "iopub.execute_input": "2024-11-01T04:50:49.654880Z",
     "iopub.status.busy": "2024-11-01T04:50:49.654114Z",
     "iopub.status.idle": "2024-11-01T04:50:49.660903Z",
     "shell.execute_reply": "2024-11-01T04:50:49.659949Z"
    },
    "executionInfo": {
     "elapsed": 8,
     "status": "ok",
     "timestamp": 1719433746036,
     "user": {
      "displayName": "Muhamad Dafa Rizkiyanto",
      "userId": "16029394966179110856"
     },
     "user_tz": -420
    },
    "id": "7ITa7gntI6hq",
    "outputId": "bc2fe53c-43a4-4f0a-8894-6fdf3da16121",
    "papermill": {
     "duration": 0.038472,
     "end_time": "2024-11-01T04:50:49.663122",
     "exception": false,
     "start_time": "2024-11-01T04:50:49.624650",
     "status": "completed"
    },
    "tags": []
   },
   "outputs": [
    {
     "data": {
      "text/plain": [
       "(891, 12)"
      ]
     },
     "execution_count": 6,
     "metadata": {},
     "output_type": "execute_result"
    }
   ],
   "source": [
    "train.shape"
   ]
  },
  {
   "cell_type": "code",
   "execution_count": 7,
   "id": "6e664c46",
   "metadata": {
    "execution": {
     "iopub.execute_input": "2024-11-01T04:50:49.721893Z",
     "iopub.status.busy": "2024-11-01T04:50:49.720833Z",
     "iopub.status.idle": "2024-11-01T04:50:49.746480Z",
     "shell.execute_reply": "2024-11-01T04:50:49.745263Z"
    },
    "executionInfo": {
     "elapsed": 6,
     "status": "ok",
     "timestamp": 1719433746036,
     "user": {
      "displayName": "Muhamad Dafa Rizkiyanto",
      "userId": "16029394966179110856"
     },
     "user_tz": -420
    },
    "id": "oNI6WPPlI-BL",
    "outputId": "78cf4829-87c9-47ff-de36-234bf0c6b11c",
    "papermill": {
     "duration": 0.057661,
     "end_time": "2024-11-01T04:50:49.748981",
     "exception": false,
     "start_time": "2024-11-01T04:50:49.691320",
     "status": "completed"
    },
    "tags": []
   },
   "outputs": [
    {
     "name": "stdout",
     "output_type": "stream",
     "text": [
      "<class 'pandas.core.frame.DataFrame'>\n",
      "RangeIndex: 891 entries, 0 to 890\n",
      "Data columns (total 12 columns):\n",
      " #   Column       Non-Null Count  Dtype  \n",
      "---  ------       --------------  -----  \n",
      " 0   PassengerId  891 non-null    int64  \n",
      " 1   Survived     891 non-null    int64  \n",
      " 2   Pclass       891 non-null    int64  \n",
      " 3   Name         891 non-null    object \n",
      " 4   Sex          891 non-null    object \n",
      " 5   Age          714 non-null    float64\n",
      " 6   SibSp        891 non-null    int64  \n",
      " 7   Parch        891 non-null    int64  \n",
      " 8   Ticket       891 non-null    object \n",
      " 9   Fare         891 non-null    float64\n",
      " 10  Cabin        204 non-null    object \n",
      " 11  Embarked     889 non-null    object \n",
      "dtypes: float64(2), int64(5), object(5)\n",
      "memory usage: 83.7+ KB\n"
     ]
    }
   ],
   "source": [
    "train.info()"
   ]
  },
  {
   "cell_type": "code",
   "execution_count": 8,
   "id": "de6d7444",
   "metadata": {
    "execution": {
     "iopub.execute_input": "2024-11-01T04:50:49.807492Z",
     "iopub.status.busy": "2024-11-01T04:50:49.806905Z",
     "iopub.status.idle": "2024-11-01T04:50:49.838802Z",
     "shell.execute_reply": "2024-11-01T04:50:49.837747Z"
    },
    "executionInfo": {
     "elapsed": 580,
     "status": "ok",
     "timestamp": 1719433746612,
     "user": {
      "displayName": "Muhamad Dafa Rizkiyanto",
      "userId": "16029394966179110856"
     },
     "user_tz": -420
    },
    "id": "AsiRrG-AJUt5",
    "outputId": "c7972843-a46d-4756-c4b5-085225fa3fdf",
    "papermill": {
     "duration": 0.06376,
     "end_time": "2024-11-01T04:50:49.841258",
     "exception": false,
     "start_time": "2024-11-01T04:50:49.777498",
     "status": "completed"
    },
    "tags": []
   },
   "outputs": [
    {
     "data": {
      "text/html": [
       "<div>\n",
       "<style scoped>\n",
       "    .dataframe tbody tr th:only-of-type {\n",
       "        vertical-align: middle;\n",
       "    }\n",
       "\n",
       "    .dataframe tbody tr th {\n",
       "        vertical-align: top;\n",
       "    }\n",
       "\n",
       "    .dataframe thead th {\n",
       "        text-align: right;\n",
       "    }\n",
       "</style>\n",
       "<table border=\"1\" class=\"dataframe\">\n",
       "  <thead>\n",
       "    <tr style=\"text-align: right;\">\n",
       "      <th></th>\n",
       "      <th>PassengerId</th>\n",
       "      <th>Survived</th>\n",
       "      <th>Pclass</th>\n",
       "      <th>Age</th>\n",
       "      <th>SibSp</th>\n",
       "      <th>Parch</th>\n",
       "      <th>Fare</th>\n",
       "    </tr>\n",
       "  </thead>\n",
       "  <tbody>\n",
       "    <tr>\n",
       "      <th>count</th>\n",
       "      <td>891.000000</td>\n",
       "      <td>891.000000</td>\n",
       "      <td>891.000000</td>\n",
       "      <td>714.000000</td>\n",
       "      <td>891.000000</td>\n",
       "      <td>891.000000</td>\n",
       "      <td>891.000000</td>\n",
       "    </tr>\n",
       "    <tr>\n",
       "      <th>mean</th>\n",
       "      <td>446.000000</td>\n",
       "      <td>0.383838</td>\n",
       "      <td>2.308642</td>\n",
       "      <td>29.699118</td>\n",
       "      <td>0.523008</td>\n",
       "      <td>0.381594</td>\n",
       "      <td>32.204208</td>\n",
       "    </tr>\n",
       "    <tr>\n",
       "      <th>std</th>\n",
       "      <td>257.353842</td>\n",
       "      <td>0.486592</td>\n",
       "      <td>0.836071</td>\n",
       "      <td>14.526497</td>\n",
       "      <td>1.102743</td>\n",
       "      <td>0.806057</td>\n",
       "      <td>49.693429</td>\n",
       "    </tr>\n",
       "    <tr>\n",
       "      <th>min</th>\n",
       "      <td>1.000000</td>\n",
       "      <td>0.000000</td>\n",
       "      <td>1.000000</td>\n",
       "      <td>0.420000</td>\n",
       "      <td>0.000000</td>\n",
       "      <td>0.000000</td>\n",
       "      <td>0.000000</td>\n",
       "    </tr>\n",
       "    <tr>\n",
       "      <th>25%</th>\n",
       "      <td>223.500000</td>\n",
       "      <td>0.000000</td>\n",
       "      <td>2.000000</td>\n",
       "      <td>20.125000</td>\n",
       "      <td>0.000000</td>\n",
       "      <td>0.000000</td>\n",
       "      <td>7.910400</td>\n",
       "    </tr>\n",
       "    <tr>\n",
       "      <th>50%</th>\n",
       "      <td>446.000000</td>\n",
       "      <td>0.000000</td>\n",
       "      <td>3.000000</td>\n",
       "      <td>28.000000</td>\n",
       "      <td>0.000000</td>\n",
       "      <td>0.000000</td>\n",
       "      <td>14.454200</td>\n",
       "    </tr>\n",
       "    <tr>\n",
       "      <th>75%</th>\n",
       "      <td>668.500000</td>\n",
       "      <td>1.000000</td>\n",
       "      <td>3.000000</td>\n",
       "      <td>38.000000</td>\n",
       "      <td>1.000000</td>\n",
       "      <td>0.000000</td>\n",
       "      <td>31.000000</td>\n",
       "    </tr>\n",
       "    <tr>\n",
       "      <th>max</th>\n",
       "      <td>891.000000</td>\n",
       "      <td>1.000000</td>\n",
       "      <td>3.000000</td>\n",
       "      <td>80.000000</td>\n",
       "      <td>8.000000</td>\n",
       "      <td>6.000000</td>\n",
       "      <td>512.329200</td>\n",
       "    </tr>\n",
       "  </tbody>\n",
       "</table>\n",
       "</div>"
      ],
      "text/plain": [
       "       PassengerId    Survived      Pclass         Age       SibSp  \\\n",
       "count   891.000000  891.000000  891.000000  714.000000  891.000000   \n",
       "mean    446.000000    0.383838    2.308642   29.699118    0.523008   \n",
       "std     257.353842    0.486592    0.836071   14.526497    1.102743   \n",
       "min       1.000000    0.000000    1.000000    0.420000    0.000000   \n",
       "25%     223.500000    0.000000    2.000000   20.125000    0.000000   \n",
       "50%     446.000000    0.000000    3.000000   28.000000    0.000000   \n",
       "75%     668.500000    1.000000    3.000000   38.000000    1.000000   \n",
       "max     891.000000    1.000000    3.000000   80.000000    8.000000   \n",
       "\n",
       "            Parch        Fare  \n",
       "count  891.000000  891.000000  \n",
       "mean     0.381594   32.204208  \n",
       "std      0.806057   49.693429  \n",
       "min      0.000000    0.000000  \n",
       "25%      0.000000    7.910400  \n",
       "50%      0.000000   14.454200  \n",
       "75%      0.000000   31.000000  \n",
       "max      6.000000  512.329200  "
      ]
     },
     "execution_count": 8,
     "metadata": {},
     "output_type": "execute_result"
    }
   ],
   "source": [
    "train.describe()"
   ]
  },
  {
   "cell_type": "code",
   "execution_count": 9,
   "id": "10765c7c",
   "metadata": {
    "execution": {
     "iopub.execute_input": "2024-11-01T04:50:49.900747Z",
     "iopub.status.busy": "2024-11-01T04:50:49.899736Z",
     "iopub.status.idle": "2024-11-01T04:50:49.908726Z",
     "shell.execute_reply": "2024-11-01T04:50:49.907701Z"
    },
    "executionInfo": {
     "elapsed": 5,
     "status": "ok",
     "timestamp": 1719433746612,
     "user": {
      "displayName": "Muhamad Dafa Rizkiyanto",
      "userId": "16029394966179110856"
     },
     "user_tz": -420
    },
    "id": "OoFsokZoJck7",
    "outputId": "6dee01e5-1639-443c-db9e-97996cac582f",
    "papermill": {
     "duration": 0.041074,
     "end_time": "2024-11-01T04:50:49.910933",
     "exception": false,
     "start_time": "2024-11-01T04:50:49.869859",
     "status": "completed"
    },
    "tags": []
   },
   "outputs": [
    {
     "data": {
      "text/plain": [
       "PassengerId      0\n",
       "Survived         0\n",
       "Pclass           0\n",
       "Name             0\n",
       "Sex              0\n",
       "Age            177\n",
       "SibSp            0\n",
       "Parch            0\n",
       "Ticket           0\n",
       "Fare             0\n",
       "Cabin          687\n",
       "Embarked         2\n",
       "dtype: int64"
      ]
     },
     "execution_count": 9,
     "metadata": {},
     "output_type": "execute_result"
    }
   ],
   "source": [
    "train.isnull().sum()"
   ]
  },
  {
   "cell_type": "code",
   "execution_count": null,
   "id": "3a50632a",
   "metadata": {
    "executionInfo": {
     "elapsed": 3,
     "status": "ok",
     "timestamp": 1719433746612,
     "user": {
      "displayName": "Muhamad Dafa Rizkiyanto",
      "userId": "16029394966179110856"
     },
     "user_tz": -420
    },
    "id": "5JaBOO9EdKS0",
    "papermill": {
     "duration": 0.028503,
     "end_time": "2024-11-01T04:50:49.967993",
     "exception": false,
     "start_time": "2024-11-01T04:50:49.939490",
     "status": "completed"
    },
    "tags": []
   },
   "outputs": [],
   "source": []
  },
  {
   "cell_type": "markdown",
   "id": "0b180a4c",
   "metadata": {
    "id": "qEGo2BqAJwZW",
    "papermill": {
     "duration": 0.028222,
     "end_time": "2024-11-01T04:50:50.024613",
     "exception": false,
     "start_time": "2024-11-01T04:50:49.996391",
     "status": "completed"
    },
    "tags": []
   },
   "source": [
    "# **VISUALISASI**"
   ]
  },
  {
   "cell_type": "code",
   "execution_count": 10,
   "id": "2eac3d46",
   "metadata": {
    "execution": {
     "iopub.execute_input": "2024-11-01T04:50:50.085891Z",
     "iopub.status.busy": "2024-11-01T04:50:50.084873Z",
     "iopub.status.idle": "2024-11-01T04:50:51.675945Z",
     "shell.execute_reply": "2024-11-01T04:50:51.674950Z"
    },
    "executionInfo": {
     "elapsed": 897,
     "status": "ok",
     "timestamp": 1719433747507,
     "user": {
      "displayName": "Muhamad Dafa Rizkiyanto",
      "userId": "16029394966179110856"
     },
     "user_tz": -420
    },
    "id": "j7h2Cx_GJyw9",
    "papermill": {
     "duration": 1.625076,
     "end_time": "2024-11-01T04:50:51.678609",
     "exception": false,
     "start_time": "2024-11-01T04:50:50.053533",
     "status": "completed"
    },
    "tags": []
   },
   "outputs": [],
   "source": [
    "import matplotlib.pyplot as plt\n",
    "import seaborn as sns"
   ]
  },
  {
   "cell_type": "code",
   "execution_count": 11,
   "id": "5fbdb496",
   "metadata": {
    "execution": {
     "iopub.execute_input": "2024-11-01T04:50:51.794487Z",
     "iopub.status.busy": "2024-11-01T04:50:51.793445Z",
     "iopub.status.idle": "2024-11-01T04:50:51.802582Z",
     "shell.execute_reply": "2024-11-01T04:50:51.801387Z"
    },
    "executionInfo": {
     "elapsed": 7,
     "status": "ok",
     "timestamp": 1719433747507,
     "user": {
      "displayName": "Muhamad Dafa Rizkiyanto",
      "userId": "16029394966179110856"
     },
     "user_tz": -420
    },
    "id": "-ude2i4fJ8Wt",
    "outputId": "43582b5c-7e83-4c2d-a19c-e95bd0ed85ac",
    "papermill": {
     "duration": 0.041441,
     "end_time": "2024-11-01T04:50:51.804919",
     "exception": false,
     "start_time": "2024-11-01T04:50:51.763478",
     "status": "completed"
    },
    "tags": []
   },
   "outputs": [
    {
     "data": {
      "text/plain": [
       "Sex\n",
       "male      577\n",
       "female    314\n",
       "Name: count, dtype: int64"
      ]
     },
     "execution_count": 11,
     "metadata": {},
     "output_type": "execute_result"
    }
   ],
   "source": [
    "train['Sex'].value_counts()"
   ]
  },
  {
   "cell_type": "code",
   "execution_count": 12,
   "id": "b1ed4f80",
   "metadata": {
    "execution": {
     "iopub.execute_input": "2024-11-01T04:50:51.864970Z",
     "iopub.status.busy": "2024-11-01T04:50:51.864085Z",
     "iopub.status.idle": "2024-11-01T04:50:51.870341Z",
     "shell.execute_reply": "2024-11-01T04:50:51.869257Z"
    },
    "executionInfo": {
     "elapsed": 6,
     "status": "ok",
     "timestamp": 1719433747507,
     "user": {
      "displayName": "Muhamad Dafa Rizkiyanto",
      "userId": "16029394966179110856"
     },
     "user_tz": -420
    },
    "id": "s5D8CkAIKHW4",
    "papermill": {
     "duration": 0.03901,
     "end_time": "2024-11-01T04:50:51.872605",
     "exception": false,
     "start_time": "2024-11-01T04:50:51.833595",
     "status": "completed"
    },
    "tags": []
   },
   "outputs": [],
   "source": [
    "count_sex = train['Sex'].value_counts()\n",
    "\n",
    "index_sex = count_sex.index\n",
    "values_sex = count_sex.values"
   ]
  },
  {
   "cell_type": "code",
   "execution_count": 13,
   "id": "3e2fa70e",
   "metadata": {
    "execution": {
     "iopub.execute_input": "2024-11-01T04:50:51.933087Z",
     "iopub.status.busy": "2024-11-01T04:50:51.932520Z",
     "iopub.status.idle": "2024-11-01T04:50:51.939659Z",
     "shell.execute_reply": "2024-11-01T04:50:51.938584Z"
    },
    "executionInfo": {
     "elapsed": 6,
     "status": "ok",
     "timestamp": 1719433747508,
     "user": {
      "displayName": "Muhamad Dafa Rizkiyanto",
      "userId": "16029394966179110856"
     },
     "user_tz": -420
    },
    "id": "emArrV34KjIF",
    "outputId": "8f6e7d07-2ef0-48f6-e5a3-6201e639461a",
    "papermill": {
     "duration": 0.040475,
     "end_time": "2024-11-01T04:50:51.941955",
     "exception": false,
     "start_time": "2024-11-01T04:50:51.901480",
     "status": "completed"
    },
    "tags": []
   },
   "outputs": [
    {
     "data": {
      "text/plain": [
       "Index(['male', 'female'], dtype='object', name='Sex')"
      ]
     },
     "execution_count": 13,
     "metadata": {},
     "output_type": "execute_result"
    }
   ],
   "source": [
    "index_sex"
   ]
  },
  {
   "cell_type": "code",
   "execution_count": 14,
   "id": "10d7a56c",
   "metadata": {
    "execution": {
     "iopub.execute_input": "2024-11-01T04:50:52.001167Z",
     "iopub.status.busy": "2024-11-01T04:50:52.000755Z",
     "iopub.status.idle": "2024-11-01T04:50:52.007609Z",
     "shell.execute_reply": "2024-11-01T04:50:52.006544Z"
    },
    "executionInfo": {
     "elapsed": 4,
     "status": "ok",
     "timestamp": 1719433747508,
     "user": {
      "displayName": "Muhamad Dafa Rizkiyanto",
      "userId": "16029394966179110856"
     },
     "user_tz": -420
    },
    "id": "KfZm_jdCKl5D",
    "outputId": "dd3e5e1c-dc40-436e-9ec0-4a458ee9dcd2",
    "papermill": {
     "duration": 0.039243,
     "end_time": "2024-11-01T04:50:52.009993",
     "exception": false,
     "start_time": "2024-11-01T04:50:51.970750",
     "status": "completed"
    },
    "tags": []
   },
   "outputs": [
    {
     "data": {
      "text/plain": [
       "array([577, 314])"
      ]
     },
     "execution_count": 14,
     "metadata": {},
     "output_type": "execute_result"
    }
   ],
   "source": [
    "values_sex"
   ]
  },
  {
   "cell_type": "code",
   "execution_count": 15,
   "id": "1b35f5e2",
   "metadata": {
    "execution": {
     "iopub.execute_input": "2024-11-01T04:50:52.071227Z",
     "iopub.status.busy": "2024-11-01T04:50:52.070790Z",
     "iopub.status.idle": "2024-11-01T04:50:52.331758Z",
     "shell.execute_reply": "2024-11-01T04:50:52.330648Z"
    },
    "executionInfo": {
     "elapsed": 666,
     "status": "ok",
     "timestamp": 1719433748172,
     "user": {
      "displayName": "Muhamad Dafa Rizkiyanto",
      "userId": "16029394966179110856"
     },
     "user_tz": -420
    },
    "id": "OknQc3XGKpmP",
    "outputId": "ce8e847f-2db7-4e07-8071-dfcc3c674f4e",
    "papermill": {
     "duration": 0.295174,
     "end_time": "2024-11-01T04:50:52.334301",
     "exception": false,
     "start_time": "2024-11-01T04:50:52.039127",
     "status": "completed"
    },
    "tags": []
   },
   "outputs": [
    {
     "data": {
      "image/png": "[encoded data removed]",
      "text/plain": [
       "<Figure size 1000x500 with 1 Axes>"
      ]
     },
     "metadata": {},
     "output_type": "display_data"
    }
   ],
   "source": [
    "fig = plt.figure(figsize = (10, 5))\n",
    "plt.bar(index_sex, values_sex, color = 'maroon',width = 0.7)\n",
    "\n",
    "plt.xlabel('Jenis Kelamin')\n",
    "plt.ylabel('Jumlah Penumpang')\n",
    "plt.title('Chart Jumlah Penumpang Berdasarkan Jenis Kelamin')\n",
    "plt.show()"
   ]
  },
  {
   "cell_type": "code",
   "execution_count": 16,
   "id": "55616981",
   "metadata": {
    "execution": {
     "iopub.execute_input": "2024-11-01T04:50:52.395883Z",
     "iopub.status.busy": "2024-11-01T04:50:52.395065Z",
     "iopub.status.idle": "2024-11-01T04:50:52.401248Z",
     "shell.execute_reply": "2024-11-01T04:50:52.400186Z"
    },
    "executionInfo": {
     "elapsed": 5,
     "status": "ok",
     "timestamp": 1719433748172,
     "user": {
      "displayName": "Muhamad Dafa Rizkiyanto",
      "userId": "16029394966179110856"
     },
     "user_tz": -420
    },
    "id": "Bq6uKyPuK2q4",
    "papermill": {
     "duration": 0.039537,
     "end_time": "2024-11-01T04:50:52.403446",
     "exception": false,
     "start_time": "2024-11-01T04:50:52.363909",
     "status": "completed"
    },
    "tags": []
   },
   "outputs": [],
   "source": [
    "def barchart(column) :\n",
    "  count = train[column].value_counts()\n",
    "\n",
    "  index = count.index\n",
    "  value = count.values\n",
    "\n",
    "  fig = plt.figure(figsize = (10,5))\n",
    "  plt.bar(index,value,color = 'maroon', width=0.7)\n",
    "\n",
    "  plt.show()"
   ]
  },
  {
   "cell_type": "code",
   "execution_count": 17,
   "id": "072e76c6",
   "metadata": {
    "execution": {
     "iopub.execute_input": "2024-11-01T04:50:52.465295Z",
     "iopub.status.busy": "2024-11-01T04:50:52.464271Z",
     "iopub.status.idle": "2024-11-01T04:50:52.646328Z",
     "shell.execute_reply": "2024-11-01T04:50:52.645056Z"
    },
    "executionInfo": {
     "elapsed": 5,
     "status": "ok",
     "timestamp": 1719433748172,
     "user": {
      "displayName": "Muhamad Dafa Rizkiyanto",
      "userId": "16029394966179110856"
     },
     "user_tz": -420
    },
    "id": "eVxuhwXFL4C-",
    "outputId": "b0d31046-4491-45cd-95d0-a6e55156fb1c",
    "papermill": {
     "duration": 0.215404,
     "end_time": "2024-11-01T04:50:52.648819",
     "exception": false,
     "start_time": "2024-11-01T04:50:52.433415",
     "status": "completed"
    },
    "tags": []
   },
   "outputs": [
    {
     "data": {
      "image/png": "[encoded data removed]",
      "text/plain": [
       "<Figure size 1000x500 with 1 Axes>"
      ]
     },
     "metadata": {},
     "output_type": "display_data"
    }
   ],
   "source": [
    "barchart('Sex')"
   ]
  },
  {
   "cell_type": "code",
   "execution_count": 18,
   "id": "36281da4",
   "metadata": {
    "execution": {
     "iopub.execute_input": "2024-11-01T04:50:52.710130Z",
     "iopub.status.busy": "2024-11-01T04:50:52.709665Z",
     "iopub.status.idle": "2024-11-01T04:50:52.926669Z",
     "shell.execute_reply": "2024-11-01T04:50:52.925603Z"
    },
    "executionInfo": {
     "elapsed": 568,
     "status": "ok",
     "timestamp": 1719433748736,
     "user": {
      "displayName": "Muhamad Dafa Rizkiyanto",
      "userId": "16029394966179110856"
     },
     "user_tz": -420
    },
    "id": "Y_w58nRbL8gL",
    "outputId": "fa9f7c08-8abb-4369-f12c-5a67be037aee",
    "papermill": {
     "duration": 0.250271,
     "end_time": "2024-11-01T04:50:52.929016",
     "exception": false,
     "start_time": "2024-11-01T04:50:52.678745",
     "status": "completed"
    },
    "tags": []
   },
   "outputs": [
    {
     "data": {
      "image/png": "[encoded data removed]",
      "text/plain": [
       "<Figure size 1000x500 with 1 Axes>"
      ]
     },
     "metadata": {},
     "output_type": "display_data"
    }
   ],
   "source": [
    "barchart('Pclass')"
   ]
  },
  {
   "cell_type": "code",
   "execution_count": 19,
   "id": "121c0785",
   "metadata": {
    "execution": {
     "iopub.execute_input": "2024-11-01T04:50:52.990559Z",
     "iopub.status.busy": "2024-11-01T04:50:52.990123Z",
     "iopub.status.idle": "2024-11-01T04:50:53.180300Z",
     "shell.execute_reply": "2024-11-01T04:50:53.179093Z"
    },
    "executionInfo": {
     "elapsed": 667,
     "status": "ok",
     "timestamp": 1719433749401,
     "user": {
      "displayName": "Muhamad Dafa Rizkiyanto",
      "userId": "16029394966179110856"
     },
     "user_tz": -420
    },
    "id": "Q-ckS3QpL_pv",
    "outputId": "8e82efeb-81a5-4280-9849-f263db3083df",
    "papermill": {
     "duration": 0.224502,
     "end_time": "2024-11-01T04:50:53.183301",
     "exception": false,
     "start_time": "2024-11-01T04:50:52.958799",
     "status": "completed"
    },
    "tags": []
   },
   "outputs": [
    {
     "data": {
      "image/png": "[encoded data removed]",
      "text/plain": [
       "<Figure size 1000x500 with 1 Axes>"
      ]
     },
     "metadata": {},
     "output_type": "display_data"
    }
   ],
   "source": [
    "barchart('Embarked')"
   ]
  },
  {
   "cell_type": "code",
   "execution_count": 20,
   "id": "6645305c",
   "metadata": {
    "execution": {
     "iopub.execute_input": "2024-11-01T04:50:53.253632Z",
     "iopub.status.busy": "2024-11-01T04:50:53.252620Z",
     "iopub.status.idle": "2024-11-01T04:50:53.493711Z",
     "shell.execute_reply": "2024-11-01T04:50:53.492634Z"
    },
    "executionInfo": {
     "elapsed": 6,
     "status": "ok",
     "timestamp": 1719433749402,
     "user": {
      "displayName": "Muhamad Dafa Rizkiyanto",
      "userId": "16029394966179110856"
     },
     "user_tz": -420
    },
    "id": "y0qciTAxMUXF",
    "outputId": "a4d5a592-0ad8-462a-98c7-5374f3fcbbca",
    "papermill": {
     "duration": 0.276632,
     "end_time": "2024-11-01T04:50:53.496231",
     "exception": false,
     "start_time": "2024-11-01T04:50:53.219599",
     "status": "completed"
    },
    "tags": []
   },
   "outputs": [
    {
     "data": {
      "image/png": "[encoded data removed]",
      "text/plain": [
       "<Figure size 1000x500 with 1 Axes>"
      ]
     },
     "metadata": {},
     "output_type": "display_data"
    }
   ],
   "source": [
    "barchart('SibSp')"
   ]
  },
  {
   "cell_type": "code",
   "execution_count": 21,
   "id": "613fce83",
   "metadata": {
    "execution": {
     "iopub.execute_input": "2024-11-01T04:50:53.559731Z",
     "iopub.status.busy": "2024-11-01T04:50:53.559295Z",
     "iopub.status.idle": "2024-11-01T04:50:53.793839Z",
     "shell.execute_reply": "2024-11-01T04:50:53.792627Z"
    },
    "executionInfo": {
     "elapsed": 1209,
     "status": "ok",
     "timestamp": 1719433750607,
     "user": {
      "displayName": "Muhamad Dafa Rizkiyanto",
      "userId": "16029394966179110856"
     },
     "user_tz": -420
    },
    "id": "p_NqpfZPMYWY",
    "outputId": "2fab2975-7f0b-458c-b180-7dc125e22fac",
    "papermill": {
     "duration": 0.269282,
     "end_time": "2024-11-01T04:50:53.796448",
     "exception": false,
     "start_time": "2024-11-01T04:50:53.527166",
     "status": "completed"
    },
    "tags": []
   },
   "outputs": [
    {
     "data": {
      "image/png": "[encoded data removed]",
      "text/plain": [
       "<Figure size 1000x500 with 1 Axes>"
      ]
     },
     "metadata": {},
     "output_type": "display_data"
    }
   ],
   "source": [
    "barchart('Parch')"
   ]
  },
  {
   "cell_type": "markdown",
   "id": "e32bd7b1",
   "metadata": {
    "id": "6aROvQR5Mb00",
    "papermill": {
     "duration": 0.030645,
     "end_time": "2024-11-01T04:50:53.857693",
     "exception": false,
     "start_time": "2024-11-01T04:50:53.827048",
     "status": "completed"
    },
    "tags": []
   },
   "source": [
    "# **Grouped Barchart**"
   ]
  },
  {
   "cell_type": "code",
   "execution_count": 22,
   "id": "9b68c64f",
   "metadata": {
    "execution": {
     "iopub.execute_input": "2024-11-01T04:50:53.921239Z",
     "iopub.status.busy": "2024-11-01T04:50:53.920243Z",
     "iopub.status.idle": "2024-11-01T04:50:53.936384Z",
     "shell.execute_reply": "2024-11-01T04:50:53.935259Z"
    },
    "executionInfo": {
     "elapsed": 8,
     "status": "ok",
     "timestamp": 1719433750608,
     "user": {
      "displayName": "Muhamad Dafa Rizkiyanto",
      "userId": "16029394966179110856"
     },
     "user_tz": -420
    },
    "id": "vbM_wOLtMauu",
    "outputId": "90dd849f-6617-447c-d537-90a569edba14",
    "papermill": {
     "duration": 0.050302,
     "end_time": "2024-11-01T04:50:53.938715",
     "exception": false,
     "start_time": "2024-11-01T04:50:53.888413",
     "status": "completed"
    },
    "tags": []
   },
   "outputs": [
    {
     "data": {
      "text/html": [
       "<div>\n",
       "<style scoped>\n",
       "    .dataframe tbody tr th:only-of-type {\n",
       "        vertical-align: middle;\n",
       "    }\n",
       "\n",
       "    .dataframe tbody tr th {\n",
       "        vertical-align: top;\n",
       "    }\n",
       "\n",
       "    .dataframe thead th {\n",
       "        text-align: right;\n",
       "    }\n",
       "</style>\n",
       "<table border=\"1\" class=\"dataframe\">\n",
       "  <thead>\n",
       "    <tr style=\"text-align: right;\">\n",
       "      <th></th>\n",
       "      <th>PassengerId</th>\n",
       "      <th>Survived</th>\n",
       "      <th>Pclass</th>\n",
       "      <th>Name</th>\n",
       "      <th>Sex</th>\n",
       "      <th>Age</th>\n",
       "      <th>SibSp</th>\n",
       "      <th>Parch</th>\n",
       "      <th>Ticket</th>\n",
       "      <th>Fare</th>\n",
       "      <th>Cabin</th>\n",
       "      <th>Embarked</th>\n",
       "    </tr>\n",
       "  </thead>\n",
       "  <tbody>\n",
       "    <tr>\n",
       "      <th>0</th>\n",
       "      <td>1</td>\n",
       "      <td>0</td>\n",
       "      <td>3</td>\n",
       "      <td>Braund, Mr. Owen Harris</td>\n",
       "      <td>male</td>\n",
       "      <td>22.0</td>\n",
       "      <td>1</td>\n",
       "      <td>0</td>\n",
       "      <td>A/5 21171</td>\n",
       "      <td>7.2500</td>\n",
       "      <td>NaN</td>\n",
       "      <td>S</td>\n",
       "    </tr>\n",
       "    <tr>\n",
       "      <th>1</th>\n",
       "      <td>2</td>\n",
       "      <td>1</td>\n",
       "      <td>1</td>\n",
       "      <td>Cumings, Mrs. John Bradley (Florence Briggs Th...</td>\n",
       "      <td>female</td>\n",
       "      <td>38.0</td>\n",
       "      <td>1</td>\n",
       "      <td>0</td>\n",
       "      <td>PC 17599</td>\n",
       "      <td>71.2833</td>\n",
       "      <td>C85</td>\n",
       "      <td>C</td>\n",
       "    </tr>\n",
       "    <tr>\n",
       "      <th>2</th>\n",
       "      <td>3</td>\n",
       "      <td>1</td>\n",
       "      <td>3</td>\n",
       "      <td>Heikkinen, Miss. Laina</td>\n",
       "      <td>female</td>\n",
       "      <td>26.0</td>\n",
       "      <td>0</td>\n",
       "      <td>0</td>\n",
       "      <td>STON/O2. 3101282</td>\n",
       "      <td>7.9250</td>\n",
       "      <td>NaN</td>\n",
       "      <td>S</td>\n",
       "    </tr>\n",
       "    <tr>\n",
       "      <th>3</th>\n",
       "      <td>4</td>\n",
       "      <td>1</td>\n",
       "      <td>1</td>\n",
       "      <td>Futrelle, Mrs. Jacques Heath (Lily May Peel)</td>\n",
       "      <td>female</td>\n",
       "      <td>35.0</td>\n",
       "      <td>1</td>\n",
       "      <td>0</td>\n",
       "      <td>113803</td>\n",
       "      <td>53.1000</td>\n",
       "      <td>C123</td>\n",
       "      <td>S</td>\n",
       "    </tr>\n",
       "    <tr>\n",
       "      <th>4</th>\n",
       "      <td>5</td>\n",
       "      <td>0</td>\n",
       "      <td>3</td>\n",
       "      <td>Allen, Mr. William Henry</td>\n",
       "      <td>male</td>\n",
       "      <td>35.0</td>\n",
       "      <td>0</td>\n",
       "      <td>0</td>\n",
       "      <td>373450</td>\n",
       "      <td>8.0500</td>\n",
       "      <td>NaN</td>\n",
       "      <td>S</td>\n",
       "    </tr>\n",
       "  </tbody>\n",
       "</table>\n",
       "</div>"
      ],
      "text/plain": [
       "   PassengerId  Survived  Pclass  \\\n",
       "0            1         0       3   \n",
       "1            2         1       1   \n",
       "2            3         1       3   \n",
       "3            4         1       1   \n",
       "4            5         0       3   \n",
       "\n",
       "                                                Name     Sex   Age  SibSp  \\\n",
       "0                            Braund, Mr. Owen Harris    male  22.0      1   \n",
       "1  Cumings, Mrs. John Bradley (Florence Briggs Th...  female  38.0      1   \n",
       "2                             Heikkinen, Miss. Laina  female  26.0      0   \n",
       "3       Futrelle, Mrs. Jacques Heath (Lily May Peel)  female  35.0      1   \n",
       "4                           Allen, Mr. William Henry    male  35.0      0   \n",
       "\n",
       "   Parch            Ticket     Fare Cabin Embarked  \n",
       "0      0         A/5 21171   7.2500   NaN        S  \n",
       "1      0          PC 17599  71.2833   C85        C  \n",
       "2      0  STON/O2. 3101282   7.9250   NaN        S  \n",
       "3      0            113803  53.1000  C123        S  \n",
       "4      0            373450   8.0500   NaN        S  "
      ]
     },
     "execution_count": 22,
     "metadata": {},
     "output_type": "execute_result"
    }
   ],
   "source": [
    "train.head()"
   ]
  },
  {
   "cell_type": "code",
   "execution_count": 23,
   "id": "f72a4fbd",
   "metadata": {
    "execution": {
     "iopub.execute_input": "2024-11-01T04:50:54.002933Z",
     "iopub.status.busy": "2024-11-01T04:50:54.001889Z",
     "iopub.status.idle": "2024-11-01T04:50:54.012998Z",
     "shell.execute_reply": "2024-11-01T04:50:54.011790Z"
    },
    "executionInfo": {
     "elapsed": 7,
     "status": "ok",
     "timestamp": 1719433750608,
     "user": {
      "displayName": "Muhamad Dafa Rizkiyanto",
      "userId": "16029394966179110856"
     },
     "user_tz": -420
    },
    "id": "cBzOWzjFMgnS",
    "papermill": {
     "duration": 0.045909,
     "end_time": "2024-11-01T04:50:54.015559",
     "exception": false,
     "start_time": "2024-11-01T04:50:53.969650",
     "status": "completed"
    },
    "tags": []
   },
   "outputs": [],
   "source": [
    "survived = train.groupby(['Survived','Sex']).count()['PassengerId'].reset_index()"
   ]
  },
  {
   "cell_type": "code",
   "execution_count": 24,
   "id": "73539aa7",
   "metadata": {
    "execution": {
     "iopub.execute_input": "2024-11-01T04:50:54.081179Z",
     "iopub.status.busy": "2024-11-01T04:50:54.080268Z",
     "iopub.status.idle": "2024-11-01T04:50:54.091030Z",
     "shell.execute_reply": "2024-11-01T04:50:54.090013Z"
    },
    "executionInfo": {
     "elapsed": 7,
     "status": "ok",
     "timestamp": 1719433750608,
     "user": {
      "displayName": "Muhamad Dafa Rizkiyanto",
      "userId": "16029394966179110856"
     },
     "user_tz": -420
    },
    "id": "vT-bvOsfM_eu",
    "outputId": "b6d9f4fe-f9d4-496b-c2bf-f276cae43844",
    "papermill": {
     "duration": 0.046587,
     "end_time": "2024-11-01T04:50:54.093242",
     "exception": false,
     "start_time": "2024-11-01T04:50:54.046655",
     "status": "completed"
    },
    "tags": []
   },
   "outputs": [
    {
     "data": {
      "text/html": [
       "<div>\n",
       "<style scoped>\n",
       "    .dataframe tbody tr th:only-of-type {\n",
       "        vertical-align: middle;\n",
       "    }\n",
       "\n",
       "    .dataframe tbody tr th {\n",
       "        vertical-align: top;\n",
       "    }\n",
       "\n",
       "    .dataframe thead th {\n",
       "        text-align: right;\n",
       "    }\n",
       "</style>\n",
       "<table border=\"1\" class=\"dataframe\">\n",
       "  <thead>\n",
       "    <tr style=\"text-align: right;\">\n",
       "      <th></th>\n",
       "      <th>Survived</th>\n",
       "      <th>Sex</th>\n",
       "      <th>PassengerId</th>\n",
       "    </tr>\n",
       "  </thead>\n",
       "  <tbody>\n",
       "    <tr>\n",
       "      <th>0</th>\n",
       "      <td>0</td>\n",
       "      <td>female</td>\n",
       "      <td>81</td>\n",
       "    </tr>\n",
       "    <tr>\n",
       "      <th>1</th>\n",
       "      <td>0</td>\n",
       "      <td>male</td>\n",
       "      <td>468</td>\n",
       "    </tr>\n",
       "    <tr>\n",
       "      <th>2</th>\n",
       "      <td>1</td>\n",
       "      <td>female</td>\n",
       "      <td>233</td>\n",
       "    </tr>\n",
       "    <tr>\n",
       "      <th>3</th>\n",
       "      <td>1</td>\n",
       "      <td>male</td>\n",
       "      <td>109</td>\n",
       "    </tr>\n",
       "  </tbody>\n",
       "</table>\n",
       "</div>"
      ],
      "text/plain": [
       "   Survived     Sex  PassengerId\n",
       "0         0  female           81\n",
       "1         0    male          468\n",
       "2         1  female          233\n",
       "3         1    male          109"
      ]
     },
     "execution_count": 24,
     "metadata": {},
     "output_type": "execute_result"
    }
   ],
   "source": [
    "survived"
   ]
  },
  {
   "cell_type": "code",
   "execution_count": 25,
   "id": "540907fb",
   "metadata": {
    "execution": {
     "iopub.execute_input": "2024-11-01T04:50:54.158729Z",
     "iopub.status.busy": "2024-11-01T04:50:54.157740Z",
     "iopub.status.idle": "2024-11-01T04:50:54.163688Z",
     "shell.execute_reply": "2024-11-01T04:50:54.162624Z"
    },
    "executionInfo": {
     "elapsed": 5,
     "status": "ok",
     "timestamp": 1719433750608,
     "user": {
      "displayName": "Muhamad Dafa Rizkiyanto",
      "userId": "16029394966179110856"
     },
     "user_tz": -420
    },
    "id": "tHndeqDoNHhZ",
    "papermill": {
     "duration": 0.040784,
     "end_time": "2024-11-01T04:50:54.165921",
     "exception": false,
     "start_time": "2024-11-01T04:50:54.125137",
     "status": "completed"
    },
    "tags": []
   },
   "outputs": [],
   "source": [
    "def group_barchart(column):\n",
    "  survived = train.groupby(['Survived', column]).count()['PassengerId'].reset_index()\n",
    "\n",
    "  g = sns.catplot(\n",
    "      data = survived , kind = 'bar',\n",
    "      x = 'Survived', y='PassengerId', hue = column,\n",
    "      palette = 'dark', height = 6\n",
    "  )"
   ]
  },
  {
   "cell_type": "code",
   "execution_count": 26,
   "id": "9bc1dd70",
   "metadata": {
    "execution": {
     "iopub.execute_input": "2024-11-01T04:50:54.230930Z",
     "iopub.status.busy": "2024-11-01T04:50:54.229666Z",
     "iopub.status.idle": "2024-11-01T04:50:54.571687Z",
     "shell.execute_reply": "2024-11-01T04:50:54.570528Z"
    },
    "executionInfo": {
     "elapsed": 1232,
     "status": "ok",
     "timestamp": 1719433751835,
     "user": {
      "displayName": "Muhamad Dafa Rizkiyanto",
      "userId": "16029394966179110856"
     },
     "user_tz": -420
    },
    "id": "nJXIfHQ7NY9Z",
    "outputId": "57d52e14-81ad-48b5-eac9-813914a9d6a0",
    "papermill": {
     "duration": 0.377031,
     "end_time": "2024-11-01T04:50:54.574115",
     "exception": false,
     "start_time": "2024-11-01T04:50:54.197084",
     "status": "completed"
    },
    "tags": []
   },
   "outputs": [
    {
     "data": {
      "image/png": "[encoded data removed]",
      "text/plain": [
       "<Figure size 698x600 with 1 Axes>"
      ]
     },
     "metadata": {},
     "output_type": "display_data"
    }
   ],
   "source": [
    "group_barchart('Sex')"
   ]
  },
  {
   "cell_type": "code",
   "execution_count": 27,
   "id": "c53c1658",
   "metadata": {
    "execution": {
     "iopub.execute_input": "2024-11-01T04:50:54.639006Z",
     "iopub.status.busy": "2024-11-01T04:50:54.638017Z",
     "iopub.status.idle": "2024-11-01T04:50:55.087097Z",
     "shell.execute_reply": "2024-11-01T04:50:55.085985Z"
    },
    "executionInfo": {
     "elapsed": 1769,
     "status": "ok",
     "timestamp": 1719433753602,
     "user": {
      "displayName": "Muhamad Dafa Rizkiyanto",
      "userId": "16029394966179110856"
     },
     "user_tz": -420
    },
    "id": "aAKEwDknNm0r",
    "outputId": "ce26badc-3205-43c9-e67e-9999d74d9b06",
    "papermill": {
     "duration": 0.484067,
     "end_time": "2024-11-01T04:50:55.089517",
     "exception": false,
     "start_time": "2024-11-01T04:50:54.605450",
     "status": "completed"
    },
    "tags": []
   },
   "outputs": [
    {
     "data": {
      "image/png": "[encoded data removed]",
      "text/plain": [
       "<Figure size 658.875x600 with 1 Axes>"
      ]
     },
     "metadata": {},
     "output_type": "display_data"
    }
   ],
   "source": [
    "group_barchart('Pclass')"
   ]
  },
  {
   "cell_type": "markdown",
   "id": "b2743810",
   "metadata": {
    "id": "wYglobvMO0qo",
    "papermill": {
     "duration": 0.032122,
     "end_time": "2024-11-01T04:50:55.153195",
     "exception": false,
     "start_time": "2024-11-01T04:50:55.121073",
     "status": "completed"
    },
    "tags": []
   },
   "source": [
    "# **HISTOGRAM**"
   ]
  },
  {
   "cell_type": "code",
   "execution_count": 28,
   "id": "9fdfb1bd",
   "metadata": {
    "execution": {
     "iopub.execute_input": "2024-11-01T04:50:55.219112Z",
     "iopub.status.busy": "2024-11-01T04:50:55.218095Z",
     "iopub.status.idle": "2024-11-01T04:50:55.477389Z",
     "shell.execute_reply": "2024-11-01T04:50:55.476283Z"
    },
    "executionInfo": {
     "elapsed": 7,
     "status": "ok",
     "timestamp": 1719433753602,
     "user": {
      "displayName": "Muhamad Dafa Rizkiyanto",
      "userId": "16029394966179110856"
     },
     "user_tz": -420
    },
    "id": "vzv3qwwiNt62",
    "outputId": "11d3777b-5c94-4a23-c55d-c93b8f9f548a",
    "papermill": {
     "duration": 0.295049,
     "end_time": "2024-11-01T04:50:55.479944",
     "exception": false,
     "start_time": "2024-11-01T04:50:55.184895",
     "status": "completed"
    },
    "tags": []
   },
   "outputs": [
    {
     "data": {
      "image/png": "[encoded data removed]",
      "text/plain": [
       "<Figure size 1000x700 with 1 Axes>"
      ]
     },
     "metadata": {},
     "output_type": "display_data"
    }
   ],
   "source": [
    "fig , ax = plt.subplots(figsize = (10,7))\n",
    "ax.hist(train.Age)\n",
    "\n",
    "plt.show()"
   ]
  },
  {
   "cell_type": "code",
   "execution_count": 29,
   "id": "b0f62fe3",
   "metadata": {
    "execution": {
     "iopub.execute_input": "2024-11-01T04:50:55.546195Z",
     "iopub.status.busy": "2024-11-01T04:50:55.545760Z",
     "iopub.status.idle": "2024-11-01T04:50:55.744846Z",
     "shell.execute_reply": "2024-11-01T04:50:55.743740Z"
    },
    "executionInfo": {
     "elapsed": 649,
     "status": "ok",
     "timestamp": 1719433754246,
     "user": {
      "displayName": "Muhamad Dafa Rizkiyanto",
      "userId": "16029394966179110856"
     },
     "user_tz": -420
    },
    "id": "0rQyIYGcPJWz",
    "outputId": "b882ca8c-f55d-4dd7-a8bd-553db24d471c",
    "papermill": {
     "duration": 0.235022,
     "end_time": "2024-11-01T04:50:55.747399",
     "exception": false,
     "start_time": "2024-11-01T04:50:55.512377",
     "status": "completed"
    },
    "tags": []
   },
   "outputs": [
    {
     "data": {
      "image/png": "[encoded data removed]",
      "text/plain": [
       "<Figure size 1000x700 with 1 Axes>"
      ]
     },
     "metadata": {},
     "output_type": "display_data"
    }
   ],
   "source": [
    "fig , ax = plt.subplots(figsize = (10,7))\n",
    "ax.hist(train.Fare)\n",
    "\n",
    "plt.show()"
   ]
  },
  {
   "cell_type": "markdown",
   "id": "edb0a4c9",
   "metadata": {
    "id": "L8ljk1acPQ6d",
    "papermill": {
     "duration": 0.031872,
     "end_time": "2024-11-01T04:50:55.811543",
     "exception": false,
     "start_time": "2024-11-01T04:50:55.779671",
     "status": "completed"
    },
    "tags": []
   },
   "source": [
    "# **KDE PLOT**"
   ]
  },
  {
   "cell_type": "code",
   "execution_count": 30,
   "id": "d5ccb841",
   "metadata": {
    "execution": {
     "iopub.execute_input": "2024-11-01T04:50:55.878409Z",
     "iopub.status.busy": "2024-11-01T04:50:55.877337Z",
     "iopub.status.idle": "2024-11-01T04:50:56.391219Z",
     "shell.execute_reply": "2024-11-01T04:50:56.390147Z"
    },
    "executionInfo": {
     "elapsed": 1101,
     "status": "ok",
     "timestamp": 1719433755344,
     "user": {
      "displayName": "Muhamad Dafa Rizkiyanto",
      "userId": "16029394966179110856"
     },
     "user_tz": -420
    },
    "id": "iXjPoCMtPS-R",
    "outputId": "7f869784-928c-4b9f-8b74-94b30f73124b",
    "papermill": {
     "duration": 0.54985,
     "end_time": "2024-11-01T04:50:56.393595",
     "exception": false,
     "start_time": "2024-11-01T04:50:55.843745",
     "status": "completed"
    },
    "tags": []
   },
   "outputs": [
    {
     "name": "stderr",
     "output_type": "stream",
     "text": [
      "/opt/conda/lib/python3.10/site-packages/seaborn/_oldcore.py:1119: FutureWarning: use_inf_as_na option is deprecated and will be removed in a future version. Convert inf values to NaN before operating instead.\n",
      "  with pd.option_context('mode.use_inf_as_na', True):\n",
      "/opt/conda/lib/python3.10/site-packages/seaborn/_oldcore.py:1119: FutureWarning: use_inf_as_na option is deprecated and will be removed in a future version. Convert inf values to NaN before operating instead.\n",
      "  with pd.option_context('mode.use_inf_as_na', True):\n"
     ]
    },
    {
     "data": {
      "image/png": "[encoded data removed]",
      "text/plain": [
       "<Figure size 972.111x300 with 1 Axes>"
      ]
     },
     "metadata": {},
     "output_type": "display_data"
    }
   ],
   "source": [
    "facet = sns.FacetGrid(train , hue = 'Survived',aspect = 3)\n",
    "facet.map(sns.kdeplot, 'Age', fill=True)\n",
    "facet.add_legend()\n",
    "plt.show()"
   ]
  },
  {
   "cell_type": "code",
   "execution_count": 31,
   "id": "7080727e",
   "metadata": {
    "execution": {
     "iopub.execute_input": "2024-11-01T04:50:56.462136Z",
     "iopub.status.busy": "2024-11-01T04:50:56.461414Z",
     "iopub.status.idle": "2024-11-01T04:50:56.961820Z",
     "shell.execute_reply": "2024-11-01T04:50:56.960720Z"
    },
    "executionInfo": {
     "elapsed": 1094,
     "status": "ok",
     "timestamp": 1719433756436,
     "user": {
      "displayName": "Muhamad Dafa Rizkiyanto",
      "userId": "16029394966179110856"
     },
     "user_tz": -420
    },
    "id": "HJqMJ-E7P162",
    "outputId": "9ac6412f-7e46-44db-f770-7f5222e83d6d",
    "papermill": {
     "duration": 0.537267,
     "end_time": "2024-11-01T04:50:56.964415",
     "exception": false,
     "start_time": "2024-11-01T04:50:56.427148",
     "status": "completed"
    },
    "tags": []
   },
   "outputs": [
    {
     "name": "stderr",
     "output_type": "stream",
     "text": [
      "/opt/conda/lib/python3.10/site-packages/seaborn/_oldcore.py:1119: FutureWarning: use_inf_as_na option is deprecated and will be removed in a future version. Convert inf values to NaN before operating instead.\n",
      "  with pd.option_context('mode.use_inf_as_na', True):\n",
      "/opt/conda/lib/python3.10/site-packages/seaborn/_oldcore.py:1119: FutureWarning: use_inf_as_na option is deprecated and will be removed in a future version. Convert inf values to NaN before operating instead.\n",
      "  with pd.option_context('mode.use_inf_as_na', True):\n"
     ]
    },
    {
     "data": {
      "image/png": "[encoded data removed]",
      "text/plain": [
       "<Figure size 972.111x300 with 1 Axes>"
      ]
     },
     "metadata": {},
     "output_type": "display_data"
    }
   ],
   "source": [
    "facet = sns.FacetGrid(train , hue = 'Survived',aspect = 3)\n",
    "facet.map(sns.kdeplot, 'Fare', fill=True)\n",
    "facet.add_legend()\n",
    "plt.show()"
   ]
  },
  {
   "cell_type": "code",
   "execution_count": 32,
   "id": "b93879aa",
   "metadata": {
    "execution": {
     "iopub.execute_input": "2024-11-01T04:50:57.034317Z",
     "iopub.status.busy": "2024-11-01T04:50:57.033132Z",
     "iopub.status.idle": "2024-11-01T04:50:57.506508Z",
     "shell.execute_reply": "2024-11-01T04:50:57.505425Z"
    },
    "executionInfo": {
     "elapsed": 1332,
     "status": "ok",
     "timestamp": 1719433757766,
     "user": {
      "displayName": "Muhamad Dafa Rizkiyanto",
      "userId": "16029394966179110856"
     },
     "user_tz": -420
    },
    "id": "6IY1XXtAP_Qg",
    "outputId": "623987cb-b30b-4330-dcaf-91bd76ec06c8",
    "papermill": {
     "duration": 0.51094,
     "end_time": "2024-11-01T04:50:57.509182",
     "exception": false,
     "start_time": "2024-11-01T04:50:56.998242",
     "status": "completed"
    },
    "tags": []
   },
   "outputs": [
    {
     "name": "stderr",
     "output_type": "stream",
     "text": [
      "/opt/conda/lib/python3.10/site-packages/seaborn/_oldcore.py:1119: FutureWarning: use_inf_as_na option is deprecated and will be removed in a future version. Convert inf values to NaN before operating instead.\n",
      "  with pd.option_context('mode.use_inf_as_na', True):\n",
      "/opt/conda/lib/python3.10/site-packages/seaborn/_oldcore.py:1119: FutureWarning: use_inf_as_na option is deprecated and will be removed in a future version. Convert inf values to NaN before operating instead.\n",
      "  with pd.option_context('mode.use_inf_as_na', True):\n"
     ]
    },
    {
     "data": {
      "image/png": "[encoded data removed]",
      "text/plain": [
       "<Figure size 972.111x300 with 1 Axes>"
      ]
     },
     "metadata": {},
     "output_type": "display_data"
    }
   ],
   "source": [
    "facet = sns.FacetGrid(train , hue = 'Survived',aspect = 3)\n",
    "facet.map(sns.kdeplot, 'Pclass', fill=True)\n",
    "facet.add_legend()\n",
    "plt.show()"
   ]
  },
  {
   "cell_type": "markdown",
   "id": "6378afae",
   "metadata": {
    "id": "OEMBeJI3BN-4",
    "papermill": {
     "duration": 0.034084,
     "end_time": "2024-11-01T04:50:57.577589",
     "exception": false,
     "start_time": "2024-11-01T04:50:57.543505",
     "status": "completed"
    },
    "tags": []
   },
   "source": [
    "# **FILL MISSING VALUE**"
   ]
  },
  {
   "cell_type": "code",
   "execution_count": 33,
   "id": "2df18ac2",
   "metadata": {
    "execution": {
     "iopub.execute_input": "2024-11-01T04:50:57.647703Z",
     "iopub.status.busy": "2024-11-01T04:50:57.647283Z",
     "iopub.status.idle": "2024-11-01T04:50:57.664735Z",
     "shell.execute_reply": "2024-11-01T04:50:57.663440Z"
    },
    "executionInfo": {
     "elapsed": 17,
     "status": "ok",
     "timestamp": 1719433757766,
     "user": {
      "displayName": "Muhamad Dafa Rizkiyanto",
      "userId": "16029394966179110856"
     },
     "user_tz": -420
    },
    "id": "x9fWLv_UCEFt",
    "outputId": "45979510-b3b5-43d8-c061-b43053367321",
    "papermill": {
     "duration": 0.055471,
     "end_time": "2024-11-01T04:50:57.667074",
     "exception": false,
     "start_time": "2024-11-01T04:50:57.611603",
     "status": "completed"
    },
    "tags": []
   },
   "outputs": [
    {
     "data": {
      "text/html": [
       "<div>\n",
       "<style scoped>\n",
       "    .dataframe tbody tr th:only-of-type {\n",
       "        vertical-align: middle;\n",
       "    }\n",
       "\n",
       "    .dataframe tbody tr th {\n",
       "        vertical-align: top;\n",
       "    }\n",
       "\n",
       "    .dataframe thead th {\n",
       "        text-align: right;\n",
       "    }\n",
       "</style>\n",
       "<table border=\"1\" class=\"dataframe\">\n",
       "  <thead>\n",
       "    <tr style=\"text-align: right;\">\n",
       "      <th></th>\n",
       "      <th>PassengerId</th>\n",
       "      <th>Survived</th>\n",
       "      <th>Pclass</th>\n",
       "      <th>Name</th>\n",
       "      <th>Sex</th>\n",
       "      <th>Age</th>\n",
       "      <th>SibSp</th>\n",
       "      <th>Parch</th>\n",
       "      <th>Ticket</th>\n",
       "      <th>Fare</th>\n",
       "      <th>Cabin</th>\n",
       "      <th>Embarked</th>\n",
       "    </tr>\n",
       "  </thead>\n",
       "  <tbody>\n",
       "    <tr>\n",
       "      <th>0</th>\n",
       "      <td>1</td>\n",
       "      <td>0</td>\n",
       "      <td>3</td>\n",
       "      <td>Braund, Mr. Owen Harris</td>\n",
       "      <td>male</td>\n",
       "      <td>22.0</td>\n",
       "      <td>1</td>\n",
       "      <td>0</td>\n",
       "      <td>A/5 21171</td>\n",
       "      <td>7.2500</td>\n",
       "      <td>NaN</td>\n",
       "      <td>S</td>\n",
       "    </tr>\n",
       "    <tr>\n",
       "      <th>1</th>\n",
       "      <td>2</td>\n",
       "      <td>1</td>\n",
       "      <td>1</td>\n",
       "      <td>Cumings, Mrs. John Bradley (Florence Briggs Th...</td>\n",
       "      <td>female</td>\n",
       "      <td>38.0</td>\n",
       "      <td>1</td>\n",
       "      <td>0</td>\n",
       "      <td>PC 17599</td>\n",
       "      <td>71.2833</td>\n",
       "      <td>C85</td>\n",
       "      <td>C</td>\n",
       "    </tr>\n",
       "    <tr>\n",
       "      <th>2</th>\n",
       "      <td>3</td>\n",
       "      <td>1</td>\n",
       "      <td>3</td>\n",
       "      <td>Heikkinen, Miss. Laina</td>\n",
       "      <td>female</td>\n",
       "      <td>26.0</td>\n",
       "      <td>0</td>\n",
       "      <td>0</td>\n",
       "      <td>STON/O2. 3101282</td>\n",
       "      <td>7.9250</td>\n",
       "      <td>NaN</td>\n",
       "      <td>S</td>\n",
       "    </tr>\n",
       "    <tr>\n",
       "      <th>3</th>\n",
       "      <td>4</td>\n",
       "      <td>1</td>\n",
       "      <td>1</td>\n",
       "      <td>Futrelle, Mrs. Jacques Heath (Lily May Peel)</td>\n",
       "      <td>female</td>\n",
       "      <td>35.0</td>\n",
       "      <td>1</td>\n",
       "      <td>0</td>\n",
       "      <td>113803</td>\n",
       "      <td>53.1000</td>\n",
       "      <td>C123</td>\n",
       "      <td>S</td>\n",
       "    </tr>\n",
       "    <tr>\n",
       "      <th>4</th>\n",
       "      <td>5</td>\n",
       "      <td>0</td>\n",
       "      <td>3</td>\n",
       "      <td>Allen, Mr. William Henry</td>\n",
       "      <td>male</td>\n",
       "      <td>35.0</td>\n",
       "      <td>0</td>\n",
       "      <td>0</td>\n",
       "      <td>373450</td>\n",
       "      <td>8.0500</td>\n",
       "      <td>NaN</td>\n",
       "      <td>S</td>\n",
       "    </tr>\n",
       "  </tbody>\n",
       "</table>\n",
       "</div>"
      ],
      "text/plain": [
       "   PassengerId  Survived  Pclass  \\\n",
       "0            1         0       3   \n",
       "1            2         1       1   \n",
       "2            3         1       3   \n",
       "3            4         1       1   \n",
       "4            5         0       3   \n",
       "\n",
       "                                                Name     Sex   Age  SibSp  \\\n",
       "0                            Braund, Mr. Owen Harris    male  22.0      1   \n",
       "1  Cumings, Mrs. John Bradley (Florence Briggs Th...  female  38.0      1   \n",
       "2                             Heikkinen, Miss. Laina  female  26.0      0   \n",
       "3       Futrelle, Mrs. Jacques Heath (Lily May Peel)  female  35.0      1   \n",
       "4                           Allen, Mr. William Henry    male  35.0      0   \n",
       "\n",
       "   Parch            Ticket     Fare Cabin Embarked  \n",
       "0      0         A/5 21171   7.2500   NaN        S  \n",
       "1      0          PC 17599  71.2833   C85        C  \n",
       "2      0  STON/O2. 3101282   7.9250   NaN        S  \n",
       "3      0            113803  53.1000  C123        S  \n",
       "4      0            373450   8.0500   NaN        S  "
      ]
     },
     "execution_count": 33,
     "metadata": {},
     "output_type": "execute_result"
    }
   ],
   "source": [
    "train.head()"
   ]
  },
  {
   "cell_type": "code",
   "execution_count": 34,
   "id": "e24c8d4d",
   "metadata": {
    "execution": {
     "iopub.execute_input": "2024-11-01T04:50:57.738638Z",
     "iopub.status.busy": "2024-11-01T04:50:57.738182Z",
     "iopub.status.idle": "2024-11-01T04:50:57.747429Z",
     "shell.execute_reply": "2024-11-01T04:50:57.746340Z"
    },
    "executionInfo": {
     "elapsed": 15,
     "status": "ok",
     "timestamp": 1719433757766,
     "user": {
      "displayName": "Muhamad Dafa Rizkiyanto",
      "userId": "16029394966179110856"
     },
     "user_tz": -420
    },
    "id": "UDpTvSpnCNpL",
    "outputId": "a18695b3-83af-4a6c-a532-2c6907ca17db",
    "papermill": {
     "duration": 0.047329,
     "end_time": "2024-11-01T04:50:57.749810",
     "exception": false,
     "start_time": "2024-11-01T04:50:57.702481",
     "status": "completed"
    },
    "tags": []
   },
   "outputs": [
    {
     "data": {
      "text/plain": [
       "PassengerId      0\n",
       "Survived         0\n",
       "Pclass           0\n",
       "Name             0\n",
       "Sex              0\n",
       "Age            177\n",
       "SibSp            0\n",
       "Parch            0\n",
       "Ticket           0\n",
       "Fare             0\n",
       "Cabin          687\n",
       "Embarked         2\n",
       "dtype: int64"
      ]
     },
     "execution_count": 34,
     "metadata": {},
     "output_type": "execute_result"
    }
   ],
   "source": [
    "train.isnull().sum()"
   ]
  },
  {
   "cell_type": "code",
   "execution_count": 35,
   "id": "4a45118f",
   "metadata": {
    "execution": {
     "iopub.execute_input": "2024-11-01T04:50:57.822812Z",
     "iopub.status.busy": "2024-11-01T04:50:57.821765Z",
     "iopub.status.idle": "2024-11-01T04:50:57.831221Z",
     "shell.execute_reply": "2024-11-01T04:50:57.830083Z"
    },
    "executionInfo": {
     "elapsed": 13,
     "status": "ok",
     "timestamp": 1719433757766,
     "user": {
      "displayName": "Muhamad Dafa Rizkiyanto",
      "userId": "16029394966179110856"
     },
     "user_tz": -420
    },
    "id": "QN6utagqCRXm",
    "outputId": "f0b08bd8-18b6-4439-c184-2b1236b36e1e",
    "papermill": {
     "duration": 0.048242,
     "end_time": "2024-11-01T04:50:57.833618",
     "exception": false,
     "start_time": "2024-11-01T04:50:57.785376",
     "status": "completed"
    },
    "tags": []
   },
   "outputs": [
    {
     "data": {
      "text/plain": [
       "PassengerId      0\n",
       "Pclass           0\n",
       "Name             0\n",
       "Sex              0\n",
       "Age             86\n",
       "SibSp            0\n",
       "Parch            0\n",
       "Ticket           0\n",
       "Fare             1\n",
       "Cabin          327\n",
       "Embarked         0\n",
       "dtype: int64"
      ]
     },
     "execution_count": 35,
     "metadata": {},
     "output_type": "execute_result"
    }
   ],
   "source": [
    "test.isnull().sum()"
   ]
  },
  {
   "cell_type": "markdown",
   "id": "3ecdcc66",
   "metadata": {
    "id": "gbEhTRDYCZeT",
    "papermill": {
     "duration": 0.034299,
     "end_time": "2024-11-01T04:50:57.902768",
     "exception": false,
     "start_time": "2024-11-01T04:50:57.868469",
     "status": "completed"
    },
    "tags": []
   },
   "source": [
    "# **Categorical**"
   ]
  },
  {
   "cell_type": "markdown",
   "id": "4b02ce6d",
   "metadata": {
    "id": "38GdMTeYCcb0",
    "papermill": {
     "duration": 0.034454,
     "end_time": "2024-11-01T04:50:57.972495",
     "exception": false,
     "start_time": "2024-11-01T04:50:57.938041",
     "status": "completed"
    },
    "tags": []
   },
   "source": [
    "# Isi data null pada Embarked"
   ]
  },
  {
   "cell_type": "code",
   "execution_count": 36,
   "id": "8ed3ffd6",
   "metadata": {
    "execution": {
     "iopub.execute_input": "2024-11-01T04:50:58.046670Z",
     "iopub.status.busy": "2024-11-01T04:50:58.045850Z",
     "iopub.status.idle": "2024-11-01T04:50:58.061956Z",
     "shell.execute_reply": "2024-11-01T04:50:58.060828Z"
    },
    "executionInfo": {
     "elapsed": 11,
     "status": "ok",
     "timestamp": 1719433757766,
     "user": {
      "displayName": "Muhamad Dafa Rizkiyanto",
      "userId": "16029394966179110856"
     },
     "user_tz": -420
    },
    "id": "BTOiUIAgC4Fy",
    "outputId": "b06f69a1-1468-42c8-c86c-b62d86ef959c",
    "papermill": {
     "duration": 0.055328,
     "end_time": "2024-11-01T04:50:58.064222",
     "exception": false,
     "start_time": "2024-11-01T04:50:58.008894",
     "status": "completed"
    },
    "tags": []
   },
   "outputs": [
    {
     "data": {
      "text/html": [
       "<div>\n",
       "<style scoped>\n",
       "    .dataframe tbody tr th:only-of-type {\n",
       "        vertical-align: middle;\n",
       "    }\n",
       "\n",
       "    .dataframe tbody tr th {\n",
       "        vertical-align: top;\n",
       "    }\n",
       "\n",
       "    .dataframe thead th {\n",
       "        text-align: right;\n",
       "    }\n",
       "</style>\n",
       "<table border=\"1\" class=\"dataframe\">\n",
       "  <thead>\n",
       "    <tr style=\"text-align: right;\">\n",
       "      <th></th>\n",
       "      <th>PassengerId</th>\n",
       "      <th>Survived</th>\n",
       "      <th>Pclass</th>\n",
       "      <th>Name</th>\n",
       "      <th>Sex</th>\n",
       "      <th>Age</th>\n",
       "      <th>SibSp</th>\n",
       "      <th>Parch</th>\n",
       "      <th>Ticket</th>\n",
       "      <th>Fare</th>\n",
       "      <th>Cabin</th>\n",
       "      <th>Embarked</th>\n",
       "    </tr>\n",
       "  </thead>\n",
       "  <tbody>\n",
       "    <tr>\n",
       "      <th>61</th>\n",
       "      <td>62</td>\n",
       "      <td>1</td>\n",
       "      <td>1</td>\n",
       "      <td>Icard, Miss. Amelie</td>\n",
       "      <td>female</td>\n",
       "      <td>38.0</td>\n",
       "      <td>0</td>\n",
       "      <td>0</td>\n",
       "      <td>113572</td>\n",
       "      <td>80.0</td>\n",
       "      <td>B28</td>\n",
       "      <td>NaN</td>\n",
       "    </tr>\n",
       "    <tr>\n",
       "      <th>829</th>\n",
       "      <td>830</td>\n",
       "      <td>1</td>\n",
       "      <td>1</td>\n",
       "      <td>Stone, Mrs. George Nelson (Martha Evelyn)</td>\n",
       "      <td>female</td>\n",
       "      <td>62.0</td>\n",
       "      <td>0</td>\n",
       "      <td>0</td>\n",
       "      <td>113572</td>\n",
       "      <td>80.0</td>\n",
       "      <td>B28</td>\n",
       "      <td>NaN</td>\n",
       "    </tr>\n",
       "  </tbody>\n",
       "</table>\n",
       "</div>"
      ],
      "text/plain": [
       "     PassengerId  Survived  Pclass                                       Name  \\\n",
       "61            62         1       1                        Icard, Miss. Amelie   \n",
       "829          830         1       1  Stone, Mrs. George Nelson (Martha Evelyn)   \n",
       "\n",
       "        Sex   Age  SibSp  Parch  Ticket  Fare Cabin Embarked  \n",
       "61   female  38.0      0      0  113572  80.0   B28      NaN  \n",
       "829  female  62.0      0      0  113572  80.0   B28      NaN  "
      ]
     },
     "execution_count": 36,
     "metadata": {},
     "output_type": "execute_result"
    }
   ],
   "source": [
    "train[train['Embarked'].isnull()]"
   ]
  },
  {
   "cell_type": "code",
   "execution_count": 37,
   "id": "10f08162",
   "metadata": {
    "execution": {
     "iopub.execute_input": "2024-11-01T04:50:58.138127Z",
     "iopub.status.busy": "2024-11-01T04:50:58.137364Z",
     "iopub.status.idle": "2024-11-01T04:50:58.146443Z",
     "shell.execute_reply": "2024-11-01T04:50:58.145416Z"
    },
    "executionInfo": {
     "elapsed": 10,
     "status": "ok",
     "timestamp": 1719433757766,
     "user": {
      "displayName": "Muhamad Dafa Rizkiyanto",
      "userId": "16029394966179110856"
     },
     "user_tz": -420
    },
    "id": "tO6F0ibfDFA9",
    "outputId": "637e7dd1-74b2-4cee-da84-7de14cbe6c5b",
    "papermill": {
     "duration": 0.048036,
     "end_time": "2024-11-01T04:50:58.148560",
     "exception": false,
     "start_time": "2024-11-01T04:50:58.100524",
     "status": "completed"
    },
    "tags": []
   },
   "outputs": [
    {
     "data": {
      "text/plain": [
       "Embarked\n",
       "S    644\n",
       "C    168\n",
       "Q     77\n",
       "Name: count, dtype: int64"
      ]
     },
     "execution_count": 37,
     "metadata": {},
     "output_type": "execute_result"
    }
   ],
   "source": [
    "train['Embarked'].value_counts()"
   ]
  },
  {
   "cell_type": "code",
   "execution_count": 38,
   "id": "a476f529",
   "metadata": {
    "execution": {
     "iopub.execute_input": "2024-11-01T04:50:58.221052Z",
     "iopub.status.busy": "2024-11-01T04:50:58.220086Z",
     "iopub.status.idle": "2024-11-01T04:50:58.227431Z",
     "shell.execute_reply": "2024-11-01T04:50:58.226430Z"
    },
    "executionInfo": {
     "elapsed": 9,
     "status": "ok",
     "timestamp": 1719433757766,
     "user": {
      "displayName": "Muhamad Dafa Rizkiyanto",
      "userId": "16029394966179110856"
     },
     "user_tz": -420
    },
    "id": "eifpabKJDKqa",
    "outputId": "69d626e7-2ae9-49ef-fa5d-a4dde65dc6c2",
    "papermill": {
     "duration": 0.045953,
     "end_time": "2024-11-01T04:50:58.229492",
     "exception": false,
     "start_time": "2024-11-01T04:50:58.183539",
     "status": "completed"
    },
    "tags": []
   },
   "outputs": [
    {
     "data": {
      "text/plain": [
       "'S'"
      ]
     },
     "execution_count": 38,
     "metadata": {},
     "output_type": "execute_result"
    }
   ],
   "source": [
    "modus_embarked = train['Embarked'].mode()[0]\n",
    "modus_embarked"
   ]
  },
  {
   "cell_type": "code",
   "execution_count": 39,
   "id": "20406ba1",
   "metadata": {
    "execution": {
     "iopub.execute_input": "2024-11-01T04:50:58.301561Z",
     "iopub.status.busy": "2024-11-01T04:50:58.300742Z",
     "iopub.status.idle": "2024-11-01T04:50:58.307087Z",
     "shell.execute_reply": "2024-11-01T04:50:58.305944Z"
    },
    "executionInfo": {
     "elapsed": 8,
     "status": "ok",
     "timestamp": 1719433757766,
     "user": {
      "displayName": "Muhamad Dafa Rizkiyanto",
      "userId": "16029394966179110856"
     },
     "user_tz": -420
    },
    "id": "2yEv6GNiDZqh",
    "papermill": {
     "duration": 0.044915,
     "end_time": "2024-11-01T04:50:58.309275",
     "exception": false,
     "start_time": "2024-11-01T04:50:58.264360",
     "status": "completed"
    },
    "tags": []
   },
   "outputs": [],
   "source": [
    "train['Embarked'] = train['Embarked'].fillna(modus_embarked)"
   ]
  },
  {
   "cell_type": "code",
   "execution_count": 40,
   "id": "63dccde2",
   "metadata": {
    "execution": {
     "iopub.execute_input": "2024-11-01T04:50:58.382407Z",
     "iopub.status.busy": "2024-11-01T04:50:58.381446Z",
     "iopub.status.idle": "2024-11-01T04:50:58.395090Z",
     "shell.execute_reply": "2024-11-01T04:50:58.393940Z"
    },
    "executionInfo": {
     "elapsed": 9,
     "status": "ok",
     "timestamp": 1719433757767,
     "user": {
      "displayName": "Muhamad Dafa Rizkiyanto",
      "userId": "16029394966179110856"
     },
     "user_tz": -420
    },
    "id": "26F3XSprDiWA",
    "outputId": "3b1bb463-3b34-46b3-99e8-29bb4bc9e484",
    "papermill": {
     "duration": 0.052998,
     "end_time": "2024-11-01T04:50:58.397285",
     "exception": false,
     "start_time": "2024-11-01T04:50:58.344287",
     "status": "completed"
    },
    "tags": []
   },
   "outputs": [
    {
     "data": {
      "text/html": [
       "<div>\n",
       "<style scoped>\n",
       "    .dataframe tbody tr th:only-of-type {\n",
       "        vertical-align: middle;\n",
       "    }\n",
       "\n",
       "    .dataframe tbody tr th {\n",
       "        vertical-align: top;\n",
       "    }\n",
       "\n",
       "    .dataframe thead th {\n",
       "        text-align: right;\n",
       "    }\n",
       "</style>\n",
       "<table border=\"1\" class=\"dataframe\">\n",
       "  <thead>\n",
       "    <tr style=\"text-align: right;\">\n",
       "      <th></th>\n",
       "      <th>PassengerId</th>\n",
       "      <th>Survived</th>\n",
       "      <th>Pclass</th>\n",
       "      <th>Name</th>\n",
       "      <th>Sex</th>\n",
       "      <th>Age</th>\n",
       "      <th>SibSp</th>\n",
       "      <th>Parch</th>\n",
       "      <th>Ticket</th>\n",
       "      <th>Fare</th>\n",
       "      <th>Cabin</th>\n",
       "      <th>Embarked</th>\n",
       "    </tr>\n",
       "  </thead>\n",
       "  <tbody>\n",
       "  </tbody>\n",
       "</table>\n",
       "</div>"
      ],
      "text/plain": [
       "Empty DataFrame\n",
       "Columns: [PassengerId, Survived, Pclass, Name, Sex, Age, SibSp, Parch, Ticket, Fare, Cabin, Embarked]\n",
       "Index: []"
      ]
     },
     "execution_count": 40,
     "metadata": {},
     "output_type": "execute_result"
    }
   ],
   "source": [
    "train[train['Embarked'].isnull()]"
   ]
  },
  {
   "cell_type": "code",
   "execution_count": 41,
   "id": "73257122",
   "metadata": {
    "execution": {
     "iopub.execute_input": "2024-11-01T04:50:58.470589Z",
     "iopub.status.busy": "2024-11-01T04:50:58.469479Z",
     "iopub.status.idle": "2024-11-01T04:50:58.485330Z",
     "shell.execute_reply": "2024-11-01T04:50:58.484268Z"
    },
    "executionInfo": {
     "elapsed": 607,
     "status": "ok",
     "timestamp": 1719433758366,
     "user": {
      "displayName": "Muhamad Dafa Rizkiyanto",
      "userId": "16029394966179110856"
     },
     "user_tz": -420
    },
    "id": "49mB_RSeDxqN",
    "outputId": "5361533a-2d7b-460e-c2c9-cd8177bcd1f6",
    "papermill": {
     "duration": 0.054583,
     "end_time": "2024-11-01T04:50:58.487483",
     "exception": false,
     "start_time": "2024-11-01T04:50:58.432900",
     "status": "completed"
    },
    "tags": []
   },
   "outputs": [
    {
     "data": {
      "text/html": [
       "<div>\n",
       "<style scoped>\n",
       "    .dataframe tbody tr th:only-of-type {\n",
       "        vertical-align: middle;\n",
       "    }\n",
       "\n",
       "    .dataframe tbody tr th {\n",
       "        vertical-align: top;\n",
       "    }\n",
       "\n",
       "    .dataframe thead th {\n",
       "        text-align: right;\n",
       "    }\n",
       "</style>\n",
       "<table border=\"1\" class=\"dataframe\">\n",
       "  <thead>\n",
       "    <tr style=\"text-align: right;\">\n",
       "      <th></th>\n",
       "      <th>PassengerId</th>\n",
       "      <th>Survived</th>\n",
       "      <th>Pclass</th>\n",
       "      <th>Name</th>\n",
       "      <th>Sex</th>\n",
       "      <th>Age</th>\n",
       "      <th>SibSp</th>\n",
       "      <th>Parch</th>\n",
       "      <th>Ticket</th>\n",
       "      <th>Fare</th>\n",
       "      <th>Cabin</th>\n",
       "      <th>Embarked</th>\n",
       "    </tr>\n",
       "  </thead>\n",
       "  <tbody>\n",
       "    <tr>\n",
       "      <th>61</th>\n",
       "      <td>62</td>\n",
       "      <td>1</td>\n",
       "      <td>1</td>\n",
       "      <td>Icard, Miss. Amelie</td>\n",
       "      <td>female</td>\n",
       "      <td>38.0</td>\n",
       "      <td>0</td>\n",
       "      <td>0</td>\n",
       "      <td>113572</td>\n",
       "      <td>80.0</td>\n",
       "      <td>B28</td>\n",
       "      <td>S</td>\n",
       "    </tr>\n",
       "  </tbody>\n",
       "</table>\n",
       "</div>"
      ],
      "text/plain": [
       "    PassengerId  Survived  Pclass                 Name     Sex   Age  SibSp  \\\n",
       "61           62         1       1  Icard, Miss. Amelie  female  38.0      0   \n",
       "\n",
       "    Parch  Ticket  Fare Cabin Embarked  \n",
       "61      0  113572  80.0   B28        S  "
      ]
     },
     "execution_count": 41,
     "metadata": {},
     "output_type": "execute_result"
    }
   ],
   "source": [
    "train[train['Embarked'].index == 61]"
   ]
  },
  {
   "cell_type": "markdown",
   "id": "b934a8d4",
   "metadata": {
    "id": "x8rpMqsIEAPn",
    "papermill": {
     "duration": 0.035276,
     "end_time": "2024-11-01T04:50:58.558107",
     "exception": false,
     "start_time": "2024-11-01T04:50:58.522831",
     "status": "completed"
    },
    "tags": []
   },
   "source": [
    "# Missing Value Data Age"
   ]
  },
  {
   "cell_type": "code",
   "execution_count": 42,
   "id": "b5082a9b",
   "metadata": {
    "execution": {
     "iopub.execute_input": "2024-11-01T04:50:58.633370Z",
     "iopub.status.busy": "2024-11-01T04:50:58.632353Z",
     "iopub.status.idle": "2024-11-01T04:50:58.641849Z",
     "shell.execute_reply": "2024-11-01T04:50:58.640777Z"
    },
    "executionInfo": {
     "elapsed": 26,
     "status": "ok",
     "timestamp": 1719433758366,
     "user": {
      "displayName": "Muhamad Dafa Rizkiyanto",
      "userId": "16029394966179110856"
     },
     "user_tz": -420
    },
    "id": "sU4ymuGCFJsJ",
    "outputId": "3fd215d8-a2ed-4e1f-e6b6-b1f048b2fc14",
    "papermill": {
     "duration": 0.049014,
     "end_time": "2024-11-01T04:50:58.644189",
     "exception": false,
     "start_time": "2024-11-01T04:50:58.595175",
     "status": "completed"
    },
    "tags": []
   },
   "outputs": [
    {
     "data": {
      "text/plain": [
       "PassengerId      0\n",
       "Survived         0\n",
       "Pclass           0\n",
       "Name             0\n",
       "Sex              0\n",
       "Age            177\n",
       "SibSp            0\n",
       "Parch            0\n",
       "Ticket           0\n",
       "Fare             0\n",
       "Cabin          687\n",
       "Embarked         0\n",
       "dtype: int64"
      ]
     },
     "execution_count": 42,
     "metadata": {},
     "output_type": "execute_result"
    }
   ],
   "source": [
    "train.isnull().sum()"
   ]
  },
  {
   "cell_type": "code",
   "execution_count": 43,
   "id": "94ea5fc8",
   "metadata": {
    "execution": {
     "iopub.execute_input": "2024-11-01T04:50:58.718421Z",
     "iopub.status.busy": "2024-11-01T04:50:58.717488Z",
     "iopub.status.idle": "2024-11-01T04:50:58.725064Z",
     "shell.execute_reply": "2024-11-01T04:50:58.724038Z"
    },
    "executionInfo": {
     "elapsed": 24,
     "status": "ok",
     "timestamp": 1719433758366,
     "user": {
      "displayName": "Muhamad Dafa Rizkiyanto",
      "userId": "16029394966179110856"
     },
     "user_tz": -420
    },
    "id": "AKWvWFKxD_Dl",
    "outputId": "aac62649-d29a-487f-83bb-71bdee32dbe7",
    "papermill": {
     "duration": 0.046818,
     "end_time": "2024-11-01T04:50:58.727329",
     "exception": false,
     "start_time": "2024-11-01T04:50:58.680511",
     "status": "completed"
    },
    "tags": []
   },
   "outputs": [
    {
     "data": {
      "text/plain": [
       "29.69911764705882"
      ]
     },
     "execution_count": 43,
     "metadata": {},
     "output_type": "execute_result"
    }
   ],
   "source": [
    "mean_age = train['Age'].mean()\n",
    "mean_age"
   ]
  },
  {
   "cell_type": "code",
   "execution_count": 44,
   "id": "883baee5",
   "metadata": {
    "execution": {
     "iopub.execute_input": "2024-11-01T04:50:58.801463Z",
     "iopub.status.busy": "2024-11-01T04:50:58.800430Z",
     "iopub.status.idle": "2024-11-01T04:50:58.806742Z",
     "shell.execute_reply": "2024-11-01T04:50:58.805600Z"
    },
    "executionInfo": {
     "elapsed": 21,
     "status": "ok",
     "timestamp": 1719433758366,
     "user": {
      "displayName": "Muhamad Dafa Rizkiyanto",
      "userId": "16029394966179110856"
     },
     "user_tz": -420
    },
    "id": "nHcVYydIEYZH",
    "papermill": {
     "duration": 0.04571,
     "end_time": "2024-11-01T04:50:58.809011",
     "exception": false,
     "start_time": "2024-11-01T04:50:58.763301",
     "status": "completed"
    },
    "tags": []
   },
   "outputs": [],
   "source": [
    "train['Age'] = train['Age'].fillna(mean_age)"
   ]
  },
  {
   "cell_type": "code",
   "execution_count": 45,
   "id": "56539975",
   "metadata": {
    "execution": {
     "iopub.execute_input": "2024-11-01T04:50:58.882435Z",
     "iopub.status.busy": "2024-11-01T04:50:58.881479Z",
     "iopub.status.idle": "2024-11-01T04:50:58.888980Z",
     "shell.execute_reply": "2024-11-01T04:50:58.887931Z"
    },
    "executionInfo": {
     "elapsed": 21,
     "status": "ok",
     "timestamp": 1719433758367,
     "user": {
      "displayName": "Muhamad Dafa Rizkiyanto",
      "userId": "16029394966179110856"
     },
     "user_tz": -420
    },
    "id": "HeK-V8lVE_Uf",
    "outputId": "e633902d-4115-4f57-dd19-ff0f3dee3475",
    "papermill": {
     "duration": 0.046708,
     "end_time": "2024-11-01T04:50:58.891317",
     "exception": false,
     "start_time": "2024-11-01T04:50:58.844609",
     "status": "completed"
    },
    "tags": []
   },
   "outputs": [
    {
     "data": {
      "text/plain": [
       "30.272590361445783"
      ]
     },
     "execution_count": 45,
     "metadata": {},
     "output_type": "execute_result"
    }
   ],
   "source": [
    "mean_age_test = test['Age'].mean()\n",
    "mean_age_test"
   ]
  },
  {
   "cell_type": "code",
   "execution_count": 46,
   "id": "a59063d2",
   "metadata": {
    "execution": {
     "iopub.execute_input": "2024-11-01T04:50:58.965785Z",
     "iopub.status.busy": "2024-11-01T04:50:58.964718Z",
     "iopub.status.idle": "2024-11-01T04:50:58.970742Z",
     "shell.execute_reply": "2024-11-01T04:50:58.969627Z"
    },
    "executionInfo": {
     "elapsed": 19,
     "status": "ok",
     "timestamp": 1719433758367,
     "user": {
      "displayName": "Muhamad Dafa Rizkiyanto",
      "userId": "16029394966179110856"
     },
     "user_tz": -420
    },
    "id": "Dvr3BCM8Fe3G",
    "papermill": {
     "duration": 0.045604,
     "end_time": "2024-11-01T04:50:58.972951",
     "exception": false,
     "start_time": "2024-11-01T04:50:58.927347",
     "status": "completed"
    },
    "tags": []
   },
   "outputs": [],
   "source": [
    "test['Age'] = test['Age'].fillna(mean_age_test)"
   ]
  },
  {
   "cell_type": "markdown",
   "id": "fa4eb2f4",
   "metadata": {
    "id": "P1SuyuceFqs-",
    "papermill": {
     "duration": 0.035429,
     "end_time": "2024-11-01T04:50:59.044527",
     "exception": false,
     "start_time": "2024-11-01T04:50:59.009098",
     "status": "completed"
    },
    "tags": []
   },
   "source": [
    "#missing value Fare"
   ]
  },
  {
   "cell_type": "code",
   "execution_count": 47,
   "id": "3ae04ea6",
   "metadata": {
    "execution": {
     "iopub.execute_input": "2024-11-01T04:50:59.119664Z",
     "iopub.status.busy": "2024-11-01T04:50:59.118636Z",
     "iopub.status.idle": "2024-11-01T04:50:59.125827Z",
     "shell.execute_reply": "2024-11-01T04:50:59.124893Z"
    },
    "executionInfo": {
     "elapsed": 19,
     "status": "ok",
     "timestamp": 1719433758367,
     "user": {
      "displayName": "Muhamad Dafa Rizkiyanto",
      "userId": "16029394966179110856"
     },
     "user_tz": -420
    },
    "id": "OJ76rdbKFtjs",
    "outputId": "1ad1edc9-1c99-4f8f-dc13-9829df1c7117",
    "papermill": {
     "duration": 0.04778,
     "end_time": "2024-11-01T04:50:59.127924",
     "exception": false,
     "start_time": "2024-11-01T04:50:59.080144",
     "status": "completed"
    },
    "tags": []
   },
   "outputs": [
    {
     "data": {
      "text/plain": [
       "32.204207968574636"
      ]
     },
     "execution_count": 47,
     "metadata": {},
     "output_type": "execute_result"
    }
   ],
   "source": [
    "mean_fare = train['Fare'].mean()\n",
    "mean_fare"
   ]
  },
  {
   "cell_type": "code",
   "execution_count": 48,
   "id": "55f51c54",
   "metadata": {
    "execution": {
     "iopub.execute_input": "2024-11-01T04:50:59.202671Z",
     "iopub.status.busy": "2024-11-01T04:50:59.202248Z",
     "iopub.status.idle": "2024-11-01T04:50:59.208191Z",
     "shell.execute_reply": "2024-11-01T04:50:59.207087Z"
    },
    "executionInfo": {
     "elapsed": 17,
     "status": "ok",
     "timestamp": 1719433758367,
     "user": {
      "displayName": "Muhamad Dafa Rizkiyanto",
      "userId": "16029394966179110856"
     },
     "user_tz": -420
    },
    "id": "pYUK9CriF7GE",
    "papermill": {
     "duration": 0.045843,
     "end_time": "2024-11-01T04:50:59.210634",
     "exception": false,
     "start_time": "2024-11-01T04:50:59.164791",
     "status": "completed"
    },
    "tags": []
   },
   "outputs": [],
   "source": [
    "train['Fare'] = train['Fare'].fillna(mean_fare)"
   ]
  },
  {
   "cell_type": "code",
   "execution_count": 49,
   "id": "1a9d598e",
   "metadata": {
    "execution": {
     "iopub.execute_input": "2024-11-01T04:50:59.285414Z",
     "iopub.status.busy": "2024-11-01T04:50:59.284237Z",
     "iopub.status.idle": "2024-11-01T04:50:59.292180Z",
     "shell.execute_reply": "2024-11-01T04:50:59.291121Z"
    },
    "executionInfo": {
     "elapsed": 3,
     "status": "ok",
     "timestamp": 1719434739961,
     "user": {
      "displayName": "Muhamad Dafa Rizkiyanto",
      "userId": "16029394966179110856"
     },
     "user_tz": -420
    },
    "id": "IgsnAWkwGAjv",
    "outputId": "620005b6-b740-44a8-de87-bee1122d84f6",
    "papermill": {
     "duration": 0.047896,
     "end_time": "2024-11-01T04:50:59.294666",
     "exception": false,
     "start_time": "2024-11-01T04:50:59.246770",
     "status": "completed"
    },
    "tags": []
   },
   "outputs": [
    {
     "data": {
      "text/plain": [
       "0"
      ]
     },
     "execution_count": 49,
     "metadata": {},
     "output_type": "execute_result"
    }
   ],
   "source": [
    "train['Fare'].isnull().sum()"
   ]
  },
  {
   "cell_type": "code",
   "execution_count": 50,
   "id": "29974f30",
   "metadata": {
    "execution": {
     "iopub.execute_input": "2024-11-01T04:50:59.369808Z",
     "iopub.status.busy": "2024-11-01T04:50:59.368964Z",
     "iopub.status.idle": "2024-11-01T04:50:59.374541Z",
     "shell.execute_reply": "2024-11-01T04:50:59.373494Z"
    },
    "executionInfo": {
     "elapsed": 390,
     "status": "ok",
     "timestamp": 1719434765328,
     "user": {
      "displayName": "Muhamad Dafa Rizkiyanto",
      "userId": "16029394966179110856"
     },
     "user_tz": -420
    },
    "id": "cFILJM6BTCuz",
    "papermill": {
     "duration": 0.04543,
     "end_time": "2024-11-01T04:50:59.376809",
     "exception": false,
     "start_time": "2024-11-01T04:50:59.331379",
     "status": "completed"
    },
    "tags": []
   },
   "outputs": [],
   "source": [
    "test['Fare'] = test['Fare'].fillna(mean_fare)"
   ]
  },
  {
   "cell_type": "markdown",
   "id": "a0aa895f",
   "metadata": {
    "id": "hpt0V8WLGJhK",
    "papermill": {
     "duration": 0.036513,
     "end_time": "2024-11-01T04:50:59.449175",
     "exception": false,
     "start_time": "2024-11-01T04:50:59.412662",
     "status": "completed"
    },
    "tags": []
   },
   "source": [
    "# Drop Data Cabin karena terlalu banyak missing value"
   ]
  },
  {
   "cell_type": "code",
   "execution_count": 51,
   "id": "6f315006",
   "metadata": {
    "execution": {
     "iopub.execute_input": "2024-11-01T04:50:59.523326Z",
     "iopub.status.busy": "2024-11-01T04:50:59.522865Z",
     "iopub.status.idle": "2024-11-01T04:50:59.530213Z",
     "shell.execute_reply": "2024-11-01T04:50:59.529131Z"
    },
    "executionInfo": {
     "elapsed": 15,
     "status": "ok",
     "timestamp": 1719433758367,
     "user": {
      "displayName": "Muhamad Dafa Rizkiyanto",
      "userId": "16029394966179110856"
     },
     "user_tz": -420
    },
    "id": "FEGgwBqsGNDn",
    "papermill": {
     "duration": 0.047323,
     "end_time": "2024-11-01T04:50:59.532559",
     "exception": false,
     "start_time": "2024-11-01T04:50:59.485236",
     "status": "completed"
    },
    "tags": []
   },
   "outputs": [],
   "source": [
    "train = train.drop(['Cabin'],axis=1)\n",
    "test = test.drop(['Cabin'],axis=1)"
   ]
  },
  {
   "cell_type": "code",
   "execution_count": 52,
   "id": "4712930d",
   "metadata": {
    "execution": {
     "iopub.execute_input": "2024-11-01T04:50:59.607138Z",
     "iopub.status.busy": "2024-11-01T04:50:59.606385Z",
     "iopub.status.idle": "2024-11-01T04:50:59.615923Z",
     "shell.execute_reply": "2024-11-01T04:50:59.614888Z"
    },
    "executionInfo": {
     "elapsed": 14,
     "status": "ok",
     "timestamp": 1719433758367,
     "user": {
      "displayName": "Muhamad Dafa Rizkiyanto",
      "userId": "16029394966179110856"
     },
     "user_tz": -420
    },
    "id": "Qlvmsp1WGal_",
    "outputId": "fc5f566d-fb0f-4525-a42a-92cf9025099a",
    "papermill": {
     "duration": 0.049461,
     "end_time": "2024-11-01T04:50:59.618142",
     "exception": false,
     "start_time": "2024-11-01T04:50:59.568681",
     "status": "completed"
    },
    "tags": []
   },
   "outputs": [
    {
     "data": {
      "text/plain": [
       "PassengerId    0\n",
       "Survived       0\n",
       "Pclass         0\n",
       "Name           0\n",
       "Sex            0\n",
       "Age            0\n",
       "SibSp          0\n",
       "Parch          0\n",
       "Ticket         0\n",
       "Fare           0\n",
       "Embarked       0\n",
       "dtype: int64"
      ]
     },
     "execution_count": 52,
     "metadata": {},
     "output_type": "execute_result"
    }
   ],
   "source": [
    "train.isnull().sum()"
   ]
  },
  {
   "cell_type": "code",
   "execution_count": 53,
   "id": "77792f5d",
   "metadata": {
    "execution": {
     "iopub.execute_input": "2024-11-01T04:50:59.692078Z",
     "iopub.status.busy": "2024-11-01T04:50:59.691631Z",
     "iopub.status.idle": "2024-11-01T04:50:59.700772Z",
     "shell.execute_reply": "2024-11-01T04:50:59.699695Z"
    },
    "executionInfo": {
     "elapsed": 385,
     "status": "ok",
     "timestamp": 1719434770014,
     "user": {
      "displayName": "Muhamad Dafa Rizkiyanto",
      "userId": "16029394966179110856"
     },
     "user_tz": -420
    },
    "id": "gY_mAbelGgW4",
    "outputId": "2007ba26-1925-40c4-974c-7acdb22173ef",
    "papermill": {
     "duration": 0.048457,
     "end_time": "2024-11-01T04:50:59.702969",
     "exception": false,
     "start_time": "2024-11-01T04:50:59.654512",
     "status": "completed"
    },
    "tags": []
   },
   "outputs": [
    {
     "data": {
      "text/plain": [
       "PassengerId    0\n",
       "Pclass         0\n",
       "Name           0\n",
       "Sex            0\n",
       "Age            0\n",
       "SibSp          0\n",
       "Parch          0\n",
       "Ticket         0\n",
       "Fare           0\n",
       "Embarked       0\n",
       "dtype: int64"
      ]
     },
     "execution_count": 53,
     "metadata": {},
     "output_type": "execute_result"
    }
   ],
   "source": [
    "test.isnull().sum()"
   ]
  },
  {
   "cell_type": "markdown",
   "id": "167dc26e",
   "metadata": {
    "id": "9YlDIFoLGjyQ",
    "papermill": {
     "duration": 0.035806,
     "end_time": "2024-11-01T04:50:59.775049",
     "exception": false,
     "start_time": "2024-11-01T04:50:59.739243",
     "status": "completed"
    },
    "tags": []
   },
   "source": [
    "# **Convert data to numeric**"
   ]
  },
  {
   "cell_type": "markdown",
   "id": "4a65930d",
   "metadata": {
    "id": "CfeVWsnVHJD8",
    "papermill": {
     "duration": 0.035816,
     "end_time": "2024-11-01T04:50:59.846968",
     "exception": false,
     "start_time": "2024-11-01T04:50:59.811152",
     "status": "completed"
    },
    "tags": []
   },
   "source": [
    "Convert Data Sex (Binary Converting)"
   ]
  },
  {
   "cell_type": "code",
   "execution_count": 54,
   "id": "b3ec9398",
   "metadata": {
    "execution": {
     "iopub.execute_input": "2024-11-01T04:50:59.921348Z",
     "iopub.status.busy": "2024-11-01T04:50:59.920559Z",
     "iopub.status.idle": "2024-11-01T04:50:59.936413Z",
     "shell.execute_reply": "2024-11-01T04:50:59.935377Z"
    },
    "executionInfo": {
     "elapsed": 11,
     "status": "ok",
     "timestamp": 1719433758367,
     "user": {
      "displayName": "Muhamad Dafa Rizkiyanto",
      "userId": "16029394966179110856"
     },
     "user_tz": -420
    },
    "id": "Sy91LzJcGq6v",
    "outputId": "71667e74-ce89-4f7b-d9ec-66be253b006e",
    "papermill": {
     "duration": 0.055631,
     "end_time": "2024-11-01T04:50:59.938827",
     "exception": false,
     "start_time": "2024-11-01T04:50:59.883196",
     "status": "completed"
    },
    "tags": []
   },
   "outputs": [
    {
     "data": {
      "text/html": [
       "<div>\n",
       "<style scoped>\n",
       "    .dataframe tbody tr th:only-of-type {\n",
       "        vertical-align: middle;\n",
       "    }\n",
       "\n",
       "    .dataframe tbody tr th {\n",
       "        vertical-align: top;\n",
       "    }\n",
       "\n",
       "    .dataframe thead th {\n",
       "        text-align: right;\n",
       "    }\n",
       "</style>\n",
       "<table border=\"1\" class=\"dataframe\">\n",
       "  <thead>\n",
       "    <tr style=\"text-align: right;\">\n",
       "      <th></th>\n",
       "      <th>PassengerId</th>\n",
       "      <th>Survived</th>\n",
       "      <th>Pclass</th>\n",
       "      <th>Name</th>\n",
       "      <th>Sex</th>\n",
       "      <th>Age</th>\n",
       "      <th>SibSp</th>\n",
       "      <th>Parch</th>\n",
       "      <th>Ticket</th>\n",
       "      <th>Fare</th>\n",
       "      <th>Embarked</th>\n",
       "    </tr>\n",
       "  </thead>\n",
       "  <tbody>\n",
       "    <tr>\n",
       "      <th>0</th>\n",
       "      <td>1</td>\n",
       "      <td>0</td>\n",
       "      <td>3</td>\n",
       "      <td>Braund, Mr. Owen Harris</td>\n",
       "      <td>male</td>\n",
       "      <td>22.0</td>\n",
       "      <td>1</td>\n",
       "      <td>0</td>\n",
       "      <td>A/5 21171</td>\n",
       "      <td>7.2500</td>\n",
       "      <td>S</td>\n",
       "    </tr>\n",
       "    <tr>\n",
       "      <th>1</th>\n",
       "      <td>2</td>\n",
       "      <td>1</td>\n",
       "      <td>1</td>\n",
       "      <td>Cumings, Mrs. John Bradley (Florence Briggs Th...</td>\n",
       "      <td>female</td>\n",
       "      <td>38.0</td>\n",
       "      <td>1</td>\n",
       "      <td>0</td>\n",
       "      <td>PC 17599</td>\n",
       "      <td>71.2833</td>\n",
       "      <td>C</td>\n",
       "    </tr>\n",
       "    <tr>\n",
       "      <th>2</th>\n",
       "      <td>3</td>\n",
       "      <td>1</td>\n",
       "      <td>3</td>\n",
       "      <td>Heikkinen, Miss. Laina</td>\n",
       "      <td>female</td>\n",
       "      <td>26.0</td>\n",
       "      <td>0</td>\n",
       "      <td>0</td>\n",
       "      <td>STON/O2. 3101282</td>\n",
       "      <td>7.9250</td>\n",
       "      <td>S</td>\n",
       "    </tr>\n",
       "    <tr>\n",
       "      <th>3</th>\n",
       "      <td>4</td>\n",
       "      <td>1</td>\n",
       "      <td>1</td>\n",
       "      <td>Futrelle, Mrs. Jacques Heath (Lily May Peel)</td>\n",
       "      <td>female</td>\n",
       "      <td>35.0</td>\n",
       "      <td>1</td>\n",
       "      <td>0</td>\n",
       "      <td>113803</td>\n",
       "      <td>53.1000</td>\n",
       "      <td>S</td>\n",
       "    </tr>\n",
       "    <tr>\n",
       "      <th>4</th>\n",
       "      <td>5</td>\n",
       "      <td>0</td>\n",
       "      <td>3</td>\n",
       "      <td>Allen, Mr. William Henry</td>\n",
       "      <td>male</td>\n",
       "      <td>35.0</td>\n",
       "      <td>0</td>\n",
       "      <td>0</td>\n",
       "      <td>373450</td>\n",
       "      <td>8.0500</td>\n",
       "      <td>S</td>\n",
       "    </tr>\n",
       "  </tbody>\n",
       "</table>\n",
       "</div>"
      ],
      "text/plain": [
       "   PassengerId  Survived  Pclass  \\\n",
       "0            1         0       3   \n",
       "1            2         1       1   \n",
       "2            3         1       3   \n",
       "3            4         1       1   \n",
       "4            5         0       3   \n",
       "\n",
       "                                                Name     Sex   Age  SibSp  \\\n",
       "0                            Braund, Mr. Owen Harris    male  22.0      1   \n",
       "1  Cumings, Mrs. John Bradley (Florence Briggs Th...  female  38.0      1   \n",
       "2                             Heikkinen, Miss. Laina  female  26.0      0   \n",
       "3       Futrelle, Mrs. Jacques Heath (Lily May Peel)  female  35.0      1   \n",
       "4                           Allen, Mr. William Henry    male  35.0      0   \n",
       "\n",
       "   Parch            Ticket     Fare Embarked  \n",
       "0      0         A/5 21171   7.2500        S  \n",
       "1      0          PC 17599  71.2833        C  \n",
       "2      0  STON/O2. 3101282   7.9250        S  \n",
       "3      0            113803  53.1000        S  \n",
       "4      0            373450   8.0500        S  "
      ]
     },
     "execution_count": 54,
     "metadata": {},
     "output_type": "execute_result"
    }
   ],
   "source": [
    "train.head()"
   ]
  },
  {
   "cell_type": "code",
   "execution_count": 55,
   "id": "dff87f60",
   "metadata": {
    "execution": {
     "iopub.execute_input": "2024-11-01T04:51:00.015674Z",
     "iopub.status.busy": "2024-11-01T04:51:00.015267Z",
     "iopub.status.idle": "2024-11-01T04:51:00.023322Z",
     "shell.execute_reply": "2024-11-01T04:51:00.022185Z"
    },
    "executionInfo": {
     "elapsed": 10,
     "status": "ok",
     "timestamp": 1719433758367,
     "user": {
      "displayName": "Muhamad Dafa Rizkiyanto",
      "userId": "16029394966179110856"
     },
     "user_tz": -420
    },
    "id": "3m42cpoRHS6l",
    "papermill": {
     "duration": 0.04956,
     "end_time": "2024-11-01T04:51:00.025679",
     "exception": false,
     "start_time": "2024-11-01T04:50:59.976119",
     "status": "completed"
    },
    "tags": []
   },
   "outputs": [],
   "source": [
    "sex_mapping = {'male' : 1, 'female' : 0}\n",
    "train['Sex'] = train['Sex'].map(sex_mapping)\n",
    "test['Sex'] = test['Sex'].map(sex_mapping)"
   ]
  },
  {
   "cell_type": "code",
   "execution_count": 56,
   "id": "78edc7e9",
   "metadata": {
    "execution": {
     "iopub.execute_input": "2024-11-01T04:51:00.103267Z",
     "iopub.status.busy": "2024-11-01T04:51:00.102190Z",
     "iopub.status.idle": "2024-11-01T04:51:00.118401Z",
     "shell.execute_reply": "2024-11-01T04:51:00.117298Z"
    },
    "executionInfo": {
     "elapsed": 10,
     "status": "ok",
     "timestamp": 1719433758368,
     "user": {
      "displayName": "Muhamad Dafa Rizkiyanto",
      "userId": "16029394966179110856"
     },
     "user_tz": -420
    },
    "id": "2abeWdYlHrmc",
    "outputId": "f7773cee-ef96-4f47-e0e7-52ea1ba3bf18",
    "papermill": {
     "duration": 0.058497,
     "end_time": "2024-11-01T04:51:00.120995",
     "exception": false,
     "start_time": "2024-11-01T04:51:00.062498",
     "status": "completed"
    },
    "tags": []
   },
   "outputs": [
    {
     "data": {
      "text/html": [
       "<div>\n",
       "<style scoped>\n",
       "    .dataframe tbody tr th:only-of-type {\n",
       "        vertical-align: middle;\n",
       "    }\n",
       "\n",
       "    .dataframe tbody tr th {\n",
       "        vertical-align: top;\n",
       "    }\n",
       "\n",
       "    .dataframe thead th {\n",
       "        text-align: right;\n",
       "    }\n",
       "</style>\n",
       "<table border=\"1\" class=\"dataframe\">\n",
       "  <thead>\n",
       "    <tr style=\"text-align: right;\">\n",
       "      <th></th>\n",
       "      <th>PassengerId</th>\n",
       "      <th>Survived</th>\n",
       "      <th>Pclass</th>\n",
       "      <th>Name</th>\n",
       "      <th>Sex</th>\n",
       "      <th>Age</th>\n",
       "      <th>SibSp</th>\n",
       "      <th>Parch</th>\n",
       "      <th>Ticket</th>\n",
       "      <th>Fare</th>\n",
       "      <th>Embarked</th>\n",
       "    </tr>\n",
       "  </thead>\n",
       "  <tbody>\n",
       "    <tr>\n",
       "      <th>0</th>\n",
       "      <td>1</td>\n",
       "      <td>0</td>\n",
       "      <td>3</td>\n",
       "      <td>Braund, Mr. Owen Harris</td>\n",
       "      <td>1</td>\n",
       "      <td>22.0</td>\n",
       "      <td>1</td>\n",
       "      <td>0</td>\n",
       "      <td>A/5 21171</td>\n",
       "      <td>7.2500</td>\n",
       "      <td>S</td>\n",
       "    </tr>\n",
       "    <tr>\n",
       "      <th>1</th>\n",
       "      <td>2</td>\n",
       "      <td>1</td>\n",
       "      <td>1</td>\n",
       "      <td>Cumings, Mrs. John Bradley (Florence Briggs Th...</td>\n",
       "      <td>0</td>\n",
       "      <td>38.0</td>\n",
       "      <td>1</td>\n",
       "      <td>0</td>\n",
       "      <td>PC 17599</td>\n",
       "      <td>71.2833</td>\n",
       "      <td>C</td>\n",
       "    </tr>\n",
       "    <tr>\n",
       "      <th>2</th>\n",
       "      <td>3</td>\n",
       "      <td>1</td>\n",
       "      <td>3</td>\n",
       "      <td>Heikkinen, Miss. Laina</td>\n",
       "      <td>0</td>\n",
       "      <td>26.0</td>\n",
       "      <td>0</td>\n",
       "      <td>0</td>\n",
       "      <td>STON/O2. 3101282</td>\n",
       "      <td>7.9250</td>\n",
       "      <td>S</td>\n",
       "    </tr>\n",
       "    <tr>\n",
       "      <th>3</th>\n",
       "      <td>4</td>\n",
       "      <td>1</td>\n",
       "      <td>1</td>\n",
       "      <td>Futrelle, Mrs. Jacques Heath (Lily May Peel)</td>\n",
       "      <td>0</td>\n",
       "      <td>35.0</td>\n",
       "      <td>1</td>\n",
       "      <td>0</td>\n",
       "      <td>113803</td>\n",
       "      <td>53.1000</td>\n",
       "      <td>S</td>\n",
       "    </tr>\n",
       "    <tr>\n",
       "      <th>4</th>\n",
       "      <td>5</td>\n",
       "      <td>0</td>\n",
       "      <td>3</td>\n",
       "      <td>Allen, Mr. William Henry</td>\n",
       "      <td>1</td>\n",
       "      <td>35.0</td>\n",
       "      <td>0</td>\n",
       "      <td>0</td>\n",
       "      <td>373450</td>\n",
       "      <td>8.0500</td>\n",
       "      <td>S</td>\n",
       "    </tr>\n",
       "  </tbody>\n",
       "</table>\n",
       "</div>"
      ],
      "text/plain": [
       "   PassengerId  Survived  Pclass  \\\n",
       "0            1         0       3   \n",
       "1            2         1       1   \n",
       "2            3         1       3   \n",
       "3            4         1       1   \n",
       "4            5         0       3   \n",
       "\n",
       "                                                Name  Sex   Age  SibSp  Parch  \\\n",
       "0                            Braund, Mr. Owen Harris    1  22.0      1      0   \n",
       "1  Cumings, Mrs. John Bradley (Florence Briggs Th...    0  38.0      1      0   \n",
       "2                             Heikkinen, Miss. Laina    0  26.0      0      0   \n",
       "3       Futrelle, Mrs. Jacques Heath (Lily May Peel)    0  35.0      1      0   \n",
       "4                           Allen, Mr. William Henry    1  35.0      0      0   \n",
       "\n",
       "             Ticket     Fare Embarked  \n",
       "0         A/5 21171   7.2500        S  \n",
       "1          PC 17599  71.2833        C  \n",
       "2  STON/O2. 3101282   7.9250        S  \n",
       "3            113803  53.1000        S  \n",
       "4            373450   8.0500        S  "
      ]
     },
     "execution_count": 56,
     "metadata": {},
     "output_type": "execute_result"
    }
   ],
   "source": [
    "train.head()"
   ]
  },
  {
   "cell_type": "code",
   "execution_count": 57,
   "id": "50c606d4",
   "metadata": {
    "execution": {
     "iopub.execute_input": "2024-11-01T04:51:00.197384Z",
     "iopub.status.busy": "2024-11-01T04:51:00.196929Z",
     "iopub.status.idle": "2024-11-01T04:51:00.211826Z",
     "shell.execute_reply": "2024-11-01T04:51:00.210765Z"
    },
    "executionInfo": {
     "elapsed": 435,
     "status": "ok",
     "timestamp": 1719433758795,
     "user": {
      "displayName": "Muhamad Dafa Rizkiyanto",
      "userId": "16029394966179110856"
     },
     "user_tz": -420
    },
    "id": "6xGhMcl-HzVz",
    "outputId": "cb77d883-16ad-487d-9951-da57bdd69373",
    "papermill": {
     "duration": 0.05566,
     "end_time": "2024-11-01T04:51:00.214041",
     "exception": false,
     "start_time": "2024-11-01T04:51:00.158381",
     "status": "completed"
    },
    "tags": []
   },
   "outputs": [
    {
     "data": {
      "text/html": [
       "<div>\n",
       "<style scoped>\n",
       "    .dataframe tbody tr th:only-of-type {\n",
       "        vertical-align: middle;\n",
       "    }\n",
       "\n",
       "    .dataframe tbody tr th {\n",
       "        vertical-align: top;\n",
       "    }\n",
       "\n",
       "    .dataframe thead th {\n",
       "        text-align: right;\n",
       "    }\n",
       "</style>\n",
       "<table border=\"1\" class=\"dataframe\">\n",
       "  <thead>\n",
       "    <tr style=\"text-align: right;\">\n",
       "      <th></th>\n",
       "      <th>PassengerId</th>\n",
       "      <th>Pclass</th>\n",
       "      <th>Name</th>\n",
       "      <th>Sex</th>\n",
       "      <th>Age</th>\n",
       "      <th>SibSp</th>\n",
       "      <th>Parch</th>\n",
       "      <th>Ticket</th>\n",
       "      <th>Fare</th>\n",
       "      <th>Embarked</th>\n",
       "    </tr>\n",
       "  </thead>\n",
       "  <tbody>\n",
       "    <tr>\n",
       "      <th>0</th>\n",
       "      <td>892</td>\n",
       "      <td>3</td>\n",
       "      <td>Kelly, Mr. James</td>\n",
       "      <td>1</td>\n",
       "      <td>34.5</td>\n",
       "      <td>0</td>\n",
       "      <td>0</td>\n",
       "      <td>330911</td>\n",
       "      <td>7.8292</td>\n",
       "      <td>Q</td>\n",
       "    </tr>\n",
       "    <tr>\n",
       "      <th>1</th>\n",
       "      <td>893</td>\n",
       "      <td>3</td>\n",
       "      <td>Wilkes, Mrs. James (Ellen Needs)</td>\n",
       "      <td>0</td>\n",
       "      <td>47.0</td>\n",
       "      <td>1</td>\n",
       "      <td>0</td>\n",
       "      <td>363272</td>\n",
       "      <td>7.0000</td>\n",
       "      <td>S</td>\n",
       "    </tr>\n",
       "    <tr>\n",
       "      <th>2</th>\n",
       "      <td>894</td>\n",
       "      <td>2</td>\n",
       "      <td>Myles, Mr. Thomas Francis</td>\n",
       "      <td>1</td>\n",
       "      <td>62.0</td>\n",
       "      <td>0</td>\n",
       "      <td>0</td>\n",
       "      <td>240276</td>\n",
       "      <td>9.6875</td>\n",
       "      <td>Q</td>\n",
       "    </tr>\n",
       "    <tr>\n",
       "      <th>3</th>\n",
       "      <td>895</td>\n",
       "      <td>3</td>\n",
       "      <td>Wirz, Mr. Albert</td>\n",
       "      <td>1</td>\n",
       "      <td>27.0</td>\n",
       "      <td>0</td>\n",
       "      <td>0</td>\n",
       "      <td>315154</td>\n",
       "      <td>8.6625</td>\n",
       "      <td>S</td>\n",
       "    </tr>\n",
       "    <tr>\n",
       "      <th>4</th>\n",
       "      <td>896</td>\n",
       "      <td>3</td>\n",
       "      <td>Hirvonen, Mrs. Alexander (Helga E Lindqvist)</td>\n",
       "      <td>0</td>\n",
       "      <td>22.0</td>\n",
       "      <td>1</td>\n",
       "      <td>1</td>\n",
       "      <td>3101298</td>\n",
       "      <td>12.2875</td>\n",
       "      <td>S</td>\n",
       "    </tr>\n",
       "  </tbody>\n",
       "</table>\n",
       "</div>"
      ],
      "text/plain": [
       "   PassengerId  Pclass                                          Name  Sex  \\\n",
       "0          892       3                              Kelly, Mr. James    1   \n",
       "1          893       3              Wilkes, Mrs. James (Ellen Needs)    0   \n",
       "2          894       2                     Myles, Mr. Thomas Francis    1   \n",
       "3          895       3                              Wirz, Mr. Albert    1   \n",
       "4          896       3  Hirvonen, Mrs. Alexander (Helga E Lindqvist)    0   \n",
       "\n",
       "    Age  SibSp  Parch   Ticket     Fare Embarked  \n",
       "0  34.5      0      0   330911   7.8292        Q  \n",
       "1  47.0      1      0   363272   7.0000        S  \n",
       "2  62.0      0      0   240276   9.6875        Q  \n",
       "3  27.0      0      0   315154   8.6625        S  \n",
       "4  22.0      1      1  3101298  12.2875        S  "
      ]
     },
     "execution_count": 57,
     "metadata": {},
     "output_type": "execute_result"
    }
   ],
   "source": [
    "test.head()"
   ]
  },
  {
   "cell_type": "markdown",
   "id": "2087af02",
   "metadata": {
    "id": "DYcftrq4H6x7",
    "papermill": {
     "duration": 0.036681,
     "end_time": "2024-11-01T04:51:00.287731",
     "exception": false,
     "start_time": "2024-11-01T04:51:00.251050",
     "status": "completed"
    },
    "tags": []
   },
   "source": [
    "#Convert Data Embarked"
   ]
  },
  {
   "cell_type": "code",
   "execution_count": 58,
   "id": "2e1af704",
   "metadata": {
    "execution": {
     "iopub.execute_input": "2024-11-01T04:51:00.363237Z",
     "iopub.status.busy": "2024-11-01T04:51:00.362450Z",
     "iopub.status.idle": "2024-11-01T04:51:00.376336Z",
     "shell.execute_reply": "2024-11-01T04:51:00.375260Z"
    },
    "executionInfo": {
     "elapsed": 13,
     "status": "ok",
     "timestamp": 1719433758795,
     "user": {
      "displayName": "Muhamad Dafa Rizkiyanto",
      "userId": "16029394966179110856"
     },
     "user_tz": -420
    },
    "id": "BUvq3o0WJoXF",
    "outputId": "bca900f6-fdc6-478c-83c3-580a999ed1e2",
    "papermill": {
     "duration": 0.054248,
     "end_time": "2024-11-01T04:51:00.378829",
     "exception": false,
     "start_time": "2024-11-01T04:51:00.324581",
     "status": "completed"
    },
    "tags": []
   },
   "outputs": [
    {
     "data": {
      "text/html": [
       "<div>\n",
       "<style scoped>\n",
       "    .dataframe tbody tr th:only-of-type {\n",
       "        vertical-align: middle;\n",
       "    }\n",
       "\n",
       "    .dataframe tbody tr th {\n",
       "        vertical-align: top;\n",
       "    }\n",
       "\n",
       "    .dataframe thead th {\n",
       "        text-align: right;\n",
       "    }\n",
       "</style>\n",
       "<table border=\"1\" class=\"dataframe\">\n",
       "  <thead>\n",
       "    <tr style=\"text-align: right;\">\n",
       "      <th></th>\n",
       "      <th>Embarked_C</th>\n",
       "      <th>Embarked_Q</th>\n",
       "      <th>Embarked_S</th>\n",
       "    </tr>\n",
       "  </thead>\n",
       "  <tbody>\n",
       "    <tr>\n",
       "      <th>0</th>\n",
       "      <td>0</td>\n",
       "      <td>0</td>\n",
       "      <td>1</td>\n",
       "    </tr>\n",
       "    <tr>\n",
       "      <th>1</th>\n",
       "      <td>1</td>\n",
       "      <td>0</td>\n",
       "      <td>0</td>\n",
       "    </tr>\n",
       "    <tr>\n",
       "      <th>2</th>\n",
       "      <td>0</td>\n",
       "      <td>0</td>\n",
       "      <td>1</td>\n",
       "    </tr>\n",
       "    <tr>\n",
       "      <th>3</th>\n",
       "      <td>0</td>\n",
       "      <td>0</td>\n",
       "      <td>1</td>\n",
       "    </tr>\n",
       "    <tr>\n",
       "      <th>4</th>\n",
       "      <td>0</td>\n",
       "      <td>0</td>\n",
       "      <td>1</td>\n",
       "    </tr>\n",
       "  </tbody>\n",
       "</table>\n",
       "</div>"
      ],
      "text/plain": [
       "   Embarked_C  Embarked_Q  Embarked_S\n",
       "0           0           0           1\n",
       "1           1           0           0\n",
       "2           0           0           1\n",
       "3           0           0           1\n",
       "4           0           0           1"
      ]
     },
     "execution_count": 58,
     "metadata": {},
     "output_type": "execute_result"
    }
   ],
   "source": [
    "embarked = train[['Embarked']]\n",
    "dummies = pd.get_dummies(embarked)\n",
    "dummies = dummies.astype(int)\n",
    "dummies.head()"
   ]
  },
  {
   "cell_type": "code",
   "execution_count": 59,
   "id": "9d27c3a0",
   "metadata": {
    "execution": {
     "iopub.execute_input": "2024-11-01T04:51:00.456778Z",
     "iopub.status.busy": "2024-11-01T04:51:00.456338Z",
     "iopub.status.idle": "2024-11-01T04:51:00.472050Z",
     "shell.execute_reply": "2024-11-01T04:51:00.471004Z"
    },
    "executionInfo": {
     "elapsed": 12,
     "status": "ok",
     "timestamp": 1719433758795,
     "user": {
      "displayName": "Muhamad Dafa Rizkiyanto",
      "userId": "16029394966179110856"
     },
     "user_tz": -420
    },
    "id": "FNpEofPAJ_1H",
    "outputId": "77e02ae6-b306-4711-d5f0-b518253e75ce",
    "papermill": {
     "duration": 0.057385,
     "end_time": "2024-11-01T04:51:00.474338",
     "exception": false,
     "start_time": "2024-11-01T04:51:00.416953",
     "status": "completed"
    },
    "tags": []
   },
   "outputs": [
    {
     "data": {
      "text/html": [
       "<div>\n",
       "<style scoped>\n",
       "    .dataframe tbody tr th:only-of-type {\n",
       "        vertical-align: middle;\n",
       "    }\n",
       "\n",
       "    .dataframe tbody tr th {\n",
       "        vertical-align: top;\n",
       "    }\n",
       "\n",
       "    .dataframe thead th {\n",
       "        text-align: right;\n",
       "    }\n",
       "</style>\n",
       "<table border=\"1\" class=\"dataframe\">\n",
       "  <thead>\n",
       "    <tr style=\"text-align: right;\">\n",
       "      <th></th>\n",
       "      <th>PassengerId</th>\n",
       "      <th>Survived</th>\n",
       "      <th>Pclass</th>\n",
       "      <th>Name</th>\n",
       "      <th>Sex</th>\n",
       "      <th>Age</th>\n",
       "      <th>SibSp</th>\n",
       "      <th>Parch</th>\n",
       "      <th>Ticket</th>\n",
       "      <th>Fare</th>\n",
       "      <th>Embarked</th>\n",
       "    </tr>\n",
       "  </thead>\n",
       "  <tbody>\n",
       "    <tr>\n",
       "      <th>0</th>\n",
       "      <td>1</td>\n",
       "      <td>0</td>\n",
       "      <td>3</td>\n",
       "      <td>Braund, Mr. Owen Harris</td>\n",
       "      <td>1</td>\n",
       "      <td>22.0</td>\n",
       "      <td>1</td>\n",
       "      <td>0</td>\n",
       "      <td>A/5 21171</td>\n",
       "      <td>7.2500</td>\n",
       "      <td>S</td>\n",
       "    </tr>\n",
       "    <tr>\n",
       "      <th>1</th>\n",
       "      <td>2</td>\n",
       "      <td>1</td>\n",
       "      <td>1</td>\n",
       "      <td>Cumings, Mrs. John Bradley (Florence Briggs Th...</td>\n",
       "      <td>0</td>\n",
       "      <td>38.0</td>\n",
       "      <td>1</td>\n",
       "      <td>0</td>\n",
       "      <td>PC 17599</td>\n",
       "      <td>71.2833</td>\n",
       "      <td>C</td>\n",
       "    </tr>\n",
       "    <tr>\n",
       "      <th>2</th>\n",
       "      <td>3</td>\n",
       "      <td>1</td>\n",
       "      <td>3</td>\n",
       "      <td>Heikkinen, Miss. Laina</td>\n",
       "      <td>0</td>\n",
       "      <td>26.0</td>\n",
       "      <td>0</td>\n",
       "      <td>0</td>\n",
       "      <td>STON/O2. 3101282</td>\n",
       "      <td>7.9250</td>\n",
       "      <td>S</td>\n",
       "    </tr>\n",
       "    <tr>\n",
       "      <th>3</th>\n",
       "      <td>4</td>\n",
       "      <td>1</td>\n",
       "      <td>1</td>\n",
       "      <td>Futrelle, Mrs. Jacques Heath (Lily May Peel)</td>\n",
       "      <td>0</td>\n",
       "      <td>35.0</td>\n",
       "      <td>1</td>\n",
       "      <td>0</td>\n",
       "      <td>113803</td>\n",
       "      <td>53.1000</td>\n",
       "      <td>S</td>\n",
       "    </tr>\n",
       "    <tr>\n",
       "      <th>4</th>\n",
       "      <td>5</td>\n",
       "      <td>0</td>\n",
       "      <td>3</td>\n",
       "      <td>Allen, Mr. William Henry</td>\n",
       "      <td>1</td>\n",
       "      <td>35.0</td>\n",
       "      <td>0</td>\n",
       "      <td>0</td>\n",
       "      <td>373450</td>\n",
       "      <td>8.0500</td>\n",
       "      <td>S</td>\n",
       "    </tr>\n",
       "  </tbody>\n",
       "</table>\n",
       "</div>"
      ],
      "text/plain": [
       "   PassengerId  Survived  Pclass  \\\n",
       "0            1         0       3   \n",
       "1            2         1       1   \n",
       "2            3         1       3   \n",
       "3            4         1       1   \n",
       "4            5         0       3   \n",
       "\n",
       "                                                Name  Sex   Age  SibSp  Parch  \\\n",
       "0                            Braund, Mr. Owen Harris    1  22.0      1      0   \n",
       "1  Cumings, Mrs. John Bradley (Florence Briggs Th...    0  38.0      1      0   \n",
       "2                             Heikkinen, Miss. Laina    0  26.0      0      0   \n",
       "3       Futrelle, Mrs. Jacques Heath (Lily May Peel)    0  35.0      1      0   \n",
       "4                           Allen, Mr. William Henry    1  35.0      0      0   \n",
       "\n",
       "             Ticket     Fare Embarked  \n",
       "0         A/5 21171   7.2500        S  \n",
       "1          PC 17599  71.2833        C  \n",
       "2  STON/O2. 3101282   7.9250        S  \n",
       "3            113803  53.1000        S  \n",
       "4            373450   8.0500        S  "
      ]
     },
     "execution_count": 59,
     "metadata": {},
     "output_type": "execute_result"
    }
   ],
   "source": [
    "train.head()"
   ]
  },
  {
   "cell_type": "code",
   "execution_count": 60,
   "id": "73aea738",
   "metadata": {
    "execution": {
     "iopub.execute_input": "2024-11-01T04:51:00.551183Z",
     "iopub.status.busy": "2024-11-01T04:51:00.550397Z",
     "iopub.status.idle": "2024-11-01T04:51:00.573271Z",
     "shell.execute_reply": "2024-11-01T04:51:00.572220Z"
    },
    "executionInfo": {
     "elapsed": 11,
     "status": "ok",
     "timestamp": 1719433758795,
     "user": {
      "displayName": "Muhamad Dafa Rizkiyanto",
      "userId": "16029394966179110856"
     },
     "user_tz": -420
    },
    "id": "PJ3fchcMKD0T",
    "outputId": "9292cbe2-e696-4a90-f745-774a98b0dae9",
    "papermill": {
     "duration": 0.063889,
     "end_time": "2024-11-01T04:51:00.575661",
     "exception": false,
     "start_time": "2024-11-01T04:51:00.511772",
     "status": "completed"
    },
    "tags": []
   },
   "outputs": [
    {
     "data": {
      "text/html": [
       "<div>\n",
       "<style scoped>\n",
       "    .dataframe tbody tr th:only-of-type {\n",
       "        vertical-align: middle;\n",
       "    }\n",
       "\n",
       "    .dataframe tbody tr th {\n",
       "        vertical-align: top;\n",
       "    }\n",
       "\n",
       "    .dataframe thead th {\n",
       "        text-align: right;\n",
       "    }\n",
       "</style>\n",
       "<table border=\"1\" class=\"dataframe\">\n",
       "  <thead>\n",
       "    <tr style=\"text-align: right;\">\n",
       "      <th></th>\n",
       "      <th>index</th>\n",
       "      <th>PassengerId</th>\n",
       "      <th>Survived</th>\n",
       "      <th>Pclass</th>\n",
       "      <th>Name</th>\n",
       "      <th>Sex</th>\n",
       "      <th>Age</th>\n",
       "      <th>SibSp</th>\n",
       "      <th>Parch</th>\n",
       "      <th>Ticket</th>\n",
       "      <th>Fare</th>\n",
       "      <th>Embarked</th>\n",
       "      <th>Embarked_C</th>\n",
       "      <th>Embarked_Q</th>\n",
       "      <th>Embarked_S</th>\n",
       "    </tr>\n",
       "  </thead>\n",
       "  <tbody>\n",
       "    <tr>\n",
       "      <th>0</th>\n",
       "      <td>0</td>\n",
       "      <td>1</td>\n",
       "      <td>0</td>\n",
       "      <td>3</td>\n",
       "      <td>Braund, Mr. Owen Harris</td>\n",
       "      <td>1</td>\n",
       "      <td>22.0</td>\n",
       "      <td>1</td>\n",
       "      <td>0</td>\n",
       "      <td>A/5 21171</td>\n",
       "      <td>7.2500</td>\n",
       "      <td>S</td>\n",
       "      <td>0</td>\n",
       "      <td>0</td>\n",
       "      <td>1</td>\n",
       "    </tr>\n",
       "    <tr>\n",
       "      <th>1</th>\n",
       "      <td>1</td>\n",
       "      <td>2</td>\n",
       "      <td>1</td>\n",
       "      <td>1</td>\n",
       "      <td>Cumings, Mrs. John Bradley (Florence Briggs Th...</td>\n",
       "      <td>0</td>\n",
       "      <td>38.0</td>\n",
       "      <td>1</td>\n",
       "      <td>0</td>\n",
       "      <td>PC 17599</td>\n",
       "      <td>71.2833</td>\n",
       "      <td>C</td>\n",
       "      <td>1</td>\n",
       "      <td>0</td>\n",
       "      <td>0</td>\n",
       "    </tr>\n",
       "    <tr>\n",
       "      <th>2</th>\n",
       "      <td>2</td>\n",
       "      <td>3</td>\n",
       "      <td>1</td>\n",
       "      <td>3</td>\n",
       "      <td>Heikkinen, Miss. Laina</td>\n",
       "      <td>0</td>\n",
       "      <td>26.0</td>\n",
       "      <td>0</td>\n",
       "      <td>0</td>\n",
       "      <td>STON/O2. 3101282</td>\n",
       "      <td>7.9250</td>\n",
       "      <td>S</td>\n",
       "      <td>0</td>\n",
       "      <td>0</td>\n",
       "      <td>1</td>\n",
       "    </tr>\n",
       "    <tr>\n",
       "      <th>3</th>\n",
       "      <td>3</td>\n",
       "      <td>4</td>\n",
       "      <td>1</td>\n",
       "      <td>1</td>\n",
       "      <td>Futrelle, Mrs. Jacques Heath (Lily May Peel)</td>\n",
       "      <td>0</td>\n",
       "      <td>35.0</td>\n",
       "      <td>1</td>\n",
       "      <td>0</td>\n",
       "      <td>113803</td>\n",
       "      <td>53.1000</td>\n",
       "      <td>S</td>\n",
       "      <td>0</td>\n",
       "      <td>0</td>\n",
       "      <td>1</td>\n",
       "    </tr>\n",
       "    <tr>\n",
       "      <th>4</th>\n",
       "      <td>4</td>\n",
       "      <td>5</td>\n",
       "      <td>0</td>\n",
       "      <td>3</td>\n",
       "      <td>Allen, Mr. William Henry</td>\n",
       "      <td>1</td>\n",
       "      <td>35.0</td>\n",
       "      <td>0</td>\n",
       "      <td>0</td>\n",
       "      <td>373450</td>\n",
       "      <td>8.0500</td>\n",
       "      <td>S</td>\n",
       "      <td>0</td>\n",
       "      <td>0</td>\n",
       "      <td>1</td>\n",
       "    </tr>\n",
       "  </tbody>\n",
       "</table>\n",
       "</div>"
      ],
      "text/plain": [
       "   index  PassengerId  Survived  Pclass  \\\n",
       "0      0            1         0       3   \n",
       "1      1            2         1       1   \n",
       "2      2            3         1       3   \n",
       "3      3            4         1       1   \n",
       "4      4            5         0       3   \n",
       "\n",
       "                                                Name  Sex   Age  SibSp  Parch  \\\n",
       "0                            Braund, Mr. Owen Harris    1  22.0      1      0   \n",
       "1  Cumings, Mrs. John Bradley (Florence Briggs Th...    0  38.0      1      0   \n",
       "2                             Heikkinen, Miss. Laina    0  26.0      0      0   \n",
       "3       Futrelle, Mrs. Jacques Heath (Lily May Peel)    0  35.0      1      0   \n",
       "4                           Allen, Mr. William Henry    1  35.0      0      0   \n",
       "\n",
       "             Ticket     Fare Embarked  Embarked_C  Embarked_Q  Embarked_S  \n",
       "0         A/5 21171   7.2500        S           0           0           1  \n",
       "1          PC 17599  71.2833        C           1           0           0  \n",
       "2  STON/O2. 3101282   7.9250        S           0           0           1  \n",
       "3            113803  53.1000        S           0           0           1  \n",
       "4            373450   8.0500        S           0           0           1  "
      ]
     },
     "execution_count": 60,
     "metadata": {},
     "output_type": "execute_result"
    }
   ],
   "source": [
    "train = pd.merge(train.reset_index(),dummies.reset_index())\n",
    "train.head()"
   ]
  },
  {
   "cell_type": "code",
   "execution_count": 61,
   "id": "6a093114",
   "metadata": {
    "execution": {
     "iopub.execute_input": "2024-11-01T04:51:00.653166Z",
     "iopub.status.busy": "2024-11-01T04:51:00.652082Z",
     "iopub.status.idle": "2024-11-01T04:51:00.658844Z",
     "shell.execute_reply": "2024-11-01T04:51:00.657755Z"
    },
    "executionInfo": {
     "elapsed": 10,
     "status": "ok",
     "timestamp": 1719433758795,
     "user": {
      "displayName": "Muhamad Dafa Rizkiyanto",
      "userId": "16029394966179110856"
     },
     "user_tz": -420
    },
    "id": "REXwcUWeKUUc",
    "papermill": {
     "duration": 0.047926,
     "end_time": "2024-11-01T04:51:00.661175",
     "exception": false,
     "start_time": "2024-11-01T04:51:00.613249",
     "status": "completed"
    },
    "tags": []
   },
   "outputs": [],
   "source": [
    "train = train.drop(['index','Embarked'],axis = 1)"
   ]
  },
  {
   "cell_type": "code",
   "execution_count": 62,
   "id": "9487dab2",
   "metadata": {
    "execution": {
     "iopub.execute_input": "2024-11-01T04:51:00.738794Z",
     "iopub.status.busy": "2024-11-01T04:51:00.737708Z",
     "iopub.status.idle": "2024-11-01T04:51:00.753529Z",
     "shell.execute_reply": "2024-11-01T04:51:00.752414Z"
    },
    "executionInfo": {
     "elapsed": 10,
     "status": "ok",
     "timestamp": 1719433758796,
     "user": {
      "displayName": "Muhamad Dafa Rizkiyanto",
      "userId": "16029394966179110856"
     },
     "user_tz": -420
    },
    "id": "nWHJdg33Ke4s",
    "outputId": "e71fe399-faba-4eed-a44c-bb2b698197b9",
    "papermill": {
     "duration": 0.056667,
     "end_time": "2024-11-01T04:51:00.755717",
     "exception": false,
     "start_time": "2024-11-01T04:51:00.699050",
     "status": "completed"
    },
    "tags": []
   },
   "outputs": [
    {
     "data": {
      "text/html": [
       "<div>\n",
       "<style scoped>\n",
       "    .dataframe tbody tr th:only-of-type {\n",
       "        vertical-align: middle;\n",
       "    }\n",
       "\n",
       "    .dataframe tbody tr th {\n",
       "        vertical-align: top;\n",
       "    }\n",
       "\n",
       "    .dataframe thead th {\n",
       "        text-align: right;\n",
       "    }\n",
       "</style>\n",
       "<table border=\"1\" class=\"dataframe\">\n",
       "  <thead>\n",
       "    <tr style=\"text-align: right;\">\n",
       "      <th></th>\n",
       "      <th>PassengerId</th>\n",
       "      <th>Survived</th>\n",
       "      <th>Pclass</th>\n",
       "      <th>Name</th>\n",
       "      <th>Sex</th>\n",
       "      <th>Age</th>\n",
       "      <th>SibSp</th>\n",
       "      <th>Parch</th>\n",
       "      <th>Ticket</th>\n",
       "      <th>Fare</th>\n",
       "      <th>Embarked_C</th>\n",
       "      <th>Embarked_Q</th>\n",
       "      <th>Embarked_S</th>\n",
       "    </tr>\n",
       "  </thead>\n",
       "  <tbody>\n",
       "    <tr>\n",
       "      <th>0</th>\n",
       "      <td>1</td>\n",
       "      <td>0</td>\n",
       "      <td>3</td>\n",
       "      <td>Braund, Mr. Owen Harris</td>\n",
       "      <td>1</td>\n",
       "      <td>22.0</td>\n",
       "      <td>1</td>\n",
       "      <td>0</td>\n",
       "      <td>A/5 21171</td>\n",
       "      <td>7.2500</td>\n",
       "      <td>0</td>\n",
       "      <td>0</td>\n",
       "      <td>1</td>\n",
       "    </tr>\n",
       "    <tr>\n",
       "      <th>1</th>\n",
       "      <td>2</td>\n",
       "      <td>1</td>\n",
       "      <td>1</td>\n",
       "      <td>Cumings, Mrs. John Bradley (Florence Briggs Th...</td>\n",
       "      <td>0</td>\n",
       "      <td>38.0</td>\n",
       "      <td>1</td>\n",
       "      <td>0</td>\n",
       "      <td>PC 17599</td>\n",
       "      <td>71.2833</td>\n",
       "      <td>1</td>\n",
       "      <td>0</td>\n",
       "      <td>0</td>\n",
       "    </tr>\n",
       "    <tr>\n",
       "      <th>2</th>\n",
       "      <td>3</td>\n",
       "      <td>1</td>\n",
       "      <td>3</td>\n",
       "      <td>Heikkinen, Miss. Laina</td>\n",
       "      <td>0</td>\n",
       "      <td>26.0</td>\n",
       "      <td>0</td>\n",
       "      <td>0</td>\n",
       "      <td>STON/O2. 3101282</td>\n",
       "      <td>7.9250</td>\n",
       "      <td>0</td>\n",
       "      <td>0</td>\n",
       "      <td>1</td>\n",
       "    </tr>\n",
       "    <tr>\n",
       "      <th>3</th>\n",
       "      <td>4</td>\n",
       "      <td>1</td>\n",
       "      <td>1</td>\n",
       "      <td>Futrelle, Mrs. Jacques Heath (Lily May Peel)</td>\n",
       "      <td>0</td>\n",
       "      <td>35.0</td>\n",
       "      <td>1</td>\n",
       "      <td>0</td>\n",
       "      <td>113803</td>\n",
       "      <td>53.1000</td>\n",
       "      <td>0</td>\n",
       "      <td>0</td>\n",
       "      <td>1</td>\n",
       "    </tr>\n",
       "    <tr>\n",
       "      <th>4</th>\n",
       "      <td>5</td>\n",
       "      <td>0</td>\n",
       "      <td>3</td>\n",
       "      <td>Allen, Mr. William Henry</td>\n",
       "      <td>1</td>\n",
       "      <td>35.0</td>\n",
       "      <td>0</td>\n",
       "      <td>0</td>\n",
       "      <td>373450</td>\n",
       "      <td>8.0500</td>\n",
       "      <td>0</td>\n",
       "      <td>0</td>\n",
       "      <td>1</td>\n",
       "    </tr>\n",
       "  </tbody>\n",
       "</table>\n",
       "</div>"
      ],
      "text/plain": [
       "   PassengerId  Survived  Pclass  \\\n",
       "0            1         0       3   \n",
       "1            2         1       1   \n",
       "2            3         1       3   \n",
       "3            4         1       1   \n",
       "4            5         0       3   \n",
       "\n",
       "                                                Name  Sex   Age  SibSp  Parch  \\\n",
       "0                            Braund, Mr. Owen Harris    1  22.0      1      0   \n",
       "1  Cumings, Mrs. John Bradley (Florence Briggs Th...    0  38.0      1      0   \n",
       "2                             Heikkinen, Miss. Laina    0  26.0      0      0   \n",
       "3       Futrelle, Mrs. Jacques Heath (Lily May Peel)    0  35.0      1      0   \n",
       "4                           Allen, Mr. William Henry    1  35.0      0      0   \n",
       "\n",
       "             Ticket     Fare  Embarked_C  Embarked_Q  Embarked_S  \n",
       "0         A/5 21171   7.2500           0           0           1  \n",
       "1          PC 17599  71.2833           1           0           0  \n",
       "2  STON/O2. 3101282   7.9250           0           0           1  \n",
       "3            113803  53.1000           0           0           1  \n",
       "4            373450   8.0500           0           0           1  "
      ]
     },
     "execution_count": 62,
     "metadata": {},
     "output_type": "execute_result"
    }
   ],
   "source": [
    "train.head()"
   ]
  },
  {
   "cell_type": "code",
   "execution_count": 63,
   "id": "51d9b16d",
   "metadata": {
    "execution": {
     "iopub.execute_input": "2024-11-01T04:51:00.833561Z",
     "iopub.status.busy": "2024-11-01T04:51:00.832566Z",
     "iopub.status.idle": "2024-11-01T04:51:00.846286Z",
     "shell.execute_reply": "2024-11-01T04:51:00.845191Z"
    },
    "executionInfo": {
     "elapsed": 477,
     "status": "ok",
     "timestamp": 1719433759264,
     "user": {
      "displayName": "Muhamad Dafa Rizkiyanto",
      "userId": "16029394966179110856"
     },
     "user_tz": -420
    },
    "id": "6K_D21XvK5od",
    "outputId": "03bd4398-ba94-48e6-bbd9-a4333f9ba1f5",
    "papermill": {
     "duration": 0.055058,
     "end_time": "2024-11-01T04:51:00.848510",
     "exception": false,
     "start_time": "2024-11-01T04:51:00.793452",
     "status": "completed"
    },
    "tags": []
   },
   "outputs": [
    {
     "data": {
      "text/html": [
       "<div>\n",
       "<style scoped>\n",
       "    .dataframe tbody tr th:only-of-type {\n",
       "        vertical-align: middle;\n",
       "    }\n",
       "\n",
       "    .dataframe tbody tr th {\n",
       "        vertical-align: top;\n",
       "    }\n",
       "\n",
       "    .dataframe thead th {\n",
       "        text-align: right;\n",
       "    }\n",
       "</style>\n",
       "<table border=\"1\" class=\"dataframe\">\n",
       "  <thead>\n",
       "    <tr style=\"text-align: right;\">\n",
       "      <th></th>\n",
       "      <th>Embarked_C</th>\n",
       "      <th>Embarked_Q</th>\n",
       "      <th>Embarked_S</th>\n",
       "    </tr>\n",
       "  </thead>\n",
       "  <tbody>\n",
       "    <tr>\n",
       "      <th>0</th>\n",
       "      <td>0</td>\n",
       "      <td>1</td>\n",
       "      <td>0</td>\n",
       "    </tr>\n",
       "    <tr>\n",
       "      <th>1</th>\n",
       "      <td>0</td>\n",
       "      <td>0</td>\n",
       "      <td>1</td>\n",
       "    </tr>\n",
       "    <tr>\n",
       "      <th>2</th>\n",
       "      <td>0</td>\n",
       "      <td>1</td>\n",
       "      <td>0</td>\n",
       "    </tr>\n",
       "    <tr>\n",
       "      <th>3</th>\n",
       "      <td>0</td>\n",
       "      <td>0</td>\n",
       "      <td>1</td>\n",
       "    </tr>\n",
       "    <tr>\n",
       "      <th>4</th>\n",
       "      <td>0</td>\n",
       "      <td>0</td>\n",
       "      <td>1</td>\n",
       "    </tr>\n",
       "  </tbody>\n",
       "</table>\n",
       "</div>"
      ],
      "text/plain": [
       "   Embarked_C  Embarked_Q  Embarked_S\n",
       "0           0           1           0\n",
       "1           0           0           1\n",
       "2           0           1           0\n",
       "3           0           0           1\n",
       "4           0           0           1"
      ]
     },
     "execution_count": 63,
     "metadata": {},
     "output_type": "execute_result"
    }
   ],
   "source": [
    "embarked_test = test[['Embarked']]\n",
    "dummies_test = pd.get_dummies(embarked_test)\n",
    "dummies_test = dummies_test.astype(int)\n",
    "dummies_test.head()"
   ]
  },
  {
   "cell_type": "code",
   "execution_count": 64,
   "id": "0ee21115",
   "metadata": {
    "execution": {
     "iopub.execute_input": "2024-11-01T04:51:00.926310Z",
     "iopub.status.busy": "2024-11-01T04:51:00.925142Z",
     "iopub.status.idle": "2024-11-01T04:51:00.945697Z",
     "shell.execute_reply": "2024-11-01T04:51:00.944660Z"
    },
    "executionInfo": {
     "elapsed": 10,
     "status": "ok",
     "timestamp": 1719433759264,
     "user": {
      "displayName": "Muhamad Dafa Rizkiyanto",
      "userId": "16029394966179110856"
     },
     "user_tz": -420
    },
    "id": "WoOjFKPdLSnj",
    "outputId": "bd933e5c-ccfa-4740-ab96-b53457ab9535",
    "papermill": {
     "duration": 0.061732,
     "end_time": "2024-11-01T04:51:00.948003",
     "exception": false,
     "start_time": "2024-11-01T04:51:00.886271",
     "status": "completed"
    },
    "tags": []
   },
   "outputs": [
    {
     "data": {
      "text/html": [
       "<div>\n",
       "<style scoped>\n",
       "    .dataframe tbody tr th:only-of-type {\n",
       "        vertical-align: middle;\n",
       "    }\n",
       "\n",
       "    .dataframe tbody tr th {\n",
       "        vertical-align: top;\n",
       "    }\n",
       "\n",
       "    .dataframe thead th {\n",
       "        text-align: right;\n",
       "    }\n",
       "</style>\n",
       "<table border=\"1\" class=\"dataframe\">\n",
       "  <thead>\n",
       "    <tr style=\"text-align: right;\">\n",
       "      <th></th>\n",
       "      <th>PassengerId</th>\n",
       "      <th>Pclass</th>\n",
       "      <th>Name</th>\n",
       "      <th>Sex</th>\n",
       "      <th>Age</th>\n",
       "      <th>SibSp</th>\n",
       "      <th>Parch</th>\n",
       "      <th>Ticket</th>\n",
       "      <th>Fare</th>\n",
       "      <th>Embarked_C</th>\n",
       "      <th>Embarked_Q</th>\n",
       "      <th>Embarked_S</th>\n",
       "    </tr>\n",
       "  </thead>\n",
       "  <tbody>\n",
       "    <tr>\n",
       "      <th>0</th>\n",
       "      <td>892</td>\n",
       "      <td>3</td>\n",
       "      <td>Kelly, Mr. James</td>\n",
       "      <td>1</td>\n",
       "      <td>34.5</td>\n",
       "      <td>0</td>\n",
       "      <td>0</td>\n",
       "      <td>330911</td>\n",
       "      <td>7.8292</td>\n",
       "      <td>0</td>\n",
       "      <td>1</td>\n",
       "      <td>0</td>\n",
       "    </tr>\n",
       "    <tr>\n",
       "      <th>1</th>\n",
       "      <td>893</td>\n",
       "      <td>3</td>\n",
       "      <td>Wilkes, Mrs. James (Ellen Needs)</td>\n",
       "      <td>0</td>\n",
       "      <td>47.0</td>\n",
       "      <td>1</td>\n",
       "      <td>0</td>\n",
       "      <td>363272</td>\n",
       "      <td>7.0000</td>\n",
       "      <td>0</td>\n",
       "      <td>0</td>\n",
       "      <td>1</td>\n",
       "    </tr>\n",
       "    <tr>\n",
       "      <th>2</th>\n",
       "      <td>894</td>\n",
       "      <td>2</td>\n",
       "      <td>Myles, Mr. Thomas Francis</td>\n",
       "      <td>1</td>\n",
       "      <td>62.0</td>\n",
       "      <td>0</td>\n",
       "      <td>0</td>\n",
       "      <td>240276</td>\n",
       "      <td>9.6875</td>\n",
       "      <td>0</td>\n",
       "      <td>1</td>\n",
       "      <td>0</td>\n",
       "    </tr>\n",
       "    <tr>\n",
       "      <th>3</th>\n",
       "      <td>895</td>\n",
       "      <td>3</td>\n",
       "      <td>Wirz, Mr. Albert</td>\n",
       "      <td>1</td>\n",
       "      <td>27.0</td>\n",
       "      <td>0</td>\n",
       "      <td>0</td>\n",
       "      <td>315154</td>\n",
       "      <td>8.6625</td>\n",
       "      <td>0</td>\n",
       "      <td>0</td>\n",
       "      <td>1</td>\n",
       "    </tr>\n",
       "    <tr>\n",
       "      <th>4</th>\n",
       "      <td>896</td>\n",
       "      <td>3</td>\n",
       "      <td>Hirvonen, Mrs. Alexander (Helga E Lindqvist)</td>\n",
       "      <td>0</td>\n",
       "      <td>22.0</td>\n",
       "      <td>1</td>\n",
       "      <td>1</td>\n",
       "      <td>3101298</td>\n",
       "      <td>12.2875</td>\n",
       "      <td>0</td>\n",
       "      <td>0</td>\n",
       "      <td>1</td>\n",
       "    </tr>\n",
       "  </tbody>\n",
       "</table>\n",
       "</div>"
      ],
      "text/plain": [
       "   PassengerId  Pclass                                          Name  Sex  \\\n",
       "0          892       3                              Kelly, Mr. James    1   \n",
       "1          893       3              Wilkes, Mrs. James (Ellen Needs)    0   \n",
       "2          894       2                     Myles, Mr. Thomas Francis    1   \n",
       "3          895       3                              Wirz, Mr. Albert    1   \n",
       "4          896       3  Hirvonen, Mrs. Alexander (Helga E Lindqvist)    0   \n",
       "\n",
       "    Age  SibSp  Parch   Ticket     Fare  Embarked_C  Embarked_Q  Embarked_S  \n",
       "0  34.5      0      0   330911   7.8292           0           1           0  \n",
       "1  47.0      1      0   363272   7.0000           0           0           1  \n",
       "2  62.0      0      0   240276   9.6875           0           1           0  \n",
       "3  27.0      0      0   315154   8.6625           0           0           1  \n",
       "4  22.0      1      1  3101298  12.2875           0           0           1  "
      ]
     },
     "execution_count": 64,
     "metadata": {},
     "output_type": "execute_result"
    }
   ],
   "source": [
    "test = pd.merge(test.reset_index(),dummies_test.reset_index())\n",
    "test = test.drop(['index','Embarked'],axis = 1)\n",
    "test.head()"
   ]
  },
  {
   "cell_type": "markdown",
   "id": "cb0e00a7",
   "metadata": {
    "id": "bzFcUmsRL8eP",
    "papermill": {
     "duration": 0.037853,
     "end_time": "2024-11-01T04:51:01.024196",
     "exception": false,
     "start_time": "2024-11-01T04:51:00.986343",
     "status": "completed"
    },
    "tags": []
   },
   "source": [
    "# Ekstrak Data title from name and convert tittle"
   ]
  },
  {
   "cell_type": "code",
   "execution_count": 65,
   "id": "50b8515f",
   "metadata": {
    "execution": {
     "iopub.execute_input": "2024-11-01T04:51:01.102632Z",
     "iopub.status.busy": "2024-11-01T04:51:01.101866Z",
     "iopub.status.idle": "2024-11-01T04:51:01.109680Z",
     "shell.execute_reply": "2024-11-01T04:51:01.108604Z"
    },
    "executionInfo": {
     "elapsed": 8,
     "status": "ok",
     "timestamp": 1719433759264,
     "user": {
      "displayName": "Muhamad Dafa Rizkiyanto",
      "userId": "16029394966179110856"
     },
     "user_tz": -420
    },
    "id": "QTxVmaAuMBJ0",
    "papermill": {
     "duration": 0.049576,
     "end_time": "2024-11-01T04:51:01.111811",
     "exception": false,
     "start_time": "2024-11-01T04:51:01.062235",
     "status": "completed"
    },
    "tags": []
   },
   "outputs": [],
   "source": [
    "test['title'] = test['Name'].str.extract(' ([A-Za-z]+)\\. ', expand = False)"
   ]
  },
  {
   "cell_type": "code",
   "execution_count": 66,
   "id": "b57ca200",
   "metadata": {
    "execution": {
     "iopub.execute_input": "2024-11-01T04:51:01.191948Z",
     "iopub.status.busy": "2024-11-01T04:51:01.190963Z",
     "iopub.status.idle": "2024-11-01T04:51:01.206713Z",
     "shell.execute_reply": "2024-11-01T04:51:01.205558Z"
    },
    "executionInfo": {
     "elapsed": 8,
     "status": "ok",
     "timestamp": 1719433759264,
     "user": {
      "displayName": "Muhamad Dafa Rizkiyanto",
      "userId": "16029394966179110856"
     },
     "user_tz": -420
    },
    "id": "Yjij8NsNMe7w",
    "outputId": "5fe42d94-e7ed-4f72-f314-4f2cbe0214c4",
    "papermill": {
     "duration": 0.058218,
     "end_time": "2024-11-01T04:51:01.208964",
     "exception": false,
     "start_time": "2024-11-01T04:51:01.150746",
     "status": "completed"
    },
    "tags": []
   },
   "outputs": [
    {
     "data": {
      "text/html": [
       "<div>\n",
       "<style scoped>\n",
       "    .dataframe tbody tr th:only-of-type {\n",
       "        vertical-align: middle;\n",
       "    }\n",
       "\n",
       "    .dataframe tbody tr th {\n",
       "        vertical-align: top;\n",
       "    }\n",
       "\n",
       "    .dataframe thead th {\n",
       "        text-align: right;\n",
       "    }\n",
       "</style>\n",
       "<table border=\"1\" class=\"dataframe\">\n",
       "  <thead>\n",
       "    <tr style=\"text-align: right;\">\n",
       "      <th></th>\n",
       "      <th>PassengerId</th>\n",
       "      <th>Pclass</th>\n",
       "      <th>Name</th>\n",
       "      <th>Sex</th>\n",
       "      <th>Age</th>\n",
       "      <th>SibSp</th>\n",
       "      <th>Parch</th>\n",
       "      <th>Ticket</th>\n",
       "      <th>Fare</th>\n",
       "      <th>Embarked_C</th>\n",
       "      <th>Embarked_Q</th>\n",
       "      <th>Embarked_S</th>\n",
       "      <th>title</th>\n",
       "    </tr>\n",
       "  </thead>\n",
       "  <tbody>\n",
       "    <tr>\n",
       "      <th>0</th>\n",
       "      <td>892</td>\n",
       "      <td>3</td>\n",
       "      <td>Kelly, Mr. James</td>\n",
       "      <td>1</td>\n",
       "      <td>34.5</td>\n",
       "      <td>0</td>\n",
       "      <td>0</td>\n",
       "      <td>330911</td>\n",
       "      <td>7.8292</td>\n",
       "      <td>0</td>\n",
       "      <td>1</td>\n",
       "      <td>0</td>\n",
       "      <td>Mr</td>\n",
       "    </tr>\n",
       "    <tr>\n",
       "      <th>1</th>\n",
       "      <td>893</td>\n",
       "      <td>3</td>\n",
       "      <td>Wilkes, Mrs. James (Ellen Needs)</td>\n",
       "      <td>0</td>\n",
       "      <td>47.0</td>\n",
       "      <td>1</td>\n",
       "      <td>0</td>\n",
       "      <td>363272</td>\n",
       "      <td>7.0000</td>\n",
       "      <td>0</td>\n",
       "      <td>0</td>\n",
       "      <td>1</td>\n",
       "      <td>Mrs</td>\n",
       "    </tr>\n",
       "    <tr>\n",
       "      <th>2</th>\n",
       "      <td>894</td>\n",
       "      <td>2</td>\n",
       "      <td>Myles, Mr. Thomas Francis</td>\n",
       "      <td>1</td>\n",
       "      <td>62.0</td>\n",
       "      <td>0</td>\n",
       "      <td>0</td>\n",
       "      <td>240276</td>\n",
       "      <td>9.6875</td>\n",
       "      <td>0</td>\n",
       "      <td>1</td>\n",
       "      <td>0</td>\n",
       "      <td>Mr</td>\n",
       "    </tr>\n",
       "    <tr>\n",
       "      <th>3</th>\n",
       "      <td>895</td>\n",
       "      <td>3</td>\n",
       "      <td>Wirz, Mr. Albert</td>\n",
       "      <td>1</td>\n",
       "      <td>27.0</td>\n",
       "      <td>0</td>\n",
       "      <td>0</td>\n",
       "      <td>315154</td>\n",
       "      <td>8.6625</td>\n",
       "      <td>0</td>\n",
       "      <td>0</td>\n",
       "      <td>1</td>\n",
       "      <td>Mr</td>\n",
       "    </tr>\n",
       "    <tr>\n",
       "      <th>4</th>\n",
       "      <td>896</td>\n",
       "      <td>3</td>\n",
       "      <td>Hirvonen, Mrs. Alexander (Helga E Lindqvist)</td>\n",
       "      <td>0</td>\n",
       "      <td>22.0</td>\n",
       "      <td>1</td>\n",
       "      <td>1</td>\n",
       "      <td>3101298</td>\n",
       "      <td>12.2875</td>\n",
       "      <td>0</td>\n",
       "      <td>0</td>\n",
       "      <td>1</td>\n",
       "      <td>Mrs</td>\n",
       "    </tr>\n",
       "  </tbody>\n",
       "</table>\n",
       "</div>"
      ],
      "text/plain": [
       "   PassengerId  Pclass                                          Name  Sex  \\\n",
       "0          892       3                              Kelly, Mr. James    1   \n",
       "1          893       3              Wilkes, Mrs. James (Ellen Needs)    0   \n",
       "2          894       2                     Myles, Mr. Thomas Francis    1   \n",
       "3          895       3                              Wirz, Mr. Albert    1   \n",
       "4          896       3  Hirvonen, Mrs. Alexander (Helga E Lindqvist)    0   \n",
       "\n",
       "    Age  SibSp  Parch   Ticket     Fare  Embarked_C  Embarked_Q  Embarked_S  \\\n",
       "0  34.5      0      0   330911   7.8292           0           1           0   \n",
       "1  47.0      1      0   363272   7.0000           0           0           1   \n",
       "2  62.0      0      0   240276   9.6875           0           1           0   \n",
       "3  27.0      0      0   315154   8.6625           0           0           1   \n",
       "4  22.0      1      1  3101298  12.2875           0           0           1   \n",
       "\n",
       "  title  \n",
       "0    Mr  \n",
       "1   Mrs  \n",
       "2    Mr  \n",
       "3    Mr  \n",
       "4   Mrs  "
      ]
     },
     "execution_count": 66,
     "metadata": {},
     "output_type": "execute_result"
    }
   ],
   "source": [
    "test.head()"
   ]
  },
  {
   "cell_type": "code",
   "execution_count": 67,
   "id": "14698fd5",
   "metadata": {
    "execution": {
     "iopub.execute_input": "2024-11-01T04:51:01.292582Z",
     "iopub.status.busy": "2024-11-01T04:51:01.291429Z",
     "iopub.status.idle": "2024-11-01T04:51:01.299882Z",
     "shell.execute_reply": "2024-11-01T04:51:01.298754Z"
    },
    "executionInfo": {
     "elapsed": 6,
     "status": "ok",
     "timestamp": 1719433759264,
     "user": {
      "displayName": "Muhamad Dafa Rizkiyanto",
      "userId": "16029394966179110856"
     },
     "user_tz": -420
    },
    "id": "EOqlHst9NDz5",
    "papermill": {
     "duration": 0.054833,
     "end_time": "2024-11-01T04:51:01.302258",
     "exception": false,
     "start_time": "2024-11-01T04:51:01.247425",
     "status": "completed"
    },
    "tags": []
   },
   "outputs": [],
   "source": [
    "train['title'] = train['Name'].str.extract(' ([A-Za-z]+)\\. ', expand = False)"
   ]
  },
  {
   "cell_type": "code",
   "execution_count": 68,
   "id": "9fbbecb8",
   "metadata": {
    "execution": {
     "iopub.execute_input": "2024-11-01T04:51:01.391802Z",
     "iopub.status.busy": "2024-11-01T04:51:01.390342Z",
     "iopub.status.idle": "2024-11-01T04:51:01.413414Z",
     "shell.execute_reply": "2024-11-01T04:51:01.412266Z"
    },
    "executionInfo": {
     "elapsed": 451,
     "status": "ok",
     "timestamp": 1719433759709,
     "user": {
      "displayName": "Muhamad Dafa Rizkiyanto",
      "userId": "16029394966179110856"
     },
     "user_tz": -420
    },
    "id": "62fL-HINMy2_",
    "outputId": "b8b8f026-2427-4d73-8cbf-9aad653dbebb",
    "papermill": {
     "duration": 0.071883,
     "end_time": "2024-11-01T04:51:01.416371",
     "exception": false,
     "start_time": "2024-11-01T04:51:01.344488",
     "status": "completed"
    },
    "tags": []
   },
   "outputs": [
    {
     "data": {
      "text/html": [
       "<div>\n",
       "<style scoped>\n",
       "    .dataframe tbody tr th:only-of-type {\n",
       "        vertical-align: middle;\n",
       "    }\n",
       "\n",
       "    .dataframe tbody tr th {\n",
       "        vertical-align: top;\n",
       "    }\n",
       "\n",
       "    .dataframe thead th {\n",
       "        text-align: right;\n",
       "    }\n",
       "</style>\n",
       "<table border=\"1\" class=\"dataframe\">\n",
       "  <thead>\n",
       "    <tr style=\"text-align: right;\">\n",
       "      <th></th>\n",
       "      <th>PassengerId</th>\n",
       "      <th>Survived</th>\n",
       "      <th>Pclass</th>\n",
       "      <th>Name</th>\n",
       "      <th>Sex</th>\n",
       "      <th>Age</th>\n",
       "      <th>SibSp</th>\n",
       "      <th>Parch</th>\n",
       "      <th>Ticket</th>\n",
       "      <th>Fare</th>\n",
       "      <th>Embarked_C</th>\n",
       "      <th>Embarked_Q</th>\n",
       "      <th>Embarked_S</th>\n",
       "      <th>title</th>\n",
       "    </tr>\n",
       "  </thead>\n",
       "  <tbody>\n",
       "    <tr>\n",
       "      <th>0</th>\n",
       "      <td>1</td>\n",
       "      <td>0</td>\n",
       "      <td>3</td>\n",
       "      <td>Braund, Mr. Owen Harris</td>\n",
       "      <td>1</td>\n",
       "      <td>22.0</td>\n",
       "      <td>1</td>\n",
       "      <td>0</td>\n",
       "      <td>A/5 21171</td>\n",
       "      <td>7.2500</td>\n",
       "      <td>0</td>\n",
       "      <td>0</td>\n",
       "      <td>1</td>\n",
       "      <td>Mr</td>\n",
       "    </tr>\n",
       "    <tr>\n",
       "      <th>1</th>\n",
       "      <td>2</td>\n",
       "      <td>1</td>\n",
       "      <td>1</td>\n",
       "      <td>Cumings, Mrs. John Bradley (Florence Briggs Th...</td>\n",
       "      <td>0</td>\n",
       "      <td>38.0</td>\n",
       "      <td>1</td>\n",
       "      <td>0</td>\n",
       "      <td>PC 17599</td>\n",
       "      <td>71.2833</td>\n",
       "      <td>1</td>\n",
       "      <td>0</td>\n",
       "      <td>0</td>\n",
       "      <td>Mrs</td>\n",
       "    </tr>\n",
       "    <tr>\n",
       "      <th>2</th>\n",
       "      <td>3</td>\n",
       "      <td>1</td>\n",
       "      <td>3</td>\n",
       "      <td>Heikkinen, Miss. Laina</td>\n",
       "      <td>0</td>\n",
       "      <td>26.0</td>\n",
       "      <td>0</td>\n",
       "      <td>0</td>\n",
       "      <td>STON/O2. 3101282</td>\n",
       "      <td>7.9250</td>\n",
       "      <td>0</td>\n",
       "      <td>0</td>\n",
       "      <td>1</td>\n",
       "      <td>Miss</td>\n",
       "    </tr>\n",
       "    <tr>\n",
       "      <th>3</th>\n",
       "      <td>4</td>\n",
       "      <td>1</td>\n",
       "      <td>1</td>\n",
       "      <td>Futrelle, Mrs. Jacques Heath (Lily May Peel)</td>\n",
       "      <td>0</td>\n",
       "      <td>35.0</td>\n",
       "      <td>1</td>\n",
       "      <td>0</td>\n",
       "      <td>113803</td>\n",
       "      <td>53.1000</td>\n",
       "      <td>0</td>\n",
       "      <td>0</td>\n",
       "      <td>1</td>\n",
       "      <td>Mrs</td>\n",
       "    </tr>\n",
       "    <tr>\n",
       "      <th>4</th>\n",
       "      <td>5</td>\n",
       "      <td>0</td>\n",
       "      <td>3</td>\n",
       "      <td>Allen, Mr. William Henry</td>\n",
       "      <td>1</td>\n",
       "      <td>35.0</td>\n",
       "      <td>0</td>\n",
       "      <td>0</td>\n",
       "      <td>373450</td>\n",
       "      <td>8.0500</td>\n",
       "      <td>0</td>\n",
       "      <td>0</td>\n",
       "      <td>1</td>\n",
       "      <td>Mr</td>\n",
       "    </tr>\n",
       "  </tbody>\n",
       "</table>\n",
       "</div>"
      ],
      "text/plain": [
       "   PassengerId  Survived  Pclass  \\\n",
       "0            1         0       3   \n",
       "1            2         1       1   \n",
       "2            3         1       3   \n",
       "3            4         1       1   \n",
       "4            5         0       3   \n",
       "\n",
       "                                                Name  Sex   Age  SibSp  Parch  \\\n",
       "0                            Braund, Mr. Owen Harris    1  22.0      1      0   \n",
       "1  Cumings, Mrs. John Bradley (Florence Briggs Th...    0  38.0      1      0   \n",
       "2                             Heikkinen, Miss. Laina    0  26.0      0      0   \n",
       "3       Futrelle, Mrs. Jacques Heath (Lily May Peel)    0  35.0      1      0   \n",
       "4                           Allen, Mr. William Henry    1  35.0      0      0   \n",
       "\n",
       "             Ticket     Fare  Embarked_C  Embarked_Q  Embarked_S title  \n",
       "0         A/5 21171   7.2500           0           0           1    Mr  \n",
       "1          PC 17599  71.2833           1           0           0   Mrs  \n",
       "2  STON/O2. 3101282   7.9250           0           0           1  Miss  \n",
       "3            113803  53.1000           0           0           1   Mrs  \n",
       "4            373450   8.0500           0           0           1    Mr  "
      ]
     },
     "execution_count": 68,
     "metadata": {},
     "output_type": "execute_result"
    }
   ],
   "source": [
    " train.head()"
   ]
  },
  {
   "cell_type": "code",
   "execution_count": 69,
   "id": "146ed621",
   "metadata": {
    "execution": {
     "iopub.execute_input": "2024-11-01T04:51:01.501188Z",
     "iopub.status.busy": "2024-11-01T04:51:01.500755Z",
     "iopub.status.idle": "2024-11-01T04:51:01.513584Z",
     "shell.execute_reply": "2024-11-01T04:51:01.512455Z"
    },
    "executionInfo": {
     "elapsed": 14,
     "status": "ok",
     "timestamp": 1719433759709,
     "user": {
      "displayName": "Muhamad Dafa Rizkiyanto",
      "userId": "16029394966179110856"
     },
     "user_tz": -420
    },
    "id": "TpdB8HphNKBo",
    "outputId": "804afac6-0600-494b-cf80-8876bbc56fa9",
    "papermill": {
     "duration": 0.063655,
     "end_time": "2024-11-01T04:51:01.523976",
     "exception": false,
     "start_time": "2024-11-01T04:51:01.460321",
     "status": "completed"
    },
    "tags": []
   },
   "outputs": [
    {
     "data": {
      "text/plain": [
       "title   \n",
       "Mr          517\n",
       "Miss        182\n",
       "Mrs         125\n",
       "Master       40\n",
       "Dr            7\n",
       "Rev           6\n",
       "Major         2\n",
       "Col           2\n",
       "Mlle          2\n",
       "Mme           1\n",
       "Ms            1\n",
       "Capt          1\n",
       "Lady          1\n",
       "Jonkheer      1\n",
       "Don           1\n",
       "Countess      1\n",
       "Sir           1\n",
       "Name: count, dtype: int64"
      ]
     },
     "execution_count": 69,
     "metadata": {},
     "output_type": "execute_result"
    }
   ],
   "source": [
    "train[['title']].value_counts()"
   ]
  },
  {
   "cell_type": "markdown",
   "id": "36acfa0b",
   "metadata": {
    "id": "t6pFt6UGNZyV",
    "papermill": {
     "duration": 0.03909,
     "end_time": "2024-11-01T04:51:01.616830",
     "exception": false,
     "start_time": "2024-11-01T04:51:01.577740",
     "status": "completed"
    },
    "tags": []
   },
   "source": [
    "# Title mapping"
   ]
  },
  {
   "cell_type": "code",
   "execution_count": 70,
   "id": "380fdf84",
   "metadata": {
    "execution": {
     "iopub.execute_input": "2024-11-01T04:51:01.697021Z",
     "iopub.status.busy": "2024-11-01T04:51:01.696586Z",
     "iopub.status.idle": "2024-11-01T04:51:01.704551Z",
     "shell.execute_reply": "2024-11-01T04:51:01.703374Z"
    },
    "executionInfo": {
     "elapsed": 12,
     "status": "ok",
     "timestamp": 1719433759709,
     "user": {
      "displayName": "Muhamad Dafa Rizkiyanto",
      "userId": "16029394966179110856"
     },
     "user_tz": -420
    },
    "id": "gFkC9RPzNYwK",
    "papermill": {
     "duration": 0.050912,
     "end_time": "2024-11-01T04:51:01.706840",
     "exception": false,
     "start_time": "2024-11-01T04:51:01.655928",
     "status": "completed"
    },
    "tags": []
   },
   "outputs": [],
   "source": [
    "title_mapping = {\"Mr\": 0,\n",
    "                 \"Miss\": 1,\n",
    "                 \"Mrs\": 2,\n",
    "                 \"Master\": 3, \"Dr\": 3, \"Rev\": 3, \"Col\": 3, \"Major\": 3, \"Mlle\": 3,\"Countess\": 3,\n",
    "                 \"Ms\": 3, \"Lady\": 3, \"Jonkheer\": 3, \"Don\": 3, \"Dona\" : 3, \"Mme\": 3,\"Capt\": 3,\"Sir\": 3 }\n",
    "\n",
    "train['title'] = train['title'].map(title_mapping)"
   ]
  },
  {
   "cell_type": "code",
   "execution_count": 71,
   "id": "1b670c8d",
   "metadata": {
    "execution": {
     "iopub.execute_input": "2024-11-01T04:51:01.803910Z",
     "iopub.status.busy": "2024-11-01T04:51:01.803097Z",
     "iopub.status.idle": "2024-11-01T04:51:01.823333Z",
     "shell.execute_reply": "2024-11-01T04:51:01.822276Z"
    },
    "executionInfo": {
     "elapsed": 11,
     "status": "ok",
     "timestamp": 1719433759709,
     "user": {
      "displayName": "Muhamad Dafa Rizkiyanto",
      "userId": "16029394966179110856"
     },
     "user_tz": -420
    },
    "id": "0FVTeaQyNtzR",
    "outputId": "1327ad89-efb3-4bbb-8b6e-870fa3b62234",
    "papermill": {
     "duration": 0.068369,
     "end_time": "2024-11-01T04:51:01.826015",
     "exception": false,
     "start_time": "2024-11-01T04:51:01.757646",
     "status": "completed"
    },
    "tags": []
   },
   "outputs": [
    {
     "data": {
      "text/html": [
       "<div>\n",
       "<style scoped>\n",
       "    .dataframe tbody tr th:only-of-type {\n",
       "        vertical-align: middle;\n",
       "    }\n",
       "\n",
       "    .dataframe tbody tr th {\n",
       "        vertical-align: top;\n",
       "    }\n",
       "\n",
       "    .dataframe thead th {\n",
       "        text-align: right;\n",
       "    }\n",
       "</style>\n",
       "<table border=\"1\" class=\"dataframe\">\n",
       "  <thead>\n",
       "    <tr style=\"text-align: right;\">\n",
       "      <th></th>\n",
       "      <th>PassengerId</th>\n",
       "      <th>Survived</th>\n",
       "      <th>Pclass</th>\n",
       "      <th>Name</th>\n",
       "      <th>Sex</th>\n",
       "      <th>Age</th>\n",
       "      <th>SibSp</th>\n",
       "      <th>Parch</th>\n",
       "      <th>Ticket</th>\n",
       "      <th>Fare</th>\n",
       "      <th>Embarked_C</th>\n",
       "      <th>Embarked_Q</th>\n",
       "      <th>Embarked_S</th>\n",
       "      <th>title</th>\n",
       "    </tr>\n",
       "  </thead>\n",
       "  <tbody>\n",
       "    <tr>\n",
       "      <th>0</th>\n",
       "      <td>1</td>\n",
       "      <td>0</td>\n",
       "      <td>3</td>\n",
       "      <td>Braund, Mr. Owen Harris</td>\n",
       "      <td>1</td>\n",
       "      <td>22.0</td>\n",
       "      <td>1</td>\n",
       "      <td>0</td>\n",
       "      <td>A/5 21171</td>\n",
       "      <td>7.2500</td>\n",
       "      <td>0</td>\n",
       "      <td>0</td>\n",
       "      <td>1</td>\n",
       "      <td>0</td>\n",
       "    </tr>\n",
       "    <tr>\n",
       "      <th>1</th>\n",
       "      <td>2</td>\n",
       "      <td>1</td>\n",
       "      <td>1</td>\n",
       "      <td>Cumings, Mrs. John Bradley (Florence Briggs Th...</td>\n",
       "      <td>0</td>\n",
       "      <td>38.0</td>\n",
       "      <td>1</td>\n",
       "      <td>0</td>\n",
       "      <td>PC 17599</td>\n",
       "      <td>71.2833</td>\n",
       "      <td>1</td>\n",
       "      <td>0</td>\n",
       "      <td>0</td>\n",
       "      <td>2</td>\n",
       "    </tr>\n",
       "    <tr>\n",
       "      <th>2</th>\n",
       "      <td>3</td>\n",
       "      <td>1</td>\n",
       "      <td>3</td>\n",
       "      <td>Heikkinen, Miss. Laina</td>\n",
       "      <td>0</td>\n",
       "      <td>26.0</td>\n",
       "      <td>0</td>\n",
       "      <td>0</td>\n",
       "      <td>STON/O2. 3101282</td>\n",
       "      <td>7.9250</td>\n",
       "      <td>0</td>\n",
       "      <td>0</td>\n",
       "      <td>1</td>\n",
       "      <td>1</td>\n",
       "    </tr>\n",
       "    <tr>\n",
       "      <th>3</th>\n",
       "      <td>4</td>\n",
       "      <td>1</td>\n",
       "      <td>1</td>\n",
       "      <td>Futrelle, Mrs. Jacques Heath (Lily May Peel)</td>\n",
       "      <td>0</td>\n",
       "      <td>35.0</td>\n",
       "      <td>1</td>\n",
       "      <td>0</td>\n",
       "      <td>113803</td>\n",
       "      <td>53.1000</td>\n",
       "      <td>0</td>\n",
       "      <td>0</td>\n",
       "      <td>1</td>\n",
       "      <td>2</td>\n",
       "    </tr>\n",
       "    <tr>\n",
       "      <th>4</th>\n",
       "      <td>5</td>\n",
       "      <td>0</td>\n",
       "      <td>3</td>\n",
       "      <td>Allen, Mr. William Henry</td>\n",
       "      <td>1</td>\n",
       "      <td>35.0</td>\n",
       "      <td>0</td>\n",
       "      <td>0</td>\n",
       "      <td>373450</td>\n",
       "      <td>8.0500</td>\n",
       "      <td>0</td>\n",
       "      <td>0</td>\n",
       "      <td>1</td>\n",
       "      <td>0</td>\n",
       "    </tr>\n",
       "  </tbody>\n",
       "</table>\n",
       "</div>"
      ],
      "text/plain": [
       "   PassengerId  Survived  Pclass  \\\n",
       "0            1         0       3   \n",
       "1            2         1       1   \n",
       "2            3         1       3   \n",
       "3            4         1       1   \n",
       "4            5         0       3   \n",
       "\n",
       "                                                Name  Sex   Age  SibSp  Parch  \\\n",
       "0                            Braund, Mr. Owen Harris    1  22.0      1      0   \n",
       "1  Cumings, Mrs. John Bradley (Florence Briggs Th...    0  38.0      1      0   \n",
       "2                             Heikkinen, Miss. Laina    0  26.0      0      0   \n",
       "3       Futrelle, Mrs. Jacques Heath (Lily May Peel)    0  35.0      1      0   \n",
       "4                           Allen, Mr. William Henry    1  35.0      0      0   \n",
       "\n",
       "             Ticket     Fare  Embarked_C  Embarked_Q  Embarked_S  title  \n",
       "0         A/5 21171   7.2500           0           0           1      0  \n",
       "1          PC 17599  71.2833           1           0           0      2  \n",
       "2  STON/O2. 3101282   7.9250           0           0           1      1  \n",
       "3            113803  53.1000           0           0           1      2  \n",
       "4            373450   8.0500           0           0           1      0  "
      ]
     },
     "execution_count": 71,
     "metadata": {},
     "output_type": "execute_result"
    }
   ],
   "source": [
    "train.head()"
   ]
  },
  {
   "cell_type": "code",
   "execution_count": 72,
   "id": "3953f9ca",
   "metadata": {
    "execution": {
     "iopub.execute_input": "2024-11-01T04:51:01.912321Z",
     "iopub.status.busy": "2024-11-01T04:51:01.911873Z",
     "iopub.status.idle": "2024-11-01T04:51:01.918437Z",
     "shell.execute_reply": "2024-11-01T04:51:01.917199Z"
    },
    "executionInfo": {
     "elapsed": 10,
     "status": "ok",
     "timestamp": 1719433759709,
     "user": {
      "displayName": "Muhamad Dafa Rizkiyanto",
      "userId": "16029394966179110856"
     },
     "user_tz": -420
    },
    "id": "QSQmHt9hN3ZV",
    "papermill": {
     "duration": 0.050129,
     "end_time": "2024-11-01T04:51:01.920725",
     "exception": false,
     "start_time": "2024-11-01T04:51:01.870596",
     "status": "completed"
    },
    "tags": []
   },
   "outputs": [],
   "source": [
    "test['title'] = test['title'].map(title_mapping)"
   ]
  },
  {
   "cell_type": "code",
   "execution_count": 73,
   "id": "4a6f0e92",
   "metadata": {
    "execution": {
     "iopub.execute_input": "2024-11-01T04:51:02.001112Z",
     "iopub.status.busy": "2024-11-01T04:51:02.000675Z",
     "iopub.status.idle": "2024-11-01T04:51:02.017651Z",
     "shell.execute_reply": "2024-11-01T04:51:02.016499Z"
    },
    "executionInfo": {
     "elapsed": 12,
     "status": "ok",
     "timestamp": 1719433759712,
     "user": {
      "displayName": "Muhamad Dafa Rizkiyanto",
      "userId": "16029394966179110856"
     },
     "user_tz": -420
    },
    "id": "wzKeKeYqOCQo",
    "outputId": "ceb91c30-d8cd-40b1-d27b-90948e92fc57",
    "papermill": {
     "duration": 0.059892,
     "end_time": "2024-11-01T04:51:02.020137",
     "exception": false,
     "start_time": "2024-11-01T04:51:01.960245",
     "status": "completed"
    },
    "tags": []
   },
   "outputs": [
    {
     "data": {
      "text/html": [
       "<div>\n",
       "<style scoped>\n",
       "    .dataframe tbody tr th:only-of-type {\n",
       "        vertical-align: middle;\n",
       "    }\n",
       "\n",
       "    .dataframe tbody tr th {\n",
       "        vertical-align: top;\n",
       "    }\n",
       "\n",
       "    .dataframe thead th {\n",
       "        text-align: right;\n",
       "    }\n",
       "</style>\n",
       "<table border=\"1\" class=\"dataframe\">\n",
       "  <thead>\n",
       "    <tr style=\"text-align: right;\">\n",
       "      <th></th>\n",
       "      <th>PassengerId</th>\n",
       "      <th>Pclass</th>\n",
       "      <th>Name</th>\n",
       "      <th>Sex</th>\n",
       "      <th>Age</th>\n",
       "      <th>SibSp</th>\n",
       "      <th>Parch</th>\n",
       "      <th>Ticket</th>\n",
       "      <th>Fare</th>\n",
       "      <th>Embarked_C</th>\n",
       "      <th>Embarked_Q</th>\n",
       "      <th>Embarked_S</th>\n",
       "      <th>title</th>\n",
       "    </tr>\n",
       "  </thead>\n",
       "  <tbody>\n",
       "    <tr>\n",
       "      <th>0</th>\n",
       "      <td>892</td>\n",
       "      <td>3</td>\n",
       "      <td>Kelly, Mr. James</td>\n",
       "      <td>1</td>\n",
       "      <td>34.5</td>\n",
       "      <td>0</td>\n",
       "      <td>0</td>\n",
       "      <td>330911</td>\n",
       "      <td>7.8292</td>\n",
       "      <td>0</td>\n",
       "      <td>1</td>\n",
       "      <td>0</td>\n",
       "      <td>0</td>\n",
       "    </tr>\n",
       "    <tr>\n",
       "      <th>1</th>\n",
       "      <td>893</td>\n",
       "      <td>3</td>\n",
       "      <td>Wilkes, Mrs. James (Ellen Needs)</td>\n",
       "      <td>0</td>\n",
       "      <td>47.0</td>\n",
       "      <td>1</td>\n",
       "      <td>0</td>\n",
       "      <td>363272</td>\n",
       "      <td>7.0000</td>\n",
       "      <td>0</td>\n",
       "      <td>0</td>\n",
       "      <td>1</td>\n",
       "      <td>2</td>\n",
       "    </tr>\n",
       "    <tr>\n",
       "      <th>2</th>\n",
       "      <td>894</td>\n",
       "      <td>2</td>\n",
       "      <td>Myles, Mr. Thomas Francis</td>\n",
       "      <td>1</td>\n",
       "      <td>62.0</td>\n",
       "      <td>0</td>\n",
       "      <td>0</td>\n",
       "      <td>240276</td>\n",
       "      <td>9.6875</td>\n",
       "      <td>0</td>\n",
       "      <td>1</td>\n",
       "      <td>0</td>\n",
       "      <td>0</td>\n",
       "    </tr>\n",
       "    <tr>\n",
       "      <th>3</th>\n",
       "      <td>895</td>\n",
       "      <td>3</td>\n",
       "      <td>Wirz, Mr. Albert</td>\n",
       "      <td>1</td>\n",
       "      <td>27.0</td>\n",
       "      <td>0</td>\n",
       "      <td>0</td>\n",
       "      <td>315154</td>\n",
       "      <td>8.6625</td>\n",
       "      <td>0</td>\n",
       "      <td>0</td>\n",
       "      <td>1</td>\n",
       "      <td>0</td>\n",
       "    </tr>\n",
       "    <tr>\n",
       "      <th>4</th>\n",
       "      <td>896</td>\n",
       "      <td>3</td>\n",
       "      <td>Hirvonen, Mrs. Alexander (Helga E Lindqvist)</td>\n",
       "      <td>0</td>\n",
       "      <td>22.0</td>\n",
       "      <td>1</td>\n",
       "      <td>1</td>\n",
       "      <td>3101298</td>\n",
       "      <td>12.2875</td>\n",
       "      <td>0</td>\n",
       "      <td>0</td>\n",
       "      <td>1</td>\n",
       "      <td>2</td>\n",
       "    </tr>\n",
       "  </tbody>\n",
       "</table>\n",
       "</div>"
      ],
      "text/plain": [
       "   PassengerId  Pclass                                          Name  Sex  \\\n",
       "0          892       3                              Kelly, Mr. James    1   \n",
       "1          893       3              Wilkes, Mrs. James (Ellen Needs)    0   \n",
       "2          894       2                     Myles, Mr. Thomas Francis    1   \n",
       "3          895       3                              Wirz, Mr. Albert    1   \n",
       "4          896       3  Hirvonen, Mrs. Alexander (Helga E Lindqvist)    0   \n",
       "\n",
       "    Age  SibSp  Parch   Ticket     Fare  Embarked_C  Embarked_Q  Embarked_S  \\\n",
       "0  34.5      0      0   330911   7.8292           0           1           0   \n",
       "1  47.0      1      0   363272   7.0000           0           0           1   \n",
       "2  62.0      0      0   240276   9.6875           0           1           0   \n",
       "3  27.0      0      0   315154   8.6625           0           0           1   \n",
       "4  22.0      1      1  3101298  12.2875           0           0           1   \n",
       "\n",
       "   title  \n",
       "0      0  \n",
       "1      2  \n",
       "2      0  \n",
       "3      0  \n",
       "4      2  "
      ]
     },
     "execution_count": 73,
     "metadata": {},
     "output_type": "execute_result"
    }
   ],
   "source": [
    "test.head()"
   ]
  },
  {
   "cell_type": "markdown",
   "id": "356968ea",
   "metadata": {
    "id": "sgQ8MZU1OJMt",
    "papermill": {
     "duration": 0.039514,
     "end_time": "2024-11-01T04:51:02.099647",
     "exception": false,
     "start_time": "2024-11-01T04:51:02.060133",
     "status": "completed"
    },
    "tags": []
   },
   "source": [
    "# **Select Column**"
   ]
  },
  {
   "cell_type": "code",
   "execution_count": 74,
   "id": "1dee65fc",
   "metadata": {
    "execution": {
     "iopub.execute_input": "2024-11-01T04:51:02.182401Z",
     "iopub.status.busy": "2024-11-01T04:51:02.181946Z",
     "iopub.status.idle": "2024-11-01T04:51:02.188105Z",
     "shell.execute_reply": "2024-11-01T04:51:02.187242Z"
    },
    "executionInfo": {
     "elapsed": 11,
     "status": "ok",
     "timestamp": 1719433759712,
     "user": {
      "displayName": "Muhamad Dafa Rizkiyanto",
      "userId": "16029394966179110856"
     },
     "user_tz": -420
    },
    "id": "L3_e0sGSOLc1",
    "outputId": "08a920e2-55e0-49ae-aabc-0ab33ec7df25",
    "papermill": {
     "duration": 0.049665,
     "end_time": "2024-11-01T04:51:02.190506",
     "exception": false,
     "start_time": "2024-11-01T04:51:02.140841",
     "status": "completed"
    },
    "tags": []
   },
   "outputs": [
    {
     "data": {
      "text/plain": [
       "((891, 14), (418, 13))"
      ]
     },
     "execution_count": 74,
     "metadata": {},
     "output_type": "execute_result"
    }
   ],
   "source": [
    "train.shape, test.shape"
   ]
  },
  {
   "cell_type": "code",
   "execution_count": 75,
   "id": "c477e130",
   "metadata": {
    "execution": {
     "iopub.execute_input": "2024-11-01T04:51:02.273762Z",
     "iopub.status.busy": "2024-11-01T04:51:02.272613Z",
     "iopub.status.idle": "2024-11-01T04:51:02.282425Z",
     "shell.execute_reply": "2024-11-01T04:51:02.281155Z"
    },
    "executionInfo": {
     "elapsed": 9,
     "status": "ok",
     "timestamp": 1719433759712,
     "user": {
      "displayName": "Muhamad Dafa Rizkiyanto",
      "userId": "16029394966179110856"
     },
     "user_tz": -420
    },
    "id": "cPmWv7asOcKs",
    "papermill": {
     "duration": 0.054414,
     "end_time": "2024-11-01T04:51:02.285265",
     "exception": false,
     "start_time": "2024-11-01T04:51:02.230851",
     "status": "completed"
    },
    "tags": []
   },
   "outputs": [],
   "source": [
    "train = train.drop(['PassengerId','Name','Ticket'],axis = 1)\n",
    "test_id = test[['PassengerId']]\n",
    "\n",
    "test = test.drop(['PassengerId','Name','Ticket'],axis = 1)"
   ]
  },
  {
   "cell_type": "code",
   "execution_count": 76,
   "id": "39dc4143",
   "metadata": {
    "execution": {
     "iopub.execute_input": "2024-11-01T04:51:02.368503Z",
     "iopub.status.busy": "2024-11-01T04:51:02.367391Z",
     "iopub.status.idle": "2024-11-01T04:51:02.385816Z",
     "shell.execute_reply": "2024-11-01T04:51:02.384623Z"
    },
    "executionInfo": {
     "elapsed": 511,
     "status": "ok",
     "timestamp": 1719433760215,
     "user": {
      "displayName": "Muhamad Dafa Rizkiyanto",
      "userId": "16029394966179110856"
     },
     "user_tz": -420
    },
    "id": "-F0f22gWOuP6",
    "outputId": "477bca54-fd68-4255-ef38-021c97277b3c",
    "papermill": {
     "duration": 0.062315,
     "end_time": "2024-11-01T04:51:02.387964",
     "exception": false,
     "start_time": "2024-11-01T04:51:02.325649",
     "status": "completed"
    },
    "tags": []
   },
   "outputs": [
    {
     "data": {
      "text/html": [
       "<div>\n",
       "<style scoped>\n",
       "    .dataframe tbody tr th:only-of-type {\n",
       "        vertical-align: middle;\n",
       "    }\n",
       "\n",
       "    .dataframe tbody tr th {\n",
       "        vertical-align: top;\n",
       "    }\n",
       "\n",
       "    .dataframe thead th {\n",
       "        text-align: right;\n",
       "    }\n",
       "</style>\n",
       "<table border=\"1\" class=\"dataframe\">\n",
       "  <thead>\n",
       "    <tr style=\"text-align: right;\">\n",
       "      <th></th>\n",
       "      <th>Survived</th>\n",
       "      <th>Pclass</th>\n",
       "      <th>Sex</th>\n",
       "      <th>Age</th>\n",
       "      <th>SibSp</th>\n",
       "      <th>Parch</th>\n",
       "      <th>Fare</th>\n",
       "      <th>Embarked_C</th>\n",
       "      <th>Embarked_Q</th>\n",
       "      <th>Embarked_S</th>\n",
       "      <th>title</th>\n",
       "    </tr>\n",
       "  </thead>\n",
       "  <tbody>\n",
       "    <tr>\n",
       "      <th>0</th>\n",
       "      <td>0</td>\n",
       "      <td>3</td>\n",
       "      <td>1</td>\n",
       "      <td>22.0</td>\n",
       "      <td>1</td>\n",
       "      <td>0</td>\n",
       "      <td>7.2500</td>\n",
       "      <td>0</td>\n",
       "      <td>0</td>\n",
       "      <td>1</td>\n",
       "      <td>0</td>\n",
       "    </tr>\n",
       "    <tr>\n",
       "      <th>1</th>\n",
       "      <td>1</td>\n",
       "      <td>1</td>\n",
       "      <td>0</td>\n",
       "      <td>38.0</td>\n",
       "      <td>1</td>\n",
       "      <td>0</td>\n",
       "      <td>71.2833</td>\n",
       "      <td>1</td>\n",
       "      <td>0</td>\n",
       "      <td>0</td>\n",
       "      <td>2</td>\n",
       "    </tr>\n",
       "    <tr>\n",
       "      <th>2</th>\n",
       "      <td>1</td>\n",
       "      <td>3</td>\n",
       "      <td>0</td>\n",
       "      <td>26.0</td>\n",
       "      <td>0</td>\n",
       "      <td>0</td>\n",
       "      <td>7.9250</td>\n",
       "      <td>0</td>\n",
       "      <td>0</td>\n",
       "      <td>1</td>\n",
       "      <td>1</td>\n",
       "    </tr>\n",
       "    <tr>\n",
       "      <th>3</th>\n",
       "      <td>1</td>\n",
       "      <td>1</td>\n",
       "      <td>0</td>\n",
       "      <td>35.0</td>\n",
       "      <td>1</td>\n",
       "      <td>0</td>\n",
       "      <td>53.1000</td>\n",
       "      <td>0</td>\n",
       "      <td>0</td>\n",
       "      <td>1</td>\n",
       "      <td>2</td>\n",
       "    </tr>\n",
       "    <tr>\n",
       "      <th>4</th>\n",
       "      <td>0</td>\n",
       "      <td>3</td>\n",
       "      <td>1</td>\n",
       "      <td>35.0</td>\n",
       "      <td>0</td>\n",
       "      <td>0</td>\n",
       "      <td>8.0500</td>\n",
       "      <td>0</td>\n",
       "      <td>0</td>\n",
       "      <td>1</td>\n",
       "      <td>0</td>\n",
       "    </tr>\n",
       "  </tbody>\n",
       "</table>\n",
       "</div>"
      ],
      "text/plain": [
       "   Survived  Pclass  Sex   Age  SibSp  Parch     Fare  Embarked_C  Embarked_Q  \\\n",
       "0         0       3    1  22.0      1      0   7.2500           0           0   \n",
       "1         1       1    0  38.0      1      0  71.2833           1           0   \n",
       "2         1       3    0  26.0      0      0   7.9250           0           0   \n",
       "3         1       1    0  35.0      1      0  53.1000           0           0   \n",
       "4         0       3    1  35.0      0      0   8.0500           0           0   \n",
       "\n",
       "   Embarked_S  title  \n",
       "0           1      0  \n",
       "1           0      2  \n",
       "2           1      1  \n",
       "3           1      2  \n",
       "4           1      0  "
      ]
     },
     "execution_count": 76,
     "metadata": {},
     "output_type": "execute_result"
    }
   ],
   "source": [
    "train.head()"
   ]
  },
  {
   "cell_type": "code",
   "execution_count": 77,
   "id": "e9d6bcb9",
   "metadata": {
    "execution": {
     "iopub.execute_input": "2024-11-01T04:51:02.472306Z",
     "iopub.status.busy": "2024-11-01T04:51:02.471293Z",
     "iopub.status.idle": "2024-11-01T04:51:02.488551Z",
     "shell.execute_reply": "2024-11-01T04:51:02.487371Z"
    },
    "executionInfo": {
     "elapsed": 5,
     "status": "ok",
     "timestamp": 1719433760216,
     "user": {
      "displayName": "Muhamad Dafa Rizkiyanto",
      "userId": "16029394966179110856"
     },
     "user_tz": -420
    },
    "id": "bjWD8nWXOwOw",
    "outputId": "952d66a8-ed3a-45fc-9b23-43cd8cc520f3",
    "papermill": {
     "duration": 0.061824,
     "end_time": "2024-11-01T04:51:02.490820",
     "exception": false,
     "start_time": "2024-11-01T04:51:02.428996",
     "status": "completed"
    },
    "tags": []
   },
   "outputs": [
    {
     "data": {
      "text/html": [
       "<div>\n",
       "<style scoped>\n",
       "    .dataframe tbody tr th:only-of-type {\n",
       "        vertical-align: middle;\n",
       "    }\n",
       "\n",
       "    .dataframe tbody tr th {\n",
       "        vertical-align: top;\n",
       "    }\n",
       "\n",
       "    .dataframe thead th {\n",
       "        text-align: right;\n",
       "    }\n",
       "</style>\n",
       "<table border=\"1\" class=\"dataframe\">\n",
       "  <thead>\n",
       "    <tr style=\"text-align: right;\">\n",
       "      <th></th>\n",
       "      <th>Pclass</th>\n",
       "      <th>Sex</th>\n",
       "      <th>Age</th>\n",
       "      <th>SibSp</th>\n",
       "      <th>Parch</th>\n",
       "      <th>Fare</th>\n",
       "      <th>Embarked_C</th>\n",
       "      <th>Embarked_Q</th>\n",
       "      <th>Embarked_S</th>\n",
       "      <th>title</th>\n",
       "    </tr>\n",
       "  </thead>\n",
       "  <tbody>\n",
       "    <tr>\n",
       "      <th>0</th>\n",
       "      <td>3</td>\n",
       "      <td>1</td>\n",
       "      <td>34.5</td>\n",
       "      <td>0</td>\n",
       "      <td>0</td>\n",
       "      <td>7.8292</td>\n",
       "      <td>0</td>\n",
       "      <td>1</td>\n",
       "      <td>0</td>\n",
       "      <td>0</td>\n",
       "    </tr>\n",
       "    <tr>\n",
       "      <th>1</th>\n",
       "      <td>3</td>\n",
       "      <td>0</td>\n",
       "      <td>47.0</td>\n",
       "      <td>1</td>\n",
       "      <td>0</td>\n",
       "      <td>7.0000</td>\n",
       "      <td>0</td>\n",
       "      <td>0</td>\n",
       "      <td>1</td>\n",
       "      <td>2</td>\n",
       "    </tr>\n",
       "    <tr>\n",
       "      <th>2</th>\n",
       "      <td>2</td>\n",
       "      <td>1</td>\n",
       "      <td>62.0</td>\n",
       "      <td>0</td>\n",
       "      <td>0</td>\n",
       "      <td>9.6875</td>\n",
       "      <td>0</td>\n",
       "      <td>1</td>\n",
       "      <td>0</td>\n",
       "      <td>0</td>\n",
       "    </tr>\n",
       "    <tr>\n",
       "      <th>3</th>\n",
       "      <td>3</td>\n",
       "      <td>1</td>\n",
       "      <td>27.0</td>\n",
       "      <td>0</td>\n",
       "      <td>0</td>\n",
       "      <td>8.6625</td>\n",
       "      <td>0</td>\n",
       "      <td>0</td>\n",
       "      <td>1</td>\n",
       "      <td>0</td>\n",
       "    </tr>\n",
       "    <tr>\n",
       "      <th>4</th>\n",
       "      <td>3</td>\n",
       "      <td>0</td>\n",
       "      <td>22.0</td>\n",
       "      <td>1</td>\n",
       "      <td>1</td>\n",
       "      <td>12.2875</td>\n",
       "      <td>0</td>\n",
       "      <td>0</td>\n",
       "      <td>1</td>\n",
       "      <td>2</td>\n",
       "    </tr>\n",
       "  </tbody>\n",
       "</table>\n",
       "</div>"
      ],
      "text/plain": [
       "   Pclass  Sex   Age  SibSp  Parch     Fare  Embarked_C  Embarked_Q  \\\n",
       "0       3    1  34.5      0      0   7.8292           0           1   \n",
       "1       3    0  47.0      1      0   7.0000           0           0   \n",
       "2       2    1  62.0      0      0   9.6875           0           1   \n",
       "3       3    1  27.0      0      0   8.6625           0           0   \n",
       "4       3    0  22.0      1      1  12.2875           0           0   \n",
       "\n",
       "   Embarked_S  title  \n",
       "0           0      0  \n",
       "1           1      2  \n",
       "2           0      0  \n",
       "3           1      0  \n",
       "4           1      2  "
      ]
     },
     "execution_count": 77,
     "metadata": {},
     "output_type": "execute_result"
    }
   ],
   "source": [
    "test.head()"
   ]
  },
  {
   "cell_type": "markdown",
   "id": "8e65e55c",
   "metadata": {
    "id": "MRaoJCU4PhBF",
    "papermill": {
     "duration": 0.039818,
     "end_time": "2024-11-01T04:51:02.570775",
     "exception": false,
     "start_time": "2024-11-01T04:51:02.530957",
     "status": "completed"
    },
    "tags": []
   },
   "source": [
    "# **MODELLING**"
   ]
  },
  {
   "cell_type": "code",
   "execution_count": 78,
   "id": "7dad2d4f",
   "metadata": {
    "execution": {
     "iopub.execute_input": "2024-11-01T04:51:02.654178Z",
     "iopub.status.busy": "2024-11-01T04:51:02.653009Z",
     "iopub.status.idle": "2024-11-01T04:51:02.661602Z",
     "shell.execute_reply": "2024-11-01T04:51:02.660385Z"
    },
    "executionInfo": {
     "elapsed": 383,
     "status": "ok",
     "timestamp": 1719434095279,
     "user": {
      "displayName": "Muhamad Dafa Rizkiyanto",
      "userId": "16029394966179110856"
     },
     "user_tz": -420
    },
    "id": "x8LElJKePjHN",
    "outputId": "22ff4a10-ac23-4f5a-fcc2-2aa7bf8deb63",
    "papermill": {
     "duration": 0.052802,
     "end_time": "2024-11-01T04:51:02.663870",
     "exception": false,
     "start_time": "2024-11-01T04:51:02.611068",
     "status": "completed"
    },
    "tags": []
   },
   "outputs": [
    {
     "data": {
      "text/plain": [
       "((891, 11), (418, 10))"
      ]
     },
     "execution_count": 78,
     "metadata": {},
     "output_type": "execute_result"
    }
   ],
   "source": [
    "train.shape, test.shape"
   ]
  },
  {
   "cell_type": "code",
   "execution_count": 79,
   "id": "a82705d5",
   "metadata": {
    "execution": {
     "iopub.execute_input": "2024-11-01T04:51:02.748760Z",
     "iopub.status.busy": "2024-11-01T04:51:02.747625Z",
     "iopub.status.idle": "2024-11-01T04:51:02.766412Z",
     "shell.execute_reply": "2024-11-01T04:51:02.765187Z"
    },
    "executionInfo": {
     "elapsed": 400,
     "status": "ok",
     "timestamp": 1719434102926,
     "user": {
      "displayName": "Muhamad Dafa Rizkiyanto",
      "userId": "16029394966179110856"
     },
     "user_tz": -420
    },
    "id": "HsD4t1POQjpx",
    "outputId": "db04298e-57db-480b-e4a2-051bf602a824",
    "papermill": {
     "duration": 0.063709,
     "end_time": "2024-11-01T04:51:02.768639",
     "exception": false,
     "start_time": "2024-11-01T04:51:02.704930",
     "status": "completed"
    },
    "tags": []
   },
   "outputs": [
    {
     "data": {
      "text/html": [
       "<div>\n",
       "<style scoped>\n",
       "    .dataframe tbody tr th:only-of-type {\n",
       "        vertical-align: middle;\n",
       "    }\n",
       "\n",
       "    .dataframe tbody tr th {\n",
       "        vertical-align: top;\n",
       "    }\n",
       "\n",
       "    .dataframe thead th {\n",
       "        text-align: right;\n",
       "    }\n",
       "</style>\n",
       "<table border=\"1\" class=\"dataframe\">\n",
       "  <thead>\n",
       "    <tr style=\"text-align: right;\">\n",
       "      <th></th>\n",
       "      <th>Survived</th>\n",
       "      <th>Pclass</th>\n",
       "      <th>Sex</th>\n",
       "      <th>Age</th>\n",
       "      <th>SibSp</th>\n",
       "      <th>Parch</th>\n",
       "      <th>Fare</th>\n",
       "      <th>Embarked_C</th>\n",
       "      <th>Embarked_Q</th>\n",
       "      <th>Embarked_S</th>\n",
       "      <th>title</th>\n",
       "    </tr>\n",
       "  </thead>\n",
       "  <tbody>\n",
       "    <tr>\n",
       "      <th>0</th>\n",
       "      <td>0</td>\n",
       "      <td>3</td>\n",
       "      <td>1</td>\n",
       "      <td>22.0</td>\n",
       "      <td>1</td>\n",
       "      <td>0</td>\n",
       "      <td>7.2500</td>\n",
       "      <td>0</td>\n",
       "      <td>0</td>\n",
       "      <td>1</td>\n",
       "      <td>0</td>\n",
       "    </tr>\n",
       "    <tr>\n",
       "      <th>1</th>\n",
       "      <td>1</td>\n",
       "      <td>1</td>\n",
       "      <td>0</td>\n",
       "      <td>38.0</td>\n",
       "      <td>1</td>\n",
       "      <td>0</td>\n",
       "      <td>71.2833</td>\n",
       "      <td>1</td>\n",
       "      <td>0</td>\n",
       "      <td>0</td>\n",
       "      <td>2</td>\n",
       "    </tr>\n",
       "    <tr>\n",
       "      <th>2</th>\n",
       "      <td>1</td>\n",
       "      <td>3</td>\n",
       "      <td>0</td>\n",
       "      <td>26.0</td>\n",
       "      <td>0</td>\n",
       "      <td>0</td>\n",
       "      <td>7.9250</td>\n",
       "      <td>0</td>\n",
       "      <td>0</td>\n",
       "      <td>1</td>\n",
       "      <td>1</td>\n",
       "    </tr>\n",
       "    <tr>\n",
       "      <th>3</th>\n",
       "      <td>1</td>\n",
       "      <td>1</td>\n",
       "      <td>0</td>\n",
       "      <td>35.0</td>\n",
       "      <td>1</td>\n",
       "      <td>0</td>\n",
       "      <td>53.1000</td>\n",
       "      <td>0</td>\n",
       "      <td>0</td>\n",
       "      <td>1</td>\n",
       "      <td>2</td>\n",
       "    </tr>\n",
       "    <tr>\n",
       "      <th>4</th>\n",
       "      <td>0</td>\n",
       "      <td>3</td>\n",
       "      <td>1</td>\n",
       "      <td>35.0</td>\n",
       "      <td>0</td>\n",
       "      <td>0</td>\n",
       "      <td>8.0500</td>\n",
       "      <td>0</td>\n",
       "      <td>0</td>\n",
       "      <td>1</td>\n",
       "      <td>0</td>\n",
       "    </tr>\n",
       "  </tbody>\n",
       "</table>\n",
       "</div>"
      ],
      "text/plain": [
       "   Survived  Pclass  Sex   Age  SibSp  Parch     Fare  Embarked_C  Embarked_Q  \\\n",
       "0         0       3    1  22.0      1      0   7.2500           0           0   \n",
       "1         1       1    0  38.0      1      0  71.2833           1           0   \n",
       "2         1       3    0  26.0      0      0   7.9250           0           0   \n",
       "3         1       1    0  35.0      1      0  53.1000           0           0   \n",
       "4         0       3    1  35.0      0      0   8.0500           0           0   \n",
       "\n",
       "   Embarked_S  title  \n",
       "0           1      0  \n",
       "1           0      2  \n",
       "2           1      1  \n",
       "3           1      2  \n",
       "4           1      0  "
      ]
     },
     "execution_count": 79,
     "metadata": {},
     "output_type": "execute_result"
    }
   ],
   "source": [
    "train.head()"
   ]
  },
  {
   "cell_type": "code",
   "execution_count": 80,
   "id": "c6e04705",
   "metadata": {
    "execution": {
     "iopub.execute_input": "2024-11-01T04:51:02.854565Z",
     "iopub.status.busy": "2024-11-01T04:51:02.853830Z",
     "iopub.status.idle": "2024-11-01T04:51:02.868030Z",
     "shell.execute_reply": "2024-11-01T04:51:02.866953Z"
    },
    "executionInfo": {
     "elapsed": 411,
     "status": "ok",
     "timestamp": 1719434107710,
     "user": {
      "displayName": "Muhamad Dafa Rizkiyanto",
      "userId": "16029394966179110856"
     },
     "user_tz": -420
    },
    "id": "JjIrNzPUQkg7",
    "outputId": "4ea21ea3-ea66-4e26-b613-5fb35a9de1f6",
    "papermill": {
     "duration": 0.058368,
     "end_time": "2024-11-01T04:51:02.870374",
     "exception": false,
     "start_time": "2024-11-01T04:51:02.812006",
     "status": "completed"
    },
    "tags": []
   },
   "outputs": [
    {
     "data": {
      "text/html": [
       "<div>\n",
       "<style scoped>\n",
       "    .dataframe tbody tr th:only-of-type {\n",
       "        vertical-align: middle;\n",
       "    }\n",
       "\n",
       "    .dataframe tbody tr th {\n",
       "        vertical-align: top;\n",
       "    }\n",
       "\n",
       "    .dataframe thead th {\n",
       "        text-align: right;\n",
       "    }\n",
       "</style>\n",
       "<table border=\"1\" class=\"dataframe\">\n",
       "  <thead>\n",
       "    <tr style=\"text-align: right;\">\n",
       "      <th></th>\n",
       "      <th>Pclass</th>\n",
       "      <th>Sex</th>\n",
       "      <th>Age</th>\n",
       "      <th>SibSp</th>\n",
       "      <th>Parch</th>\n",
       "      <th>Fare</th>\n",
       "      <th>Embarked_C</th>\n",
       "      <th>Embarked_Q</th>\n",
       "      <th>Embarked_S</th>\n",
       "      <th>title</th>\n",
       "    </tr>\n",
       "  </thead>\n",
       "  <tbody>\n",
       "    <tr>\n",
       "      <th>0</th>\n",
       "      <td>3</td>\n",
       "      <td>1</td>\n",
       "      <td>34.5</td>\n",
       "      <td>0</td>\n",
       "      <td>0</td>\n",
       "      <td>7.8292</td>\n",
       "      <td>0</td>\n",
       "      <td>1</td>\n",
       "      <td>0</td>\n",
       "      <td>0</td>\n",
       "    </tr>\n",
       "    <tr>\n",
       "      <th>1</th>\n",
       "      <td>3</td>\n",
       "      <td>0</td>\n",
       "      <td>47.0</td>\n",
       "      <td>1</td>\n",
       "      <td>0</td>\n",
       "      <td>7.0000</td>\n",
       "      <td>0</td>\n",
       "      <td>0</td>\n",
       "      <td>1</td>\n",
       "      <td>2</td>\n",
       "    </tr>\n",
       "    <tr>\n",
       "      <th>2</th>\n",
       "      <td>2</td>\n",
       "      <td>1</td>\n",
       "      <td>62.0</td>\n",
       "      <td>0</td>\n",
       "      <td>0</td>\n",
       "      <td>9.6875</td>\n",
       "      <td>0</td>\n",
       "      <td>1</td>\n",
       "      <td>0</td>\n",
       "      <td>0</td>\n",
       "    </tr>\n",
       "    <tr>\n",
       "      <th>3</th>\n",
       "      <td>3</td>\n",
       "      <td>1</td>\n",
       "      <td>27.0</td>\n",
       "      <td>0</td>\n",
       "      <td>0</td>\n",
       "      <td>8.6625</td>\n",
       "      <td>0</td>\n",
       "      <td>0</td>\n",
       "      <td>1</td>\n",
       "      <td>0</td>\n",
       "    </tr>\n",
       "    <tr>\n",
       "      <th>4</th>\n",
       "      <td>3</td>\n",
       "      <td>0</td>\n",
       "      <td>22.0</td>\n",
       "      <td>1</td>\n",
       "      <td>1</td>\n",
       "      <td>12.2875</td>\n",
       "      <td>0</td>\n",
       "      <td>0</td>\n",
       "      <td>1</td>\n",
       "      <td>2</td>\n",
       "    </tr>\n",
       "  </tbody>\n",
       "</table>\n",
       "</div>"
      ],
      "text/plain": [
       "   Pclass  Sex   Age  SibSp  Parch     Fare  Embarked_C  Embarked_Q  \\\n",
       "0       3    1  34.5      0      0   7.8292           0           1   \n",
       "1       3    0  47.0      1      0   7.0000           0           0   \n",
       "2       2    1  62.0      0      0   9.6875           0           1   \n",
       "3       3    1  27.0      0      0   8.6625           0           0   \n",
       "4       3    0  22.0      1      1  12.2875           0           0   \n",
       "\n",
       "   Embarked_S  title  \n",
       "0           0      0  \n",
       "1           1      2  \n",
       "2           0      0  \n",
       "3           1      0  \n",
       "4           1      2  "
      ]
     },
     "execution_count": 80,
     "metadata": {},
     "output_type": "execute_result"
    }
   ],
   "source": [
    "test.head()"
   ]
  },
  {
   "cell_type": "code",
   "execution_count": 81,
   "id": "b694ed0d",
   "metadata": {
    "execution": {
     "iopub.execute_input": "2024-11-01T04:51:02.953457Z",
     "iopub.status.busy": "2024-11-01T04:51:02.952637Z",
     "iopub.status.idle": "2024-11-01T04:51:03.560917Z",
     "shell.execute_reply": "2024-11-01T04:51:03.559893Z"
    },
    "executionInfo": {
     "elapsed": 393,
     "status": "ok",
     "timestamp": 1719434196865,
     "user": {
      "displayName": "Muhamad Dafa Rizkiyanto",
      "userId": "16029394966179110856"
     },
     "user_tz": -420
    },
    "id": "DurORgMQQoau",
    "papermill": {
     "duration": 0.652685,
     "end_time": "2024-11-01T04:51:03.563535",
     "exception": false,
     "start_time": "2024-11-01T04:51:02.910850",
     "status": "completed"
    },
    "tags": []
   },
   "outputs": [],
   "source": [
    "# Importing Classifier Modules\n",
    "from sklearn.neighbors import KNeighborsClassifier\n",
    "from sklearn.tree import DecisionTreeClassifier\n",
    "from sklearn.ensemble import RandomForestClassifier\n",
    "from sklearn.naive_bayes import GaussianNB\n",
    "from sklearn.svm import SVC\n",
    "\n",
    "from sklearn.model_selection import KFold\n",
    "from sklearn.model_selection import cross_val_score"
   ]
  },
  {
   "cell_type": "code",
   "execution_count": 82,
   "id": "4b9f3ff1",
   "metadata": {
    "execution": {
     "iopub.execute_input": "2024-11-01T04:51:03.650243Z",
     "iopub.status.busy": "2024-11-01T04:51:03.649276Z",
     "iopub.status.idle": "2024-11-01T04:51:03.656042Z",
     "shell.execute_reply": "2024-11-01T04:51:03.654989Z"
    },
    "executionInfo": {
     "elapsed": 387,
     "status": "ok",
     "timestamp": 1719434328731,
     "user": {
      "displayName": "Muhamad Dafa Rizkiyanto",
      "userId": "16029394966179110856"
     },
     "user_tz": -420
    },
    "id": "PulWNv52Q8UY",
    "papermill": {
     "duration": 0.053535,
     "end_time": "2024-11-01T04:51:03.658445",
     "exception": false,
     "start_time": "2024-11-01T04:51:03.604910",
     "status": "completed"
    },
    "tags": []
   },
   "outputs": [],
   "source": [
    "train_data = train.drop(['Survived'], axis = 1)\n",
    "target = train['Survived']"
   ]
  },
  {
   "cell_type": "code",
   "execution_count": 83,
   "id": "9b68e885",
   "metadata": {
    "execution": {
     "iopub.execute_input": "2024-11-01T04:51:03.746555Z",
     "iopub.status.busy": "2024-11-01T04:51:03.745689Z",
     "iopub.status.idle": "2024-11-01T04:51:03.784014Z",
     "shell.execute_reply": "2024-11-01T04:51:03.782594Z"
    },
    "executionInfo": {
     "elapsed": 378,
     "status": "ok",
     "timestamp": 1719434511716,
     "user": {
      "displayName": "Muhamad Dafa Rizkiyanto",
      "userId": "16029394966179110856"
     },
     "user_tz": -420
    },
    "id": "0iW9IaYiRTZD",
    "outputId": "6bc30a3a-b2af-4f51-f91b-c93d708f255b",
    "papermill": {
     "duration": 0.084165,
     "end_time": "2024-11-01T04:51:03.786452",
     "exception": false,
     "start_time": "2024-11-01T04:51:03.702287",
     "status": "completed"
    },
    "tags": []
   },
   "outputs": [
    {
     "name": "stdout",
     "output_type": "stream",
     "text": [
      "[0.78212291 0.78651685 0.78089888 0.8258427  0.82022472]\n"
     ]
    }
   ],
   "source": [
    "k_fold = KFold(n_splits=5 , shuffle=True, random_state=0)\n",
    "\n",
    "clf = GaussianNB()\n",
    "scoring = 'accuracy'\n",
    "score_GNB = cross_val_score(clf, train_data, target, cv=k_fold, n_jobs=1, scoring=scoring)\n",
    "print(score_GNB)"
   ]
  },
  {
   "cell_type": "code",
   "execution_count": 84,
   "id": "0143ff77",
   "metadata": {
    "execution": {
     "iopub.execute_input": "2024-11-01T04:51:03.870351Z",
     "iopub.status.busy": "2024-11-01T04:51:03.869274Z",
     "iopub.status.idle": "2024-11-01T04:51:03.876572Z",
     "shell.execute_reply": "2024-11-01T04:51:03.875431Z"
    },
    "executionInfo": {
     "elapsed": 2,
     "status": "ok",
     "timestamp": 1719434512904,
     "user": {
      "displayName": "Muhamad Dafa Rizkiyanto",
      "userId": "16029394966179110856"
     },
     "user_tz": -420
    },
    "id": "fePt_HFwR2rs",
    "outputId": "7d31d5e2-cabf-4030-e433-139ac19c8ee6",
    "papermill": {
     "duration": 0.051569,
     "end_time": "2024-11-01T04:51:03.878833",
     "exception": false,
     "start_time": "2024-11-01T04:51:03.827264",
     "status": "completed"
    },
    "tags": []
   },
   "outputs": [
    {
     "data": {
      "text/plain": [
       "0.7991212102190698"
      ]
     },
     "execution_count": 84,
     "metadata": {},
     "output_type": "execute_result"
    }
   ],
   "source": [
    "score_GNB.mean()"
   ]
  },
  {
   "cell_type": "code",
   "execution_count": 85,
   "id": "b1189e51",
   "metadata": {
    "execution": {
     "iopub.execute_input": "2024-11-01T04:51:03.962588Z",
     "iopub.status.busy": "2024-11-01T04:51:03.961767Z",
     "iopub.status.idle": "2024-11-01T04:51:04.008293Z",
     "shell.execute_reply": "2024-11-01T04:51:04.007037Z"
    },
    "executionInfo": {
     "elapsed": 376,
     "status": "ok",
     "timestamp": 1719434522440,
     "user": {
      "displayName": "Muhamad Dafa Rizkiyanto",
      "userId": "16029394966179110856"
     },
     "user_tz": -420
    },
    "id": "GxR8FjxIR4ec",
    "outputId": "608bcb65-0a1d-4ad7-e850-c04e28b76d6b",
    "papermill": {
     "duration": 0.091073,
     "end_time": "2024-11-01T04:51:04.010691",
     "exception": false,
     "start_time": "2024-11-01T04:51:03.919618",
     "status": "completed"
    },
    "tags": []
   },
   "outputs": [
    {
     "name": "stdout",
     "output_type": "stream",
     "text": [
      "[0.73184358 0.79775281 0.78651685 0.76966292 0.79775281]\n"
     ]
    }
   ],
   "source": [
    "k_fold = KFold(n_splits=5 , shuffle=True, random_state=0)\n",
    "\n",
    "clf = DecisionTreeClassifier()\n",
    "scoring = 'accuracy'\n",
    "score_DT = cross_val_score(clf, train_data, target, cv=k_fold, n_jobs=1, scoring=scoring)\n",
    "print(score_DT)"
   ]
  },
  {
   "cell_type": "code",
   "execution_count": 86,
   "id": "1403515b",
   "metadata": {
    "execution": {
     "iopub.execute_input": "2024-11-01T04:51:04.094400Z",
     "iopub.status.busy": "2024-11-01T04:51:04.093575Z",
     "iopub.status.idle": "2024-11-01T04:51:04.100367Z",
     "shell.execute_reply": "2024-11-01T04:51:04.099290Z"
    },
    "executionInfo": {
     "elapsed": 389,
     "status": "ok",
     "timestamp": 1719434528866,
     "user": {
      "displayName": "Muhamad Dafa Rizkiyanto",
      "userId": "16029394966179110856"
     },
     "user_tz": -420
    },
    "id": "NyMyFc9dSBT9",
    "outputId": "113aaaef-27be-441f-ac62-f5a4f117a1dd",
    "papermill": {
     "duration": 0.05115,
     "end_time": "2024-11-01T04:51:04.102650",
     "exception": false,
     "start_time": "2024-11-01T04:51:04.051500",
     "status": "completed"
    },
    "tags": []
   },
   "outputs": [
    {
     "data": {
      "text/plain": [
       "0.7767057937354842"
      ]
     },
     "execution_count": 86,
     "metadata": {},
     "output_type": "execute_result"
    }
   ],
   "source": [
    "score_DT.mean()"
   ]
  },
  {
   "cell_type": "markdown",
   "id": "e43a608d",
   "metadata": {
    "id": "WjJa8sOaSY_-",
    "papermill": {
     "duration": 0.04052,
     "end_time": "2024-11-01T04:51:04.185940",
     "exception": false,
     "start_time": "2024-11-01T04:51:04.145420",
     "status": "completed"
    },
    "tags": []
   },
   "source": [
    "# **PREDICTION USING GAUSSIAN NB (HIGHER ACCURACY THAN DT IN THIS CASE)**"
   ]
  },
  {
   "cell_type": "code",
   "execution_count": 87,
   "id": "b5ce6576",
   "metadata": {
    "execution": {
     "iopub.execute_input": "2024-11-01T04:51:04.271372Z",
     "iopub.status.busy": "2024-11-01T04:51:04.270220Z",
     "iopub.status.idle": "2024-11-01T04:51:04.285082Z",
     "shell.execute_reply": "2024-11-01T04:51:04.283972Z"
    },
    "executionInfo": {
     "elapsed": 598,
     "status": "ok",
     "timestamp": 1719434619649,
     "user": {
      "displayName": "Muhamad Dafa Rizkiyanto",
      "userId": "16029394966179110856"
     },
     "user_tz": -420
    },
    "id": "GfjFH5qSSf68",
    "outputId": "5f2fd107-cbc4-4c16-dca6-3dd703ea169b",
    "papermill": {
     "duration": 0.059592,
     "end_time": "2024-11-01T04:51:04.287450",
     "exception": false,
     "start_time": "2024-11-01T04:51:04.227858",
     "status": "completed"
    },
    "tags": []
   },
   "outputs": [
    {
     "data": {
      "text/html": [
       "<div>\n",
       "<style scoped>\n",
       "    .dataframe tbody tr th:only-of-type {\n",
       "        vertical-align: middle;\n",
       "    }\n",
       "\n",
       "    .dataframe tbody tr th {\n",
       "        vertical-align: top;\n",
       "    }\n",
       "\n",
       "    .dataframe thead th {\n",
       "        text-align: right;\n",
       "    }\n",
       "</style>\n",
       "<table border=\"1\" class=\"dataframe\">\n",
       "  <thead>\n",
       "    <tr style=\"text-align: right;\">\n",
       "      <th></th>\n",
       "      <th>Pclass</th>\n",
       "      <th>Sex</th>\n",
       "      <th>Age</th>\n",
       "      <th>SibSp</th>\n",
       "      <th>Parch</th>\n",
       "      <th>Fare</th>\n",
       "      <th>Embarked_C</th>\n",
       "      <th>Embarked_Q</th>\n",
       "      <th>Embarked_S</th>\n",
       "      <th>title</th>\n",
       "    </tr>\n",
       "  </thead>\n",
       "  <tbody>\n",
       "    <tr>\n",
       "      <th>0</th>\n",
       "      <td>3</td>\n",
       "      <td>1</td>\n",
       "      <td>34.5</td>\n",
       "      <td>0</td>\n",
       "      <td>0</td>\n",
       "      <td>7.8292</td>\n",
       "      <td>0</td>\n",
       "      <td>1</td>\n",
       "      <td>0</td>\n",
       "      <td>0</td>\n",
       "    </tr>\n",
       "    <tr>\n",
       "      <th>1</th>\n",
       "      <td>3</td>\n",
       "      <td>0</td>\n",
       "      <td>47.0</td>\n",
       "      <td>1</td>\n",
       "      <td>0</td>\n",
       "      <td>7.0000</td>\n",
       "      <td>0</td>\n",
       "      <td>0</td>\n",
       "      <td>1</td>\n",
       "      <td>2</td>\n",
       "    </tr>\n",
       "    <tr>\n",
       "      <th>2</th>\n",
       "      <td>2</td>\n",
       "      <td>1</td>\n",
       "      <td>62.0</td>\n",
       "      <td>0</td>\n",
       "      <td>0</td>\n",
       "      <td>9.6875</td>\n",
       "      <td>0</td>\n",
       "      <td>1</td>\n",
       "      <td>0</td>\n",
       "      <td>0</td>\n",
       "    </tr>\n",
       "    <tr>\n",
       "      <th>3</th>\n",
       "      <td>3</td>\n",
       "      <td>1</td>\n",
       "      <td>27.0</td>\n",
       "      <td>0</td>\n",
       "      <td>0</td>\n",
       "      <td>8.6625</td>\n",
       "      <td>0</td>\n",
       "      <td>0</td>\n",
       "      <td>1</td>\n",
       "      <td>0</td>\n",
       "    </tr>\n",
       "    <tr>\n",
       "      <th>4</th>\n",
       "      <td>3</td>\n",
       "      <td>0</td>\n",
       "      <td>22.0</td>\n",
       "      <td>1</td>\n",
       "      <td>1</td>\n",
       "      <td>12.2875</td>\n",
       "      <td>0</td>\n",
       "      <td>0</td>\n",
       "      <td>1</td>\n",
       "      <td>2</td>\n",
       "    </tr>\n",
       "  </tbody>\n",
       "</table>\n",
       "</div>"
      ],
      "text/plain": [
       "   Pclass  Sex   Age  SibSp  Parch     Fare  Embarked_C  Embarked_Q  \\\n",
       "0       3    1  34.5      0      0   7.8292           0           1   \n",
       "1       3    0  47.0      1      0   7.0000           0           0   \n",
       "2       2    1  62.0      0      0   9.6875           0           1   \n",
       "3       3    1  27.0      0      0   8.6625           0           0   \n",
       "4       3    0  22.0      1      1  12.2875           0           0   \n",
       "\n",
       "   Embarked_S  title  \n",
       "0           0      0  \n",
       "1           1      2  \n",
       "2           0      0  \n",
       "3           1      0  \n",
       "4           1      2  "
      ]
     },
     "execution_count": 87,
     "metadata": {},
     "output_type": "execute_result"
    }
   ],
   "source": [
    "test.head()"
   ]
  },
  {
   "cell_type": "code",
   "execution_count": 88,
   "id": "08e248d0",
   "metadata": {
    "execution": {
     "iopub.execute_input": "2024-11-01T04:51:04.371887Z",
     "iopub.status.busy": "2024-11-01T04:51:04.371465Z",
     "iopub.status.idle": "2024-11-01T04:51:04.384318Z",
     "shell.execute_reply": "2024-11-01T04:51:04.383256Z"
    },
    "executionInfo": {
     "elapsed": 396,
     "status": "ok",
     "timestamp": 1719434653297,
     "user": {
      "displayName": "Muhamad Dafa Rizkiyanto",
      "userId": "16029394966179110856"
     },
     "user_tz": -420
    },
    "id": "ndbPCbC3SjMT",
    "outputId": "0fe264a2-9966-40ca-b8d6-d8ef5379c20e",
    "papermill": {
     "duration": 0.058176,
     "end_time": "2024-11-01T04:51:04.386907",
     "exception": false,
     "start_time": "2024-11-01T04:51:04.328731",
     "status": "completed"
    },
    "tags": []
   },
   "outputs": [
    {
     "data": {
      "text/html": [
       "<style>#sk-container-id-1 {color: black;background-color: white;}#sk-container-id-1 pre{padding: 0;}#sk-container-id-1 div.sk-toggleable {background-color: white;}#sk-container-id-1 label.sk-toggleable__label {cursor: pointer;display: block;width: 100%;margin-bottom: 0;padding: 0.3em;box-sizing: border-box;text-align: center;}#sk-container-id-1 label.sk-toggleable__label-arrow:before {content: \"▸\";float: left;margin-right: 0.25em;color: #696969;}#sk-container-id-1 label.sk-toggleable__label-arrow:hover:before {color: black;}#sk-container-id-1 div.sk-estimator:hover label.sk-toggleable__label-arrow:before {color: black;}#sk-container-id-1 div.sk-toggleable__content {max-height: 0;max-width: 0;overflow: hidden;text-align: left;background-color: #f0f8ff;}#sk-container-id-1 div.sk-toggleable__content pre {margin: 0.2em;color: black;border-radius: 0.25em;background-color: #f0f8ff;}#sk-container-id-1 input.sk-toggleable__control:checked~div.sk-toggleable__content {max-height: 200px;max-width: 100%;overflow: auto;}#sk-container-id-1 input.sk-toggleable__control:checked~label.sk-toggleable__label-arrow:before {content: \"▾\";}#sk-container-id-1 div.sk-estimator input.sk-toggleable__control:checked~label.sk-toggleable__label {background-color: #d4ebff;}#sk-container-id-1 div.sk-label input.sk-toggleable__control:checked~label.sk-toggleable__label {background-color: #d4ebff;}#sk-container-id-1 input.sk-hidden--visually {border: 0;clip: rect(1px 1px 1px 1px);clip: rect(1px, 1px, 1px, 1px);height: 1px;margin: -1px;overflow: hidden;padding: 0;position: absolute;width: 1px;}#sk-container-id-1 div.sk-estimator {font-family: monospace;background-color: #f0f8ff;border: 1px dotted black;border-radius: 0.25em;box-sizing: border-box;margin-bottom: 0.5em;}#sk-container-id-1 div.sk-estimator:hover {background-color: #d4ebff;}#sk-container-id-1 div.sk-parallel-item::after {content: \"\";width: 100%;border-bottom: 1px solid gray;flex-grow: 1;}#sk-container-id-1 div.sk-label:hover label.sk-toggleable__label {background-color: #d4ebff;}#sk-container-id-1 div.sk-serial::before {content: \"\";position: absolute;border-left: 1px solid gray;box-sizing: border-box;top: 0;bottom: 0;left: 50%;z-index: 0;}#sk-container-id-1 div.sk-serial {display: flex;flex-direction: column;align-items: center;background-color: white;padding-right: 0.2em;padding-left: 0.2em;position: relative;}#sk-container-id-1 div.sk-item {position: relative;z-index: 1;}#sk-container-id-1 div.sk-parallel {display: flex;align-items: stretch;justify-content: center;background-color: white;position: relative;}#sk-container-id-1 div.sk-item::before, #sk-container-id-1 div.sk-parallel-item::before {content: \"\";position: absolute;border-left: 1px solid gray;box-sizing: border-box;top: 0;bottom: 0;left: 50%;z-index: -1;}#sk-container-id-1 div.sk-parallel-item {display: flex;flex-direction: column;z-index: 1;position: relative;background-color: white;}#sk-container-id-1 div.sk-parallel-item:first-child::after {align-self: flex-end;width: 50%;}#sk-container-id-1 div.sk-parallel-item:last-child::after {align-self: flex-start;width: 50%;}#sk-container-id-1 div.sk-parallel-item:only-child::after {width: 0;}#sk-container-id-1 div.sk-dashed-wrapped {border: 1px dashed gray;margin: 0 0.4em 0.5em 0.4em;box-sizing: border-box;padding-bottom: 0.4em;background-color: white;}#sk-container-id-1 div.sk-label label {font-family: monospace;font-weight: bold;display: inline-block;line-height: 1.2em;}#sk-container-id-1 div.sk-label-container {text-align: center;}#sk-container-id-1 div.sk-container {/* jupyter's `normalize.less` sets `[hidden] { display: none; }` but bootstrap.min.css set `[hidden] { display: none !important; }` so we also need the `!important` here to be able to override the default hidden behavior on the sphinx rendered scikit-learn.org. See: https://github.com/scikit-learn/scikit-learn/issues/21755 */display: inline-block !important;position: relative;}#sk-container-id-1 div.sk-text-repr-fallback {display: none;}</style><div id=\"sk-container-id-1\" class=\"sk-top-container\"><div class=\"sk-text-repr-fallback\"><pre>GaussianNB()</pre><b>In a Jupyter environment, please rerun this cell to show the HTML representation or trust the notebook. <br />On GitHub, the HTML representation is unable to render, please try loading this page with nbviewer.org.</b></div><div class=\"sk-container\" hidden><div class=\"sk-item\"><div class=\"sk-estimator sk-toggleable\"><input class=\"sk-toggleable__control sk-hidden--visually\" id=\"sk-estimator-id-1\" type=\"checkbox\" checked><label for=\"sk-estimator-id-1\" class=\"sk-toggleable__label sk-toggleable__label-arrow\">GaussianNB</label><div class=\"sk-toggleable__content\"><pre>GaussianNB()</pre></div></div></div></div></div>"
      ],
      "text/plain": [
       "GaussianNB()"
      ]
     },
     "execution_count": 88,
     "metadata": {},
     "output_type": "execute_result"
    }
   ],
   "source": [
    "clf = GaussianNB()\n",
    "clf.fit(train_data,target)"
   ]
  },
  {
   "cell_type": "code",
   "execution_count": 89,
   "id": "5587dae3",
   "metadata": {
    "execution": {
     "iopub.execute_input": "2024-11-01T04:51:04.474811Z",
     "iopub.status.busy": "2024-11-01T04:51:04.474384Z",
     "iopub.status.idle": "2024-11-01T04:51:04.483677Z",
     "shell.execute_reply": "2024-11-01T04:51:04.482559Z"
    },
    "executionInfo": {
     "elapsed": 394,
     "status": "ok",
     "timestamp": 1719434704112,
     "user": {
      "displayName": "Muhamad Dafa Rizkiyanto",
      "userId": "16029394966179110856"
     },
     "user_tz": -420
    },
    "id": "LA_aTqOUSzYs",
    "outputId": "f972f6db-25f5-42c3-fa94-4a623b77b578",
    "papermill": {
     "duration": 0.055984,
     "end_time": "2024-11-01T04:51:04.485890",
     "exception": false,
     "start_time": "2024-11-01T04:51:04.429906",
     "status": "completed"
    },
    "tags": []
   },
   "outputs": [
    {
     "data": {
      "text/plain": [
       "Pclass        0\n",
       "Sex           0\n",
       "Age           0\n",
       "SibSp         0\n",
       "Parch         0\n",
       "Fare          0\n",
       "Embarked_C    0\n",
       "Embarked_Q    0\n",
       "Embarked_S    0\n",
       "title         0\n",
       "dtype: int64"
      ]
     },
     "execution_count": 89,
     "metadata": {},
     "output_type": "execute_result"
    }
   ],
   "source": [
    "test.isnull().sum()"
   ]
  },
  {
   "cell_type": "code",
   "execution_count": 90,
   "id": "92067ee2",
   "metadata": {
    "execution": {
     "iopub.execute_input": "2024-11-01T04:51:04.574755Z",
     "iopub.status.busy": "2024-11-01T04:51:04.574309Z",
     "iopub.status.idle": "2024-11-01T04:51:04.582285Z",
     "shell.execute_reply": "2024-11-01T04:51:04.581024Z"
    },
    "executionInfo": {
     "elapsed": 387,
     "status": "ok",
     "timestamp": 1719434777875,
     "user": {
      "displayName": "Muhamad Dafa Rizkiyanto",
      "userId": "16029394966179110856"
     },
     "user_tz": -420
    },
    "id": "R54pHk4qSr3a",
    "papermill": {
     "duration": 0.055426,
     "end_time": "2024-11-01T04:51:04.584565",
     "exception": false,
     "start_time": "2024-11-01T04:51:04.529139",
     "status": "completed"
    },
    "tags": []
   },
   "outputs": [],
   "source": [
    "prediction = clf.predict(test)"
   ]
  },
  {
   "cell_type": "code",
   "execution_count": 91,
   "id": "4bb05957",
   "metadata": {
    "execution": {
     "iopub.execute_input": "2024-11-01T04:51:04.673246Z",
     "iopub.status.busy": "2024-11-01T04:51:04.672772Z",
     "iopub.status.idle": "2024-11-01T04:51:04.687860Z",
     "shell.execute_reply": "2024-11-01T04:51:04.686744Z"
    },
    "executionInfo": {
     "elapsed": 374,
     "status": "ok",
     "timestamp": 1719434927048,
     "user": {
      "displayName": "Muhamad Dafa Rizkiyanto",
      "userId": "16029394966179110856"
     },
     "user_tz": -420
    },
    "id": "eULtVheMTK6E",
    "outputId": "007e312b-1563-4c8f-af04-b93f470d1f0a",
    "papermill": {
     "duration": 0.062706,
     "end_time": "2024-11-01T04:51:04.690423",
     "exception": false,
     "start_time": "2024-11-01T04:51:04.627717",
     "status": "completed"
    },
    "tags": []
   },
   "outputs": [
    {
     "data": {
      "text/html": [
       "<div>\n",
       "<style scoped>\n",
       "    .dataframe tbody tr th:only-of-type {\n",
       "        vertical-align: middle;\n",
       "    }\n",
       "\n",
       "    .dataframe tbody tr th {\n",
       "        vertical-align: top;\n",
       "    }\n",
       "\n",
       "    .dataframe thead th {\n",
       "        text-align: right;\n",
       "    }\n",
       "</style>\n",
       "<table border=\"1\" class=\"dataframe\">\n",
       "  <thead>\n",
       "    <tr style=\"text-align: right;\">\n",
       "      <th></th>\n",
       "      <th>PassengerId</th>\n",
       "      <th>Survived</th>\n",
       "    </tr>\n",
       "  </thead>\n",
       "  <tbody>\n",
       "    <tr>\n",
       "      <th>0</th>\n",
       "      <td>892</td>\n",
       "      <td>0</td>\n",
       "    </tr>\n",
       "    <tr>\n",
       "      <th>1</th>\n",
       "      <td>893</td>\n",
       "      <td>1</td>\n",
       "    </tr>\n",
       "    <tr>\n",
       "      <th>2</th>\n",
       "      <td>894</td>\n",
       "      <td>0</td>\n",
       "    </tr>\n",
       "    <tr>\n",
       "      <th>3</th>\n",
       "      <td>895</td>\n",
       "      <td>0</td>\n",
       "    </tr>\n",
       "    <tr>\n",
       "      <th>4</th>\n",
       "      <td>896</td>\n",
       "      <td>1</td>\n",
       "    </tr>\n",
       "  </tbody>\n",
       "</table>\n",
       "</div>"
      ],
      "text/plain": [
       "   PassengerId  Survived\n",
       "0          892         0\n",
       "1          893         1\n",
       "2          894         0\n",
       "3          895         0\n",
       "4          896         1"
      ]
     },
     "execution_count": 91,
     "metadata": {},
     "output_type": "execute_result"
    }
   ],
   "source": [
    "df_test = pd.read_csv('/kaggle/input/titanic/test.csv', encoding='latin-1')\n",
    "submission = pd.DataFrame({\n",
    "    \"PassengerId\" : df_test['PassengerId'],\n",
    "    \"Survived\" : prediction\n",
    "})\n",
    "\n",
    "submission.head()"
   ]
  },
  {
   "cell_type": "code",
   "execution_count": 92,
   "id": "bb90a403",
   "metadata": {
    "execution": {
     "iopub.execute_input": "2024-11-01T04:51:04.779234Z",
     "iopub.status.busy": "2024-11-01T04:51:04.778171Z",
     "iopub.status.idle": "2024-11-01T04:51:04.786485Z",
     "shell.execute_reply": "2024-11-01T04:51:04.785395Z"
    },
    "executionInfo": {
     "elapsed": 368,
     "status": "ok",
     "timestamp": 1719434966756,
     "user": {
      "displayName": "Muhamad Dafa Rizkiyanto",
      "userId": "16029394966179110856"
     },
     "user_tz": -420
    },
    "id": "0GLp31DQTxRD",
    "papermill": {
     "duration": 0.055286,
     "end_time": "2024-11-01T04:51:04.788932",
     "exception": false,
     "start_time": "2024-11-01T04:51:04.733646",
     "status": "completed"
    },
    "tags": []
   },
   "outputs": [],
   "source": [
    "submission.to_csv('submit.csv', index = False)"
   ]
  },
  {
   "cell_type": "code",
   "execution_count": 93,
   "id": "d42fa681",
   "metadata": {
    "execution": {
     "iopub.execute_input": "2024-11-01T04:51:04.876616Z",
     "iopub.status.busy": "2024-11-01T04:51:04.875775Z",
     "iopub.status.idle": "2024-11-01T04:51:04.891027Z",
     "shell.execute_reply": "2024-11-01T04:51:04.889778Z"
    },
    "executionInfo": {
     "elapsed": 394,
     "status": "ok",
     "timestamp": 1719435006727,
     "user": {
      "displayName": "Muhamad Dafa Rizkiyanto",
      "userId": "16029394966179110856"
     },
     "user_tz": -420
    },
    "id": "VWziCYHET3nD",
    "outputId": "4178c159-0442-44f8-9ab9-72eec42e72c3",
    "papermill": {
     "duration": 0.061873,
     "end_time": "2024-11-01T04:51:04.893411",
     "exception": false,
     "start_time": "2024-11-01T04:51:04.831538",
     "status": "completed"
    },
    "tags": []
   },
   "outputs": [
    {
     "data": {
      "text/html": [
       "<div>\n",
       "<style scoped>\n",
       "    .dataframe tbody tr th:only-of-type {\n",
       "        vertical-align: middle;\n",
       "    }\n",
       "\n",
       "    .dataframe tbody tr th {\n",
       "        vertical-align: top;\n",
       "    }\n",
       "\n",
       "    .dataframe thead th {\n",
       "        text-align: right;\n",
       "    }\n",
       "</style>\n",
       "<table border=\"1\" class=\"dataframe\">\n",
       "  <thead>\n",
       "    <tr style=\"text-align: right;\">\n",
       "      <th></th>\n",
       "      <th>Pclass</th>\n",
       "      <th>Sex</th>\n",
       "      <th>Age</th>\n",
       "      <th>SibSp</th>\n",
       "      <th>Parch</th>\n",
       "      <th>Fare</th>\n",
       "      <th>Embarked_C</th>\n",
       "      <th>Embarked_Q</th>\n",
       "      <th>Embarked_S</th>\n",
       "      <th>title</th>\n",
       "      <th>Survived</th>\n",
       "    </tr>\n",
       "  </thead>\n",
       "  <tbody>\n",
       "    <tr>\n",
       "      <th>0</th>\n",
       "      <td>3</td>\n",
       "      <td>1</td>\n",
       "      <td>34.5</td>\n",
       "      <td>0</td>\n",
       "      <td>0</td>\n",
       "      <td>7.8292</td>\n",
       "      <td>0</td>\n",
       "      <td>1</td>\n",
       "      <td>0</td>\n",
       "      <td>0</td>\n",
       "      <td>0</td>\n",
       "    </tr>\n",
       "    <tr>\n",
       "      <th>1</th>\n",
       "      <td>3</td>\n",
       "      <td>0</td>\n",
       "      <td>47.0</td>\n",
       "      <td>1</td>\n",
       "      <td>0</td>\n",
       "      <td>7.0000</td>\n",
       "      <td>0</td>\n",
       "      <td>0</td>\n",
       "      <td>1</td>\n",
       "      <td>2</td>\n",
       "      <td>1</td>\n",
       "    </tr>\n",
       "    <tr>\n",
       "      <th>2</th>\n",
       "      <td>2</td>\n",
       "      <td>1</td>\n",
       "      <td>62.0</td>\n",
       "      <td>0</td>\n",
       "      <td>0</td>\n",
       "      <td>9.6875</td>\n",
       "      <td>0</td>\n",
       "      <td>1</td>\n",
       "      <td>0</td>\n",
       "      <td>0</td>\n",
       "      <td>0</td>\n",
       "    </tr>\n",
       "    <tr>\n",
       "      <th>3</th>\n",
       "      <td>3</td>\n",
       "      <td>1</td>\n",
       "      <td>27.0</td>\n",
       "      <td>0</td>\n",
       "      <td>0</td>\n",
       "      <td>8.6625</td>\n",
       "      <td>0</td>\n",
       "      <td>0</td>\n",
       "      <td>1</td>\n",
       "      <td>0</td>\n",
       "      <td>0</td>\n",
       "    </tr>\n",
       "    <tr>\n",
       "      <th>4</th>\n",
       "      <td>3</td>\n",
       "      <td>0</td>\n",
       "      <td>22.0</td>\n",
       "      <td>1</td>\n",
       "      <td>1</td>\n",
       "      <td>12.2875</td>\n",
       "      <td>0</td>\n",
       "      <td>0</td>\n",
       "      <td>1</td>\n",
       "      <td>2</td>\n",
       "      <td>1</td>\n",
       "    </tr>\n",
       "  </tbody>\n",
       "</table>\n",
       "</div>"
      ],
      "text/plain": [
       "   Pclass  Sex   Age  SibSp  Parch     Fare  Embarked_C  Embarked_Q  \\\n",
       "0       3    1  34.5      0      0   7.8292           0           1   \n",
       "1       3    0  47.0      1      0   7.0000           0           0   \n",
       "2       2    1  62.0      0      0   9.6875           0           1   \n",
       "3       3    1  27.0      0      0   8.6625           0           0   \n",
       "4       3    0  22.0      1      1  12.2875           0           0   \n",
       "\n",
       "   Embarked_S  title  Survived  \n",
       "0           0      0         0  \n",
       "1           1      2         1  \n",
       "2           0      0         0  \n",
       "3           1      0         0  \n",
       "4           1      2         1  "
      ]
     },
     "execution_count": 93,
     "metadata": {},
     "output_type": "execute_result"
    }
   ],
   "source": [
    "test['Survived'] = submission['Survived']\n",
    "test.head()"
   ]
  }
 ],
 "metadata": {
  "colab": {
   "authorship_tag": "ABX9TyOKqMxZ5SARZc6Fwi4hxNTN",
   "provenance": []
  },
  "kaggle": {
   "accelerator": "none",
   "dataSources": [
    {
     "databundleVersionId": 26502,
     "sourceId": 3136,
     "sourceType": "competition"
    }
   ],
   "dockerImageVersionId": 30786,
   "isGpuEnabled": false,
   "isInternetEnabled": true,
   "language": "python",
   "sourceType": "notebook"
  },
  "kernelspec": {
   "display_name": "Python 3",
   "language": "python",
   "name": "python3"
  },
  "language_info": {
   "codemirror_mode": {
    "name": "ipython",
    "version": 3
   },
   "file_extension": ".py",
   "mimetype": "text/x-python",
   "name": "python",
   "nbconvert_exporter": "python",
   "pygments_lexer": "ipython3",
   "version": "3.10.14"
  },
  "papermill": {
   "default_parameters": {},
   "duration": 20.348235,
   "end_time": "2024-11-01T04:51:05.714954",
   "environment_variables": {},
   "exception": null,
   "input_path": "__notebook__.ipynb",
   "output_path": "__notebook__.ipynb",
   "parameters": {},
   "start_time": "2024-11-01T04:50:45.366719",
   "version": "2.6.0"
  }
 },
 "nbformat": 4,
 "nbformat_minor": 5
}
